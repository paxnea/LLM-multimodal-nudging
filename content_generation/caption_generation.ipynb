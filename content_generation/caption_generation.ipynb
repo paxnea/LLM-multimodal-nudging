{
 "cells": [
  {
   "cell_type": "markdown",
   "id": "575f6f05",
   "metadata": {},
   "source": [
    "## Image Caption Generation"
   ]
  },
  {
   "cell_type": "code",
   "execution_count": 1,
   "id": "5fd8631b",
   "metadata": {},
   "outputs": [
    {
     "data": {
      "application/vnd.jupyter.widget-view+json": {
       "model_id": "a9c97fcb94a54553b6346347505de370",
       "version_major": 2,
       "version_minor": 0
      },
      "text/plain": [
       "Loading checkpoint shards:   0%|          | 0/6 [00:00<?, ?it/s]"
      ]
     },
     "metadata": {},
     "output_type": "display_data"
    }
   ],
   "source": [
    "import os\n",
    "from PIL import Image\n",
    "from transformers import Blip2Processor, Blip2ForConditionalGeneration\n",
    "import torch\n",
    "import pandas as pd\n",
    "\n",
    "\n",
    "# Model setup: BLIP2 Flan T5-xxl\n",
    "device = \"cuda\" if torch.cuda.is_available() else \"cpu\"\n",
    "processor = Blip2Processor.from_pretrained(\"Salesforce/blip2-flan-t5-xxl\")\n",
    "model = Blip2ForConditionalGeneration.from_pretrained(\n",
    "    \"Salesforce/blip2-flan-t5-xxl\", torch_dtype=torch.float32)\n",
    "model.to(device);"
   ]
  },
  {
   "cell_type": "code",
   "execution_count": 49,
   "id": "c1610e2e",
   "metadata": {},
   "outputs": [],
   "source": [
    "def create_caption(prompt, image):\n",
    "    \"\"\"Create caption for single image\"\"\"\n",
    "    inputs = processor(image, text=prompt, return_tensors=\"pt\").to(device, torch.float32)\n",
    "    generated_ids = model.generate(**inputs, min_new_tokens=12, max_new_tokens=20, temperature=0)\n",
    "    generated_text = processor.batch_decode(generated_ids, skip_special_tokens=True)[0].strip()\n",
    "    \n",
    "    return generated_text\n",
    "\n",
    "def caption_images(prompt, image_dir='./images/'):\n",
    "    \"\"\"Create caption for all images in directory\"\"\"\n",
    "    captions = []\n",
    "    for image_name in sorted(os.listdir(image_dir)):\n",
    "        if image_name == '.DS_Store':\n",
    "            continue\n",
    "        image = Image.open(image_dir + image_name)\n",
    "        caption = create_caption(prompt, image)\n",
    "        captions.append(caption)\n",
    "        print(f'{image_name}: {caption}')\n",
    "    return captions"
   ]
  },
  {
   "cell_type": "code",
   "execution_count": 51,
   "id": "2e7299ed",
   "metadata": {},
   "outputs": [
    {
     "name": "stdout",
     "output_type": "stream",
     "text": [
      "pexels-akshar-dave-977971.png: male, young, indian, playing guitar, smiling, sitting\n",
      "pexels-andrea-piacquadio-3768176.png: woman, adult, white, sitting at a desk, writing\n",
      "pexels-andrea-piacquadio-3769999.png: woman, adult, white, preparing food, preparing food, cooking, cooking, cooking,\n",
      "pexels-andrea-piacquadio-3782829.png: senior, white, male, holding a book, walking\n",
      "pexels-andrea-piacquadio-3786748.png: female, adult, white, reading a book with a beagle\n",
      "pexels-andrea-piacquadio-3814539.png: senior, white, male, sewing, working on a sewing machine\n",
      "pexels-andrea-piacquadio-3967832.png: female, young, adult, and smiling while leaning on the edge of a pool\n",
      "pexels-anna-keibalo-18018780.png: young, white, male, listening to music, headphones, outdoors\n",
      "pexels-anna-shvets-5711880.png: male, adult, white, working on wood, making furniture\n",
      "pexels-arun-thomas-2093578.png: female, young, asian, taking a photo with a camera\n",
      "pexels-baihaki-hine-1883944.png: male, young, adult, and indonesian, and they are hiking\n",
      "pexels-beyzaa-yurtkuran-13533591.png: male, adult, white, reading a newspaper, crossword puzzle\n",
      "pexels-bruno-bueno-3861715.png: male, young, adult, and they are making art with paper\n",
      "pexels-cottonbro-studio-3692762.png: man, adult, white, cooking, frying, preparing food\n",
      "pexels-cottonbro-studio-3738088.png: female, young, adult, white, sewing, working on a sewing machine\n",
      "pexels-cottonbro-studio-4056535.png: woman, adult, afro-american, meditating, yoga\n",
      "pexels-cottonbro-studio-4114602.png: young, white, male, chess, playing, chess\n",
      "pexels-cottonbro-studio-5585242.png: senior, female, white, knitting, sitting at a table\n",
      "pexels-cottonbro-studio-9710643.png: male, adult, black, watering plants in a kitchen\n",
      "pexels-cottonbro-studio-9910853.png: male, adult, white, taking a photo with a camera\n",
      "pexels-daniel-reche-3601094.png: female, young, adult, white, running in the park\n",
      "pexels-ekaterina-bolovtsova-5393440.png: woman, adult, asian, putting flowers in a vase\n",
      "pexels-jopwell-1325752.png: male, adult, black, golfing, teeing off\n",
      "pexels-kampus-production-7854134.png: senior, female, white, cutting a bush with scissors\n",
      "pexels-karolina-grabowska-6633491.png: female, adult, white, and they are working on a puzzle\n",
      "pexels-karolina-grabowska-6633729.png: female, adult, white, coloring a mandala\n",
      "pexels-katya-wolf-8716173.png: female, adult, white, and they are writing calligraphy\n",
      "pexels-kelvin-valerio-810775.png: young, adult, black, looking up at the sky, hat\n",
      "pexels-ketut-subiyanto-4246270.png: woman, adult, white, carrying boxes, moving, moving boxes, moving, moving boxes, moving\n",
      "pexels-ketut-subiyanto-4429054.png: female, young, asian, jogging\n",
      "pexels-ketut-subiyanto-5038861.png: male, young, adult, and he is tying his shoe\n",
      "pexels-king-siberia-2547907.png: female, adult, asian, looking at the sky\n",
      "pexels-lisa-fotios-1453499.png: male, adult, white, and they are mowing the lawn\n",
      "pexels-lucas-allmann-442559.png: young, white, male, backpack, hiking, mountain, forest, view\n",
      "pexels-mehrab-zahedbeigi-7448509.png: senior, white, male, writing, drawing, painting, sketching\n",
      "pexels-nappy-3536630.png: male, young, black, reading to a baby, sitting in a chair\n",
      "pexels-papa-yaw-2531728.png: female, adult, black, singing into a microphone, performing\n",
      "pexels-pavel-danilyuk-7119094.png: male, adult, white, writing at a table, preparing for a meeting\n",
      "pexels-pixabay-163491.png: male, adult, white, posing with a bike\n",
      "pexels-rdne-stock-project-8172945.png: male, adult, senior, and they are doing yoga in the park\n",
      "pexels-rocketmann-team-9507233.png: woman, asian, adult, watering plants, watering plants\n",
      "pexels-shvets-production-7513038.png: woman, adult, white, cleaning the mirror, cleaning the house\n",
      "pexels-shvets-production-7516537.png: female, young, white, writing in a notebook,\n",
      "pexels-shvets-production-8417223.png: senior woman in floral dress with basket on bike in park with trees\n",
      "pexels-shvets-production-8900008.png: senior, male, white, playing with a rubik's cube\n",
      "pexels-tima-miroshnichenko-6713841.png: female, adult, asian, working on a sculpture\n",
      "pexels-tima-miroshnichenko-6790030.png: female, young, black, working on a project in a workshop\n",
      "pexels-tirachard-kumtanom-1001850.png: female, young, adult, white, listening to music outdoors\n",
      "pexels-victor-freitas-703014.png: female, young, adult, and white, and they are lifting a barbell\n",
      "pexels-zen-chung-5749775.png: male, adult, black, walking a dog in the park\n"
     ]
    }
   ],
   "source": [
    "# Visual Question-Answering Prompt\n",
    "prompt = \"Question: What is the gender, age (young, adult, senior), and race of the person in this photo, \\\n",
    "and what are they doing? Answer:\"\n",
    "captions = caption_images(prompt)"
   ]
  },
  {
   "cell_type": "code",
   "execution_count": 52,
   "id": "7898861a",
   "metadata": {},
   "outputs": [],
   "source": [
    "# save generated captions\n",
    "df = pd.DataFrame(captions, columns=['Caption'])\n",
    "df.to_csv('../data/images.csv')"
   ]
  }
 ],
 "metadata": {
  "kernelspec": {
   "display_name": "Python 3 (ipykernel)",
   "language": "python",
   "name": "python3"
  },
  "language_info": {
   "codemirror_mode": {
    "name": "ipython",
    "version": 3
   },
   "file_extension": ".py",
   "mimetype": "text/x-python",
   "name": "python",
   "nbconvert_exporter": "python",
   "pygments_lexer": "ipython3",
   "version": "3.9.12"
  }
 },
 "nbformat": 4,
 "nbformat_minor": 5
}
