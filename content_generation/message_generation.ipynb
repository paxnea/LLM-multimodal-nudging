{
 "cells": [
  {
   "cell_type": "markdown",
   "id": "75d7538c",
   "metadata": {},
   "source": [
    "## Message Generation"
   ]
  },
  {
   "cell_type": "code",
   "execution_count": 1,
   "id": "72bd9b77",
   "metadata": {},
   "outputs": [],
   "source": [
    "import os\n",
    "import pandas as pd\n",
    "import time\n",
    "import openai\n",
    "\n",
    "openai.api_key = os.environ['OPENAI_API_KEY']"
   ]
  },
  {
   "cell_type": "code",
   "execution_count": 2,
   "id": "1f996e07",
   "metadata": {},
   "outputs": [],
   "source": [
    "def get_response(systemcontent, usercontent):\n",
    "    result = openai.ChatCompletion.create(\n",
    "        messages=[\n",
    "            {'role': 'system', 'content': systemcontent},\n",
    "            {'role': 'user', 'content': usercontent},\n",
    "        ],\n",
    "        model='gpt-3.5-turbo-0613')\n",
    "    response = result.choices[0].message.content\n",
    "    return response"
   ]
  },
  {
   "cell_type": "code",
   "execution_count": 3,
   "id": "ddea6727",
   "metadata": {},
   "outputs": [],
   "source": [
    "activities = ['dancing', 'hiking', 'yoga', 'biking', 'walking', 'swimming', 'weightlifting', 'jogging', 'roller skating', 'golfing', 'playing Sudoku', 'reading', 'working on jigsaw puzzles', 'completing crosswords', 'learning a new language', 'meditating', 'playing chess', 'solving a Rubik’s cube', 'listening to music', 'playing solitaire', 'coloring', 'drawing', 'scrapbooking', 'creative writing', 'singing', 'calligraphy', 'embroidery', 'sculpting', 'photography', 'songwriting', 'cleaning', 'cooking', 'knitting', 'sewing', 'gardening', 'woodworking', 'baking', 'home decorating', 'landscaping', 'decluttering']"
   ]
  },
  {
   "cell_type": "code",
   "execution_count": 4,
   "id": "1097d708",
   "metadata": {
    "scrolled": false
   },
   "outputs": [
    {
     "name": "stdout",
     "output_type": "stream",
     "text": [
      "Get up and groove! Dancing is your ticket to fun, fitness, and a break from the screen. Let the music move you!\n",
      "Ditch the screen, hit the trail! Discover nature's wonders, boost your mood, and energize your body with an invigorating hike.\n",
      "Give your eyes a break and let your body flow with the ancient practice of yoga. Feel the tension melt away and experience the incredible benefits of increased flexibility, strength, and inner peace.\n",
      "Hey! Why not leave the screen behind and hop on your bike? Feel the wind in your hair, soak up the sunshine, and boost your mood while getting some exercise. Let's go biking and enjoy the great outdoors!\n",
      "Step away from the screen and let's stroll! Walking boosts energy, clears the mind, and fills your day with fresh inspiration. Let's get moving!\n",
      "Dive into the pool and feel the freedom! Swap screens for a refreshing swim, unleash your energy, and let the water ignite your senses.\n",
      "Why not give your thumbs a break and start pumping some iron? Weightlifting will boost your strength, tone your muscles, and leave you feeling unstoppable!\n",
      "Hey! Ready to get moving? Put down the screen and let's hit the pavement - jogging boosts energy, reduces stress, and gives you a natural high! Let's go!\n",
      "Step away from the screen and let's roll! Experience the thrill of roller skating - it's exhilarating, boosts your mood, and keeps you active. Lace up and let the fun begin!\n",
      "Step away from the screen and tee off into a world of fun and relaxation! Golfing boosts your mood, improves focus, and gets you outdoors enjoying nature. Let's swing into action!\n",
      "Why not give your brain a boost and challenge yourself with Sudoku? It's a fun way to sharpen your mind and improve your problem-solving skills!\n",
      "Give your eyes a break and let your imagination soar with the magic of reading. Rediscover the joy of stories, expand your knowledge, and unlock endless possibilities through the power of books.\n",
      "Why not give your brain a workout and have some fun at the same time? Grab a jigsaw puzzle and let your problem-solving skills shine while enjoying the benefits of improved focus and relaxation!\n",
      "Why not challenge your brain and have some fun with crosswords? They boost your mental agility and memory while giving you a break from screens!\n",
      "Why not discover new horizons and boost your brainpower by immersing yourself in the captivating world of language learning? Open the door to endless possibilities and embrace the incredible benefits of expanding your linguistic skills!\n",
      "Give your mind a well-deserved vacation and unlock a world of calm and clarity through the power of meditation. Experience the transformative benefits that await you!\n",
      "Step away from the screen and dive into the captivating world of chess - sharpen your focus, boost problem-solving skills, and have a blast strategizing your way to victory!\n",
      "Feeling screen overload? Time to conquer the colorful challenge of a Rubik's cube! Unleash your problem-solving skills, improve focus, and enjoy a satisfying victory! Let's cube it!\n",
      "Why stare at screens when you can immerse yourself in the incredible world of music? Let the captivating melodies transport you, boost your mood, and ignite your imagination!\n",
      "Why stare at screens when you can conquer challenging card layouts, boost your focus, and relax with a satisfying game of solitaire? Give it a try, you'll be amazed!\n",
      "Why not add some color to your day? Put down the screen and let your imagination soar as you relax and find inner calm through the therapeutic art of coloring.\n",
      "Give your eyes a break and let your imagination soar! Grab a pen and paper, and discover the joy of drawing while boosting your creativity and reducing screen time.\n",
      "Why not turn off the screen and embark on a delightful journey of preserving memories with scrapbooking - spark joy, unleash your creativity, and create something beautiful to cherish forever!\n",
      "Why not let your imagination soar and bring your stories to life through the power of creative writing? It's a perfect way to unwind, express yourself, and unlock a world of endless possibilities!\n",
      "Give your eyes a break and let your voice shine! Singing boosts mood, relieves stress, and brings joy to your day. So put down the screen and start serenading!\n",
      "Why stare at a screen when you can create stunning art with a pen? Embrace the beauty and mindfulness of calligraphy, and unlock your artistic potential!\n",
      "Why not switch off your screen and dive into the world of embroidery? It's a fantastic way to relax, unleash your creativity, and create something beautiful!\n",
      "Step away from your screen and let your hands mold something extraordinary. Sculpting is a creative adventure that unleashes your imagination and brings joy to your soul. Start sculpting now and experience the incredible benefits of self-expression and relaxation.\n",
      "Capture the world through your lens and unlock a world of creativity, beauty, and self-expression. Embrace the magic of photography and watch your screen time fade away!\n",
      "Why not turn off the screen and let your creativity flow through the magic of songwriting? Unleash your inner artist and experience the joy of self-expression while reaping the benefits of relaxation and inspiration.\n",
      "Give your screen a break and let's clean instead! Cleaning not only tidies up your space, but also clears your mind and brings a fresh start to your day. Let's get cleaning and enjoy the benefits of a clean and organized space!\n",
      "Why not whip up a delicious meal and discover the joy of creating something amazing in the kitchen? Cooking can be a tasty way to unwind, explore new flavors, and nourish your body and soul.\n",
      "Why not give your eyes a break and pick up some knitting needles instead? Knitting is a relaxing and rewarding hobby that can help reduce screen time and boost your creativity!\n",
      "Put down the screen and pick up a needle - sewing is waiting to unleash your creativity and bring a sense of fulfillment and joy to your day!\n",
      "Take a break from screens and discover the joy of gardening - it's like a breath of fresh air, boosts your mood, and lets your inner green thumb bloom!\n",
      "Get off your screen and embrace the joy of woodworking! Discover the satisfaction of creating something with your own hands while unleashing your imagination and reducing stress. Start your woodworking adventure today!\n",
      "Why not give your eyes a break and whip up something delicious in the kitchen? Baking is a tasty way to relax, get creative, and treat yourself!\n",
      "Why not give your screen a rest and transform your space into a cozy oasis? Discover the joy of home decorating and create a sanctuary that brings you calm and happiness.\n",
      "Why not trade your screen for a scenic green? Get outside, breathe in fresh air, and transform your surroundings with the beauty and tranquility of landscaping.\n",
      "Why not give your eyes a break and dive into the satisfying world of decluttering? Clearing your space not only brings a sense of calm, but also boosts productivity and sparks creativity!\n"
     ]
    }
   ],
   "source": [
    "# gpt-3.5-turbo-0613\n",
    "\n",
    "for activity in activities:\n",
    "    systemcontent = f'''You are writing a message encouraging users to reduce their screen time.\n",
    "    The message will be delivered when the user has exceeded the amount of recommended screen time, \\\n",
    "    and should encourage the recipient to step away from their screen and engage in {activity} instead.\n",
    "    \n",
    "    The message should:\n",
    "    be concise -- no longer than two short sentences\n",
    "    use simple language so everyone can understand\n",
    "    be friendly, fun, positive, enthusiastic, and motivating\n",
    "    directly reference {activity} and make it sound enticing\n",
    "    mention the benefits of {activity}\n",
    "    \n",
    "    The message should NOT:\n",
    "    be overly wordy\n",
    "    contain greetings like \"hey there!\" or \"hey!\"\n",
    "    use the words \"refreshing,\" \"time,\" \"escape,\" \"swap,\" take a break,\" or \"unleash your creativity\"\n",
    "    use emojis\n",
    "    be encased in quotation marks\n",
    "    \n",
    "    The goal is to have the recipient put down their phone and be inspired to start {activity} immediately.'''\n",
    "    usercontent = f'Generate a motivating message that proposes the user engage in {activity}.'\n",
    "    response = get_response(systemcontent, usercontent)\n",
    "    print(response)\n",
    "    time.sleep(5)"
   ]
  },
  {
   "cell_type": "code",
   "execution_count": 5,
   "id": "1a828c02",
   "metadata": {},
   "outputs": [],
   "source": [
    "# save generated messages\n",
    "pd.DataFrame(response.split('\\n'), columns=['Message']).to_csv('../data/messages.csv')"
   ]
  }
 ],
 "metadata": {
  "kernelspec": {
   "display_name": "Python 3 (ipykernel)",
   "language": "python",
   "name": "python3"
  },
  "language_info": {
   "codemirror_mode": {
    "name": "ipython",
    "version": 3
   },
   "file_extension": ".py",
   "mimetype": "text/x-python",
   "name": "python",
   "nbconvert_exporter": "python",
   "pygments_lexer": "ipython3",
   "version": "3.9.12"
  }
 },
 "nbformat": 4,
 "nbformat_minor": 5
}
