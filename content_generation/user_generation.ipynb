{
 "cells": [
  {
   "cell_type": "markdown",
   "id": "c2eb480d",
   "metadata": {},
   "source": [
    "## User generation"
   ]
  },
  {
   "cell_type": "code",
   "execution_count": 1,
   "id": "31fff855",
   "metadata": {},
   "outputs": [],
   "source": [
    "import os\n",
    "import pandas as pd\n",
    "import openai\n",
    "\n",
    "openai.api_key = os.environ['OPENAI_API_KEY']"
   ]
  },
  {
   "cell_type": "code",
   "execution_count": 2,
   "id": "01a38c4b",
   "metadata": {},
   "outputs": [],
   "source": [
    "def get_response(usercontent):\n",
    "    result = openai.ChatCompletion.create(\n",
    "        messages=[\n",
    "            {'role': 'user', 'content': usercontent},\n",
    "        ],\n",
    "        model='gpt-4-0613')\n",
    "    response = result.choices[0].message.content\n",
    "    return response"
   ]
  },
  {
   "cell_type": "code",
   "execution_count": 3,
   "id": "64a71f57",
   "metadata": {},
   "outputs": [
    {
     "name": "stdout",
     "output_type": "stream",
     "text": [
      "Gender,Age,Race,Likes,Dislikes\n",
      "Female,23,White,active;outdoors;learning,mental;crafts;homemaking\n",
      "Male,42,Black,outdoors;mental;active,learning;exploration;arts\n",
      "Female,25,Asian,crafts;indoors;arts,passive;mental;outdoors\n",
      "Male,68,Hispanic,passive;indoors;homemaking,relaxation;learning;physical\n",
      "Female,39,White,mental;homemaking;crafts,outdoors;active;relaxation\n",
      "Male,43,Black,outdoors;exploration;relaxation,indoors;passive;homemaking\n",
      "Female,22,Hispanic,active;mental;homenaking,learning;exploration;relaxation\n",
      "Male,45,Asian,indoors;passive;exploration,outdoors;active;mental\n",
      "Female,35,White,active;outdoors;exploration,passive;indoors;physical\n",
      "Male,31,Hispanic,mental;learning;relaxation,outdoors;active;arts\n",
      "Female,26,Black,indoors;passive;crafts,outdoors;active;mental\n",
      "Male,39,Asian,active;mental;homenaking,learning;exploration;relaxation\n",
      "Female,40,White,indoors;passive;exploration,outdoors;active;mental\n",
      "Male,49,Hispanic,outdoors;active;arts,passive;indoors;physical\n",
      "Female,37,Black,mental;learning;crafts,outdoors;active;relaxation\n",
      "Male,41,White,outdoors;active;exploration,passive;indoors;physical\n",
      "Female,48,Asian,active;mental;homenaking,learning;exploration;relaxation\n",
      "Male,56,Hispanic,indoors;passive;exploration,outdoors;active;mental\n",
      "Female,53,White,outdoors;active;arts,passive;indoors;physical\n",
      "Male,60,Black,mental;learning;crafts,outdoors;active;relaxation\n",
      "\n"
     ]
    }
   ],
   "source": [
    "# gpt-4-0613 / temp 1\n",
    "\n",
    "usercontent = '''You are tasked with generating a CSV-formatted dataset of 20 people. \\\n",
    "Each person must have a Gender, Age, Race, Likes, and Dislikes. \\\n",
    "Race must be either White, Black, Asian, or Hispanic. \\\n",
    "Likes and dislikes should be separated by semicolons.\n",
    "\n",
    "There are twelve categories of activities that can be either Likes or Dislikes: \\\n",
    "active, passive, indoors, outdoors, mental, physical, arts, crafts, exploration, relaxation, learning, homemaking.\n",
    "Each person should have three Likes and three Dislikes, sampled at random.\n",
    "\n",
    "Generate a CSV-formatted dataset of 20 diverse people with different Gender, Age, Race, Likes, and Dislikes.'''\n",
    "\n",
    "response = get_response(usercontent)\n",
    "print(response)"
   ]
  },
  {
   "cell_type": "code",
   "execution_count": 4,
   "id": "e5c2ae59",
   "metadata": {},
   "outputs": [],
   "source": [
    "# save generated users\n",
    "with open('../data/users.csv', 'w') as f:\n",
    "    f.write(response)\n",
    "pd.read_csv('../data/users.csv').to_csv('../data/users.csv')"
   ]
  },
  {
   "cell_type": "code",
   "execution_count": null,
   "id": "f1e2c70b",
   "metadata": {},
   "outputs": [],
   "source": []
  }
 ],
 "metadata": {
  "kernelspec": {
   "display_name": "Python 3 (ipykernel)",
   "language": "python",
   "name": "python3"
  },
  "language_info": {
   "codemirror_mode": {
    "name": "ipython",
    "version": 3
   },
   "file_extension": ".py",
   "mimetype": "text/x-python",
   "name": "python",
   "nbconvert_exporter": "python",
   "pygments_lexer": "ipython3",
   "version": "3.7.16"
  }
 },
 "nbformat": 4,
 "nbformat_minor": 5
}
