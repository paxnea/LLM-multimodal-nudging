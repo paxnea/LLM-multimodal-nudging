{
 "cells": [
  {
   "cell_type": "code",
   "execution_count": 13,
   "metadata": {
    "cellId": "mkuldihpzzhvms2v249vub"
   },
   "outputs": [],
   "source": [
    "# %pip install openai  -upgrade --quiet"
   ]
  },
  {
   "cell_type": "code",
   "execution_count": 264,
   "metadata": {
    "cellId": "rwsna54marauushmzmtrq",
    "id": "JKI2wmp4co1n"
   },
   "outputs": [],
   "source": [
    "import time\n",
    "import os\n",
    "import openai\n",
    "import pandas as pd\n",
    "import numpy as np\n",
    "import matplotlib.pyplot as plt\n",
    "from sklearn.decomposition import PCA\n",
    "from scipy.spatial.distance import cosine, euclidean\n",
    "\n",
    "openai.api_key = os.environ['OPENAI_API_KEY']\n",
    "np.set_printoptions(precision=3, suppress=True)\n",
    "\n",
    "\n",
    "def get_embedding(text, sleep=0):\n",
    "    '''Compute GPT3-embedding for a given text string'''\n",
    "    time.sleep(sleep)\n",
    "    result = openai.Embedding.create(input=text, model='text-embedding-ada-002')\n",
    "    return np.array(result.data[0].embedding)"
   ]
  },
  {
   "cell_type": "code",
   "execution_count": 10,
   "metadata": {
    "cellId": "m9v1bk931jo3ve2iaxkji",
    "id": "t-XG_kjNcuEG"
   },
   "outputs": [],
   "source": [
    "people = pd.read_csv('./data/people.csv')\n",
    "messages = pd.read_csv('./data/messages.csv')\n",
    "images = pd.read_csv('./data/images.csv')"
   ]
  },
  {
   "cell_type": "code",
   "execution_count": 188,
   "metadata": {
    "cellId": "po18fpocy0sif00ln3q6la"
   },
   "outputs": [],
   "source": [
    "df_people = pd.DataFrame([{j[0]:j[1] for j in [i.split(': ') for i in person.split('\\n')]} for person in list(people.items())[0][1]])"
   ]
  },
  {
   "cell_type": "code",
   "execution_count": 57,
   "metadata": {
    "cellId": "905k8rkl2tl1r7xabzvjmc"
   },
   "outputs": [
    {
     "data": {
      "text/html": [
       "<div>\n",
       "<style scoped>\n",
       "    .dataframe tbody tr th:only-of-type {\n",
       "        vertical-align: middle;\n",
       "    }\n",
       "\n",
       "    .dataframe tbody tr th {\n",
       "        vertical-align: top;\n",
       "    }\n",
       "\n",
       "    .dataframe thead th {\n",
       "        text-align: right;\n",
       "    }\n",
       "</style>\n",
       "<table border=\"1\" class=\"dataframe\">\n",
       "  <thead>\n",
       "    <tr style=\"text-align: right;\">\n",
       "      <th></th>\n",
       "      <th>Gender</th>\n",
       "      <th>Age</th>\n",
       "      <th>Race</th>\n",
       "      <th>Lifestyle</th>\n",
       "      <th>Likes</th>\n",
       "      <th>Dislikes</th>\n",
       "    </tr>\n",
       "  </thead>\n",
       "  <tbody>\n",
       "    <tr>\n",
       "      <th>0</th>\n",
       "      <td>Male</td>\n",
       "      <td>Young Adult</td>\n",
       "      <td>African American</td>\n",
       "      <td>Moderate</td>\n",
       "      <td>Reading, Baking, Watercolor Painting</td>\n",
       "      <td>Weightlifting, Solitaire</td>\n",
       "    </tr>\n",
       "    <tr>\n",
       "      <th>1</th>\n",
       "      <td>Female</td>\n",
       "      <td>Senior</td>\n",
       "      <td>Asian</td>\n",
       "      <td>Sedentary</td>\n",
       "      <td>Knitting, Jigsaw Puzzles, Crosswords</td>\n",
       "      <td>Walking, Biking, Weightlifting</td>\n",
       "    </tr>\n",
       "    <tr>\n",
       "      <th>2</th>\n",
       "      <td>Male</td>\n",
       "      <td>Adult</td>\n",
       "      <td>Hispanic</td>\n",
       "      <td>Active</td>\n",
       "      <td>Walking, Biking, Weightlifting</td>\n",
       "      <td>Coloring Books, Solitaire</td>\n",
       "    </tr>\n",
       "    <tr>\n",
       "      <th>3</th>\n",
       "      <td>Female</td>\n",
       "      <td>Middle-aged</td>\n",
       "      <td>White</td>\n",
       "      <td>Moderate</td>\n",
       "      <td>Reading, Gardening, Baking, Watercolor Painting</td>\n",
       "      <td>Weightlifting, Walking</td>\n",
       "    </tr>\n",
       "    <tr>\n",
       "      <th>4</th>\n",
       "      <td>Male</td>\n",
       "      <td>Young Adult</td>\n",
       "      <td>Asian</td>\n",
       "      <td>Sedentary</td>\n",
       "      <td>Guitar, Meditating, Solitaire</td>\n",
       "      <td>Biking, Weightlifting, Walking</td>\n",
       "    </tr>\n",
       "    <tr>\n",
       "      <th>5</th>\n",
       "      <td>Female</td>\n",
       "      <td>Adult</td>\n",
       "      <td>Hispanic</td>\n",
       "      <td>Active</td>\n",
       "      <td>Biking, Weightlifting, Walking</td>\n",
       "      <td>Coloring Books, Jigsaw Puzzles</td>\n",
       "    </tr>\n",
       "    <tr>\n",
       "      <th>6</th>\n",
       "      <td>Male</td>\n",
       "      <td>Middle-aged</td>\n",
       "      <td>African American</td>\n",
       "      <td>Moderate</td>\n",
       "      <td>Reading, Guitar, Jigsaw Puzzles</td>\n",
       "      <td>Weightlifting, Walking, Biking</td>\n",
       "    </tr>\n",
       "    <tr>\n",
       "      <th>7</th>\n",
       "      <td>Female</td>\n",
       "      <td>Senior</td>\n",
       "      <td>Asian</td>\n",
       "      <td>Sedentary</td>\n",
       "      <td>Knitting, Coloring Books, Crosswords</td>\n",
       "      <td>Walking, Biking, Weightlifting</td>\n",
       "    </tr>\n",
       "    <tr>\n",
       "      <th>8</th>\n",
       "      <td>Male</td>\n",
       "      <td>Young Adult</td>\n",
       "      <td>Hispanic</td>\n",
       "      <td>Active</td>\n",
       "      <td>Biking, Weightlifting, Walking, Guitar</td>\n",
       "      <td>Coloring Books, Knitting</td>\n",
       "    </tr>\n",
       "    <tr>\n",
       "      <th>9</th>\n",
       "      <td>Female</td>\n",
       "      <td>Middle-aged</td>\n",
       "      <td>Asian</td>\n",
       "      <td>Moderate</td>\n",
       "      <td>Reading, Baking, Watercolor Painting, Crosswords</td>\n",
       "      <td>Weightlifting, Walking, Jigsaw Puzzles</td>\n",
       "    </tr>\n",
       "  </tbody>\n",
       "</table>\n",
       "</div>"
      ],
      "text/plain": [
       "   Gender  ...                                Dislikes\n",
       "0    Male  ...                Weightlifting, Solitaire\n",
       "1  Female  ...          Walking, Biking, Weightlifting\n",
       "2    Male  ...               Coloring Books, Solitaire\n",
       "3  Female  ...                  Weightlifting, Walking\n",
       "4    Male  ...          Biking, Weightlifting, Walking\n",
       "5  Female  ...          Coloring Books, Jigsaw Puzzles\n",
       "6    Male  ...          Weightlifting, Walking, Biking\n",
       "7  Female  ...          Walking, Biking, Weightlifting\n",
       "8    Male  ...                Coloring Books, Knitting\n",
       "9  Female  ...  Weightlifting, Walking, Jigsaw Puzzles\n",
       "\n",
       "[10 rows x 6 columns]"
      ]
     },
     "execution_count": 57,
     "metadata": {},
     "output_type": "execute_result"
    }
   ],
   "source": [
    "# @title adequate notation\n",
    "# people_list = []\n",
    "# for person in list(people.items())[0][1]:\n",
    "#     person_list = [i.split(': ') for i in person.split('\\n')]\n",
    "#     person_dict = {j[0]: j[1] for j in person_list}\n",
    "#     people_list.append(person_dict)\n",
    "# df_people = pd.DataFrame(people_list)"
   ]
  },
  {
   "cell_type": "code",
   "execution_count": 189,
   "metadata": {
    "cellId": "esskj78fkpl99pwkv4qcq8"
   },
   "outputs": [],
   "source": [
    "df_people['Likes'] = df_people['Likes'].str.split(', ')\n",
    "df_people['Dislikes'] = df_people['Dislikes'].str.split(', ')"
   ]
  },
  {
   "cell_type": "code",
   "execution_count": 127,
   "metadata": {
    "cellId": "l5fjr1zbg2eefk1hxudxv"
   },
   "outputs": [],
   "source": [
    "def glue(row):\n",
    "    replacement_dict = {'Male': 'man', 'Female': 'woman'}\n",
    "    row['Gender'] = replacement_dict.get(row['Gender'], 'John Cena')\n",
    "    return ' '.join(row[['Lifestyle', 'Age', 'Race', 'Gender']].values).lower()"
   ]
  },
  {
   "cell_type": "code",
   "execution_count": 190,
   "metadata": {
    "cellId": "mz061i65lfpmddmce2e2n"
   },
   "outputs": [],
   "source": [
    "df_people['Description'] = df_people.apply(lambda row: glue(row), axis='columns')"
   ]
  },
  {
   "cell_type": "code",
   "execution_count": 191,
   "metadata": {
    "cellId": "cmcenaksvpoj675cg88e"
   },
   "outputs": [],
   "source": [
    "df_people['ID'] = range(len(df_people))"
   ]
  },
  {
   "cell_type": "code",
   "execution_count": 204,
   "metadata": {
    "cellId": "dtw3dl47koa5uvbz3ax4yq"
   },
   "outputs": [
    {
     "data": {
      "text/html": [
       "<div>\n",
       "<style scoped>\n",
       "    .dataframe tbody tr th:only-of-type {\n",
       "        vertical-align: middle;\n",
       "    }\n",
       "\n",
       "    .dataframe tbody tr th {\n",
       "        vertical-align: top;\n",
       "    }\n",
       "\n",
       "    .dataframe thead th {\n",
       "        text-align: right;\n",
       "    }\n",
       "</style>\n",
       "<table border=\"1\" class=\"dataframe\">\n",
       "  <thead>\n",
       "    <tr style=\"text-align: right;\">\n",
       "      <th></th>\n",
       "      <th>Gender</th>\n",
       "      <th>Age</th>\n",
       "      <th>Race</th>\n",
       "      <th>Lifestyle</th>\n",
       "      <th>Likes</th>\n",
       "      <th>Dislikes</th>\n",
       "      <th>Description</th>\n",
       "      <th>ID</th>\n",
       "    </tr>\n",
       "  </thead>\n",
       "  <tbody>\n",
       "    <tr>\n",
       "      <th>0</th>\n",
       "      <td>Male</td>\n",
       "      <td>Young Adult</td>\n",
       "      <td>African American</td>\n",
       "      <td>Moderate</td>\n",
       "      <td>[Reading, Baking, Watercolor Painting]</td>\n",
       "      <td>[Weightlifting, Solitaire]</td>\n",
       "      <td>moderate young adult african american man</td>\n",
       "      <td>0</td>\n",
       "    </tr>\n",
       "    <tr>\n",
       "      <th>1</th>\n",
       "      <td>Female</td>\n",
       "      <td>Senior</td>\n",
       "      <td>Asian</td>\n",
       "      <td>Sedentary</td>\n",
       "      <td>[Knitting, Jigsaw Puzzles, Crosswords]</td>\n",
       "      <td>[Walking, Biking, Weightlifting]</td>\n",
       "      <td>sedentary senior asian woman</td>\n",
       "      <td>1</td>\n",
       "    </tr>\n",
       "    <tr>\n",
       "      <th>2</th>\n",
       "      <td>Male</td>\n",
       "      <td>Adult</td>\n",
       "      <td>Hispanic</td>\n",
       "      <td>Active</td>\n",
       "      <td>[Walking, Biking, Weightlifting]</td>\n",
       "      <td>[Coloring Books, Solitaire]</td>\n",
       "      <td>active adult hispanic man</td>\n",
       "      <td>2</td>\n",
       "    </tr>\n",
       "    <tr>\n",
       "      <th>3</th>\n",
       "      <td>Female</td>\n",
       "      <td>Middle-aged</td>\n",
       "      <td>White</td>\n",
       "      <td>Moderate</td>\n",
       "      <td>[Reading, Gardening, Baking, Watercolor Painting]</td>\n",
       "      <td>[Weightlifting, Walking]</td>\n",
       "      <td>moderate middle-aged white woman</td>\n",
       "      <td>3</td>\n",
       "    </tr>\n",
       "    <tr>\n",
       "      <th>4</th>\n",
       "      <td>Male</td>\n",
       "      <td>Young Adult</td>\n",
       "      <td>Asian</td>\n",
       "      <td>Sedentary</td>\n",
       "      <td>[Guitar, Meditating, Solitaire]</td>\n",
       "      <td>[Biking, Weightlifting, Walking]</td>\n",
       "      <td>sedentary young adult asian man</td>\n",
       "      <td>4</td>\n",
       "    </tr>\n",
       "    <tr>\n",
       "      <th>5</th>\n",
       "      <td>Female</td>\n",
       "      <td>Adult</td>\n",
       "      <td>Hispanic</td>\n",
       "      <td>Active</td>\n",
       "      <td>[Biking, Weightlifting, Walking]</td>\n",
       "      <td>[Coloring Books, Jigsaw Puzzles]</td>\n",
       "      <td>active adult hispanic woman</td>\n",
       "      <td>5</td>\n",
       "    </tr>\n",
       "    <tr>\n",
       "      <th>6</th>\n",
       "      <td>Male</td>\n",
       "      <td>Middle-aged</td>\n",
       "      <td>African American</td>\n",
       "      <td>Moderate</td>\n",
       "      <td>[Reading, Guitar, Jigsaw Puzzles]</td>\n",
       "      <td>[Weightlifting, Walking, Biking]</td>\n",
       "      <td>moderate middle-aged african american man</td>\n",
       "      <td>6</td>\n",
       "    </tr>\n",
       "    <tr>\n",
       "      <th>7</th>\n",
       "      <td>Female</td>\n",
       "      <td>Senior</td>\n",
       "      <td>Asian</td>\n",
       "      <td>Sedentary</td>\n",
       "      <td>[Knitting, Coloring Books, Crosswords]</td>\n",
       "      <td>[Walking, Biking, Weightlifting]</td>\n",
       "      <td>sedentary senior asian woman</td>\n",
       "      <td>7</td>\n",
       "    </tr>\n",
       "    <tr>\n",
       "      <th>8</th>\n",
       "      <td>Male</td>\n",
       "      <td>Young Adult</td>\n",
       "      <td>Hispanic</td>\n",
       "      <td>Active</td>\n",
       "      <td>[Biking, Weightlifting, Walking, Guitar]</td>\n",
       "      <td>[Coloring Books, Knitting]</td>\n",
       "      <td>active young adult hispanic man</td>\n",
       "      <td>8</td>\n",
       "    </tr>\n",
       "    <tr>\n",
       "      <th>9</th>\n",
       "      <td>Female</td>\n",
       "      <td>Middle-aged</td>\n",
       "      <td>Asian</td>\n",
       "      <td>Moderate</td>\n",
       "      <td>[Reading, Baking, Watercolor Painting, Crosswo...</td>\n",
       "      <td>[Weightlifting, Walking, Jigsaw Puzzles]</td>\n",
       "      <td>moderate middle-aged asian woman</td>\n",
       "      <td>9</td>\n",
       "    </tr>\n",
       "  </tbody>\n",
       "</table>\n",
       "</div>"
      ],
      "text/plain": [
       "   Gender          Age  ...                                Description ID\n",
       "0    Male  Young Adult  ...  moderate young adult african american man  0\n",
       "1  Female       Senior  ...               sedentary senior asian woman  1\n",
       "2    Male        Adult  ...                  active adult hispanic man  2\n",
       "3  Female  Middle-aged  ...           moderate middle-aged white woman  3\n",
       "4    Male  Young Adult  ...            sedentary young adult asian man  4\n",
       "5  Female        Adult  ...                active adult hispanic woman  5\n",
       "6    Male  Middle-aged  ...  moderate middle-aged african american man  6\n",
       "7  Female       Senior  ...               sedentary senior asian woman  7\n",
       "8    Male  Young Adult  ...            active young adult hispanic man  8\n",
       "9  Female  Middle-aged  ...           moderate middle-aged asian woman  9\n",
       "\n",
       "[10 rows x 8 columns]"
      ]
     },
     "execution_count": 204,
     "metadata": {},
     "output_type": "execute_result"
    }
   ],
   "source": [
    "df_people"
   ]
  },
  {
   "cell_type": "markdown",
   "metadata": {
    "cellId": "nqrmp085i1jbtj89gggipi",
    "execution_id": "926a4cc8-10d3-4870-a28a-352bdf682b28"
   },
   "source": [
    "compose the dictionary with embeddings of all the likes and dislikes"
   ]
  },
  {
   "cell_type": "markdown",
   "metadata": {
    "cellId": "idc87gtmcmudonzhguuwg",
    "execution_id": "82a841d3-3c8e-4782-8753-821cd7a7973b"
   },
   "source": [
    "likes = set(np.concatenate(df_people.Likes))\n",
    "dislikes = set(np.concatenate(df_people.Dislikes))\n",
    "\n",
    "embeddings_dict = {}\n",
    "for i in likes | dislikes:\n",
    "    time.sleep(2)\n",
    "    embeddings_dict[i] = get_embedding(i)\n",
    "\n",
    "descriptions_embeddings_dict = {}\n",
    "for i in df_people.Description:\n",
    "    time.sleep(2)\n",
    "    descriptions_embeddings_dict[i] = get_embedding(i)\n",
    "\n",
    "descriptions_embeddings_dict"
   ]
  },
  {
   "cell_type": "code",
   "execution_count": 195,
   "metadata": {
    "cellId": "2288nvom8ykgok28u77epo"
   },
   "outputs": [],
   "source": [
    "def get_df_likes_dislikes(attr, df_people=df_people):\n",
    "    df = pd.DataFrame()\n",
    "    for i in df_people[['ID', 'Description', attr]].values:\n",
    "        for like in i[2]:\n",
    "            df = pd.concat(\n",
    "                [\n",
    "                    df,\n",
    "                    pd.DataFrame(\n",
    "                        [\n",
    "                            i[0],\n",
    "                            f'{i[1]} who likes {like.lower()}'\n",
    "                        ]\n",
    "                    ).T\n",
    "                ],\n",
    "                axis='rows'\n",
    "            )\n",
    "    df.reset_index(inplace=True, drop=True)\n",
    "    df.columns=['ID', 'Description']\n",
    "    df['Embedding'] = df.Description.apply(lambda x: get_embedding(x))\n",
    "    return df"
   ]
  },
  {
   "cell_type": "code",
   "execution_count": 174,
   "metadata": {
    "cellId": "9vzcq9sgljpj7xj9f79eq"
   },
   "outputs": [],
   "source": [
    "df_likes = get_df_likes_dislikes('Likes', df_people=df_people)\n",
    "df_dislikes = get_df_likes_dislikes('Dislikes', df_people=df_people)"
   ]
  },
  {
   "cell_type": "code",
   "execution_count": 199,
   "metadata": {
    "cellId": "omy7hi5ba3n9e0ohre2dr"
   },
   "outputs": [],
   "source": [
    "df_likes.to_csv('data/likes.csv')\n",
    "df_dislikes.to_csv('data/dislikes.csv')"
   ]
  },
  {
   "cell_type": "code",
   "execution_count": 217,
   "metadata": {
    "cellId": "v5xj9gd0rch83re101y999"
   },
   "outputs": [
    {
     "name": "stdout",
     "output_type": "stream",
     "text": [
      "<class 'pandas.core.frame.DataFrame'>\n",
      "RangeIndex: 33 entries, 0 to 32\n",
      "Data columns (total 3 columns):\n",
      "ID             33 non-null int64\n",
      "Description    33 non-null object\n",
      "Embedding      33 non-null object\n",
      "dtypes: int64(1), object(2)\n",
      "memory usage: 920.0+ bytes\n"
     ]
    }
   ],
   "source": [
    "df_likes.info()"
   ]
  },
  {
   "cell_type": "code",
   "execution_count": 209,
   "metadata": {
    "cellId": "13dajup2y9erp8rza3mbg5j"
   },
   "outputs": [
    {
     "name": "stdout",
     "output_type": "stream",
     "text": [
      "0\n",
      "ID                                                           0\n",
      "Embedding    [-0.003327933489345014, -0.008358138070131341,...\n",
      "dtype: object\n",
      "1\n",
      "ID                                                           1\n",
      "Embedding    [-0.007232751542081435, -0.00773633395632108, ...\n",
      "dtype: object\n",
      "2\n",
      "ID                                                           2\n",
      "Embedding    [-0.015978617127984762, -0.0009856480173766613...\n",
      "dtype: object\n",
      "3\n",
      "ID                                                           3\n",
      "Embedding    [-0.009486995462793857, -0.0014398788334801793...\n",
      "dtype: object\n",
      "4\n",
      "ID                                                           4\n",
      "Embedding    [-0.00014099527228002748, -0.00185592759711047...\n",
      "dtype: object\n",
      "5\n",
      "ID                                                           5\n",
      "Embedding    [-0.0192279857583344, 0.0024953963390241065, 0...\n",
      "dtype: object\n",
      "6\n",
      "ID                                                           6\n",
      "Embedding    [-0.013960679993033409, -0.00738622946664691, ...\n",
      "dtype: object\n",
      "7\n",
      "ID                                                           7\n",
      "Embedding    [-0.004316253534246546, -0.005959017590309183,...\n",
      "dtype: object\n",
      "8\n",
      "ID                                                           8\n",
      "Embedding    [-0.02270749118179083, 0.0005147953997948207, ...\n",
      "dtype: object\n",
      "9\n",
      "ID                                                           9\n",
      "Embedding    [-0.01194514543749392, 0.003002532925165724, 0...\n",
      "dtype: object\n"
     ]
    }
   ],
   "source": [
    "for id_, group in df_likes.groupby('ID'):\n",
    "    print(id_)\n",
    "    print(group.mean())"
   ]
  },
  {
   "cell_type": "code",
   "execution_count": 317,
   "metadata": {
    "cellId": "dq8zb7oz3xf5nnvt72oiju"
   },
   "outputs": [],
   "source": [
    "def normalize(x, overall_min, overall_max):  # currently from -1 to 1 due to negative vectors (we center at 0)\n",
    "    return 2 * (x - overall_min) / (overall_max - overall_min) - 1\n",
    "\n",
    "def add_deviation(df):\n",
    "    # first we find mean vector for an ID\n",
    "    # only then we find the mean for likes/dislikes\n",
    "    # thus we prevent individuals having too much likes/dislikes\n",
    "    # from solely deciding the mean\n",
    "    mean_vector = df\\\n",
    "    .groupby('ID')\\\n",
    "    .Embedding\\\n",
    "    .apply(lambda x: np.mean(np.stack(x), axis=0))\\\n",
    "    .mean()\n",
    "    deviation = df.Embedding.apply(lambda x: x - mean_vector)\n",
    "    df['Deviation'] = deviation\n",
    "    overall = np.concatenate(df.Deviation)\n",
    "    overall_min = np.min(overall)\n",
    "    overall_max = np.max(overall)\n",
    "    del overall\n",
    "    norm_dev = df.Deviation.apply(lambda x: normalize(x, overall_min, overall_max))\n",
    "    df['Norm_Dev'] = norm_dev"
   ]
  },
  {
   "cell_type": "code",
   "execution_count": 318,
   "metadata": {
    "cellId": "dugmogxu2u9trhjubet04"
   },
   "outputs": [],
   "source": [
    "add_deviation(df_likes)\n",
    "add_deviation(df_dislikes)"
   ]
  },
  {
   "cell_type": "code",
   "execution_count": 321,
   "metadata": {
    "cellId": "qsyns5c8o8nopxdjby06k"
   },
   "outputs": [
    {
     "data": {
      "text/plain": [
       "-1.0"
      ]
     },
     "execution_count": 321,
     "metadata": {},
     "output_type": "execute_result"
    }
   ],
   "source": [
    "np.concatenate(df_likes.Norm_Dev).min()"
   ]
  },
  {
   "cell_type": "code",
   "execution_count": 382,
   "metadata": {
    "cellId": "2oxz81hw58eitf1pm6jdnf",
    "colab": {
     "base_uri": "https://localhost:8080/",
     "height": 332
    },
    "id": "gXHna47icvDH",
    "outputId": "8bd6c2bf-fdc4-4ba6-a8e3-5ec118a96c67"
   },
   "outputs": [],
   "source": [
    "for df in [messages, images]:\n",
    "    df['Content_ID'] = range(len(df))\n",
    "    df['Embedding'] = df['content'].apply(get_embedding)\n",
    "\n",
    "    # offset each group by it's center\n",
    "    emb_center = df['Embedding'].mean()    \n",
    "    deviation = df.Embedding.apply(lambda emb: emb - emb_center)\n",
    "    df['Deviation'] = deviation\n",
    "    \n",
    "    overall = np.concatenate(df.Deviation)\n",
    "    overall_min = np.min(overall)\n",
    "    overall_max = np.max(overall)\n",
    "    del overall\n",
    "    norm_dev = df.Deviation.apply(lambda x: normalize(x, overall_min, overall_max))\n",
    "    df['Norm_Dev'] = norm_dev"
   ]
  },
  {
   "cell_type": "code",
   "execution_count": 261,
   "metadata": {
    "cellId": "96vlesfydwobuegs2zbn3c"
   },
   "outputs": [],
   "source": [
    "messages.to_csv('data/messages_embeddings.csv')\n",
    "images.to_csv('data/images_embeddings.csv')"
   ]
  },
  {
   "cell_type": "code",
   "execution_count": 326,
   "metadata": {
    "cellId": "jl4ql9z70sr8r0g2egu4au"
   },
   "outputs": [
    {
     "data": {
      "text/plain": [
       "2.0"
      ]
     },
     "execution_count": 326,
     "metadata": {},
     "output_type": "execute_result"
    }
   ],
   "source": [
    "euclidean([-1, -1], [1, 1])/(2**0.5)"
   ]
  },
  {
   "cell_type": "code",
   "execution_count": 322,
   "metadata": {
    "cellId": "wquhdbxtujil8iha1fvxi"
   },
   "outputs": [
    {
     "data": {
      "text/plain": [
       "2.0"
      ]
     },
     "execution_count": 322,
     "metadata": {},
     "output_type": "execute_result"
    }
   ],
   "source": [
    "cosine([-1, -1], [1, 1])"
   ]
  },
  {
   "cell_type": "code",
   "execution_count": null,
   "metadata": {
    "cellId": "tjfkb11ndevk6itt2mmn"
   },
   "outputs": [],
   "source": []
  },
  {
   "cell_type": "code",
   "execution_count": 424,
   "metadata": {
    "cellId": "74ogzhb67pye86yyw5paqk"
   },
   "outputs": [],
   "source": [
    "def get_cosine(vec_1, vec_2, epsilon=10**-6):\n",
    "    \"\"\"\n",
    "    cosine() is so bad, that it's incapable\n",
    "    of evaluating [0, 0] to [1, 1] distance\n",
    "    due to zero division.\n",
    "    Thus we manually bring it to live here\n",
    "    \"\"\"\n",
    "    vec_1 = [i if i else epsilon for i in vec_1]\n",
    "    vec_2 = [i if i else epsilon for i in vec_2]\n",
    "    return cosine(vec_1, vec_2)"
   ]
  },
  {
   "cell_type": "code",
   "execution_count": 441,
   "metadata": {
    "cellId": "jtzurdrhnlofiv5wyuyxnn"
   },
   "outputs": [],
   "source": [
    "def get_distance(vec_1, vec_2):\n",
    "    \"\"\"\n",
    "    intended to work with -1 to 1 normalized vectors\n",
    "    combines two approaches so that negatives of cosine similarity\n",
    "    are smoothened as well as the negatives of euclidean alone\n",
    "    \"\"\"\n",
    "    euc = euclidean(vec_1, vec_2)\n",
    "    cos = get_cosine(vec_1, vec_2)\n",
    "    # let's scale both distances to [0, 1]\n",
    "    # since cosine() lies between 0 and 2, halve it    \n",
    "    cos /= 2\n",
    "    # now normalize the euclidean distance output\n",
    "    # larges distances in our case are beteween\n",
    "    # [-1, -1, ... , -1] and [1, 1, ... , 1]\n",
    "    # and the value depends on n dimensions\n",
    "    # so let's consider it\n",
    "    ones = np.ones(len(vec_1))\n",
    "    laregest_euc = euclidean(- ones, ones)\n",
    "    euc /= laregest_euc    \n",
    "    dist = euc/2 + euc*cos + cos/2\n",
    "    # scale dist to [0, 1]\n",
    "    dist /= 2\n",
    "    # return euc, cos, dist  # an option for testing the function\n",
    "    return dist"
   ]
  },
  {
   "cell_type": "code",
   "execution_count": 452,
   "metadata": {
    "cellId": "9pjqu7k0r2s3x0tdxe9hz8"
   },
   "outputs": [
    {
     "data": {
      "text/plain": [
       "array([-0.15990006, -0.48826592, -0.47252663, ..., -0.46114113,\n",
       "       -0.11936103, -0.10757138])"
      ]
     },
     "execution_count": 452,
     "metadata": {},
     "output_type": "execute_result"
    }
   ],
   "source": [
    "user_vec = df_likes.Norm_Dev[0]\n",
    "user_vec"
   ]
  },
  {
   "cell_type": "code",
   "execution_count": 454,
   "metadata": {
    "cellId": "nhe48sfs7qb4cyzo7nu4vv"
   },
   "outputs": [
    {
     "data": {
      "text/plain": [
       "0   -1.000000\n",
       "1    0.336279\n",
       "2    0.950451\n",
       "3    0.752838\n",
       "4    0.662796\n",
       "5    0.738977\n",
       "6    1.000000\n",
       "7    0.644908\n",
       "Name: Norm_Dev, dtype: float64"
      ]
     },
     "execution_count": 454,
     "metadata": {},
     "output_type": "execute_result"
    }
   ],
   "source": [
    "message_distances = messages.Norm_Dev.apply(lambda x: get_distance(x, user_vec))\n",
    "2 * (message_distances - message_distances.min()) / (message_distances.max() - message_distances.min()) - 1"
   ]
  },
  {
   "cell_type": "code",
   "execution_count": 455,
   "metadata": {
    "cellId": "02uc6xdn2eayprkhy5a35c"
   },
   "outputs": [
    {
     "data": {
      "text/plain": [
       "0   -1.000000\n",
       "1    0.336279\n",
       "2    0.950451\n",
       "3    0.752838\n",
       "4    0.662796\n",
       "5    0.738977\n",
       "6    1.000000\n",
       "7    0.644908\n",
       "Name: Norm_Dev, dtype: float64"
      ]
     },
     "execution_count": 455,
     "metadata": {},
     "output_type": "execute_result"
    }
   ],
   "source": [
    "normalize(\n",
    "    message_distances,\n",
    "    message_distances.min(),\n",
    "    message_distances.max()\n",
    ")"
   ]
  },
  {
   "cell_type": "code",
   "execution_count": 457,
   "metadata": {
    "cellId": "i4c9rpwnkiix237f338e6p"
   },
   "outputs": [],
   "source": [
    "users = set(df_people.ID)"
   ]
  },
  {
   "cell_type": "code",
   "execution_count": 458,
   "metadata": {
    "cellId": "m3q3qj059op021q1wa74"
   },
   "outputs": [
    {
     "data": {
      "text/plain": [
       "{0, 1, 2, 3, 4, 5, 6, 7, 8, 9}"
      ]
     },
     "execution_count": 458,
     "metadata": {},
     "output_type": "execute_result"
    }
   ],
   "source": [
    "users"
   ]
  },
  {
   "cell_type": "code",
   "execution_count": 459,
   "metadata": {
    "cellId": "9uzk293j4mol13869kwgh8"
   },
   "outputs": [],
   "source": [
    "user = 0"
   ]
  },
  {
   "cell_type": "code",
   "execution_count": 465,
   "metadata": {
    "cellId": "ew51ol5uwpedwmhv4655s7"
   },
   "outputs": [
    {
     "name": "stdout",
     "output_type": "stream",
     "text": [
      "\n",
      "0    0.268303\n",
      "1    0.277241\n",
      "2    0.274582\n",
      "3    0.269100\n",
      "4    0.281510\n",
      "5    0.273693\n",
      "6    0.271558\n",
      "7    0.262516\n",
      "Name: Norm_Dev, dtype: float64\n",
      "\n",
      "0    0.274327\n",
      "1    0.282516\n",
      "2    0.284386\n",
      "3    0.273967\n",
      "4    0.218520\n",
      "5    0.267626\n",
      "6    0.297967\n",
      "7    0.290717\n",
      "Name: Norm_Dev, dtype: float64\n"
     ]
    }
   ],
   "source": [
    "for dislike in df_dislikes[df_dislikes.ID == user].Norm_Dev:\n",
    "    message_distances = messages.Norm_Dev.apply(lambda x: get_distance(x, dislike))\n",
    "    print()\n",
    "    print(message_distances)"
   ]
  },
  {
   "cell_type": "code",
   "execution_count": null,
   "metadata": {
    "cellId": "1fnfyilnd96w1ofpt42ccb"
   },
   "outputs": [],
   "source": [
    "1/0"
   ]
  },
  {
   "cell_type": "markdown",
   "metadata": {
    "cellId": "yqxlve4rmkl4xnvte5hlsg"
   },
   "source": [
    "### Visualize embeddings"
   ]
  },
  {
   "cell_type": "code",
   "execution_count": null,
   "metadata": {
    "cellId": "yhzjh2e8tdmw2gcxrrs99",
    "colab": {
     "base_uri": "https://localhost:8080/",
     "height": 823
    },
    "id": "NXrs2IiC7YTa",
    "outputId": "0a9bcfa9-6c37-41ea-a3dc-1a98fee15bea"
   },
   "outputs": [],
   "source": [
    "embs = people.embedding.tolist() + messages.embedding.tolist() + images.embedding.tolist()\n",
    "fig, ax = plt.subplots(1, 2, figsize=(10,4))\n",
    "\n",
    "# plot embedding difference norm\n",
    "emb_norm_diff = [[np.linalg.norm(e1-e2) for e2 in embs] for e1 in embs]\n",
    "im0 = ax[0].imshow(emb_norm_diff, cmap='pink', vmin=0., vmax=1.)\n",
    "ax[0].set_title('pairwise difference norm')\n",
    "ax[0].grid(False)\n",
    "plt.colorbar(im0, ax=ax[0])\n",
    "\n",
    "# plot embedding cosine similarity\n",
    "emb_cossim = [[np.dot(e1,e2)/(np.linalg.norm(e1)*np.linalg.norm(e2)) for e2 in embs] for e1 in embs]\n",
    "im1 = ax[1].imshow(emb_cossim, cmap='viridis', vmin=-1., vmax=1.)\n",
    "ax[1].set_title('pairwise cosine similarity')\n",
    "ax[1].grid(False)\n",
    "plt.colorbar(im1, ax=ax[1])\n",
    "\n",
    "plt.tight_layout()\n",
    "plt.show()\n",
    "\n",
    "# plot embedding pca\n",
    "emb_pca = PCA(n_components=2).fit_transform(embs)\n",
    "people_pca, messages_pca, images_pca = np.split(emb_pca, [len(people),-len(images)])\n",
    "fig, ax = plt.subplots(figsize=(8,5))\n",
    "# plot people pca\n",
    "ax.scatter(people_pca[:,0], people_pca[:,1], s=100)\n",
    "for ind, pnt in enumerate(people_pca):\n",
    "    ax.annotate(f'  p{ind}', pnt)\n",
    "# plot messages pca\n",
    "ax.scatter(messages_pca[:,0], messages_pca[:,1], s=100)\n",
    "for ind, pnt in enumerate(messages_pca):\n",
    "    ax.annotate(f'  m{ind}', pnt)\n",
    "# plot images pca\n",
    "ax.scatter(images_pca[:,0], images_pca[:,1], s=100)\n",
    "for ind, pnt in enumerate(images_pca):\n",
    "    ax.annotate(f'  i{ind}', pnt)\n",
    "plt.tight_layout()\n",
    "plt.show()"
   ]
  },
  {
   "cell_type": "code",
   "execution_count": null,
   "metadata": {
    "cellId": "4vcqyl4757varc2abi9f6"
   },
   "outputs": [],
   "source": []
  },
  {
   "cell_type": "markdown",
   "metadata": {
    "cellId": "iohtzlx0sqth3v2jt4q79"
   },
   "source": [
    "### Compute recommendations"
   ]
  },
  {
   "cell_type": "code",
   "execution_count": null,
   "metadata": {
    "cellId": "gsszorfr6wjoq2b1eqopob"
   },
   "outputs": [],
   "source": [
    "def softmax(x, temp=1.):\n",
    "    \"\"\"Compute row-wise softmax of a matrix x\"\"\"\n",
    "    z = np.array(x)\n",
    "    z -= z.max(axis=1, keepdims=True)\n",
    "    z = np.exp(z / temp)\n",
    "    z /= z.sum(axis=1, keepdims=True)\n",
    "    return z\n",
    "\n",
    "\n",
    "def get_recs(df1, df2, temp=.1, k=3):\n",
    "    \"\"\"Normalize df1-df2 proximity and return k best/worst recommendations\"\"\"\n",
    "    neg_norms = [[-np.linalg.norm(e1-e2) for e2 in df2.embedding] for e1 in df1.embedding]\n",
    "    probs = softmax(neg_norms, temp=temp)\n",
    "    print(f'probability distribution:\\n{probs}')\n",
    "    \n",
    "    # show k best/worst recommendations for each element\n",
    "    inds = probs.argsort(axis=1)\n",
    "    for i in range(len(df1)):\n",
    "        print('\\n========================\\n')\n",
    "        print(df1.loc[i].content)\n",
    "        \n",
    "        # k best recommendations\n",
    "        print()\n",
    "        for j in range(k):\n",
    "            l = inds[i][~j]\n",
    "            print(f'#{l} ({100*probs[i][l]:.0f}%): {df2.loc[l].content}')\n",
    "\n",
    "        # k worst recommendations\n",
    "        print()\n",
    "        for j in range(k):\n",
    "            l = inds[i][j]\n",
    "            print(f'#{l} ({100*probs[i][l]:.0f}%): {df2.loc[l].content}')"
   ]
  },
  {
   "cell_type": "code",
   "execution_count": null,
   "metadata": {
    "cellId": "ujlipq0lmzp9hdgfr4ioqp"
   },
   "outputs": [],
   "source": []
  },
  {
   "cell_type": "code",
   "execution_count": null,
   "metadata": {
    "cellId": "x1r1kxvn75ko4zko6nj2k"
   },
   "outputs": [],
   "source": [
    "# people--images\n",
    "get_recs(people, images)"
   ]
  },
  {
   "cell_type": "code",
   "execution_count": null,
   "metadata": {
    "cellId": "3874qix4blumaqvf1uu9bk"
   },
   "outputs": [],
   "source": []
  },
  {
   "cell_type": "code",
   "execution_count": null,
   "metadata": {
    "cellId": "1o53tan6q2121ch4thzggl"
   },
   "outputs": [],
   "source": [
    "# messages--images\n",
    "get_recs(messages, images)"
   ]
  },
  {
   "cell_type": "code",
   "execution_count": null,
   "metadata": {
    "cellId": "wfgcvmn60cb04trqxqper"
   },
   "outputs": [],
   "source": []
  },
  {
   "cell_type": "code",
   "execution_count": null,
   "metadata": {
    "cellId": "d46oed5fs1nous6sgo3w"
   },
   "outputs": [],
   "source": [
    "# people--messages\n",
    "get_recs(people, messages)"
   ]
  },
  {
   "cell_type": "code",
   "execution_count": null,
   "metadata": {
    "cellId": "vk8uwe2oobhgds5yv1slu"
   },
   "outputs": [],
   "source": []
  },
  {
   "cell_type": "code",
   "execution_count": null,
   "metadata": {
    "cellId": "i1f1p08yw8axtilh4ja9v"
   },
   "outputs": [],
   "source": []
  },
  {
   "cell_type": "code",
   "execution_count": null,
   "metadata": {
    "cellId": "8phstxphrpdhv6mrt6ahz"
   },
   "outputs": [],
   "source": []
  },
  {
   "cell_type": "code",
   "execution_count": null,
   "metadata": {
    "cellId": "zwmw13sf0bdcmt8s5k6cpr"
   },
   "outputs": [],
   "source": []
  },
  {
   "cell_type": "code",
   "execution_count": null,
   "metadata": {
    "cellId": "fufmscawn3b4ixjfwnso"
   },
   "outputs": [],
   "source": []
  },
  {
   "cell_type": "code",
   "execution_count": null,
   "metadata": {
    "cellId": "650popw8p74xwof0m0q8s8"
   },
   "outputs": [],
   "source": []
  }
 ],
 "metadata": {
  "colab": {
   "provenance": []
  },
  "language_info": {
   "codemirror_mode": {
    "name": "ipython",
    "version": 3
   },
   "file_extension": ".py",
   "mimetype": "text/x-python",
   "name": "python",
   "nbconvert_exporter": "python",
   "pygments_lexer": "ipython3",
   "version": "3.7.7"
  },
  "notebookId": "c7e17411-8c27-43ef-82af-b7dbba7f41e3",
  "notebookPath": "wain23_ans.ipynb"
 },
 "nbformat": 4,
 "nbformat_minor": 4
}
