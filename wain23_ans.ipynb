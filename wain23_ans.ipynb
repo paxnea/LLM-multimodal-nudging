{
 "cells": [
  {
   "cell_type": "code",
   "execution_count": 13,
   "metadata": {
    "cellId": "mkuldihpzzhvms2v249vub"
   },
   "outputs": [],
   "source": [
    "# %pip install openai  -upgrade --quiet"
   ]
  },
  {
   "cell_type": "code",
   "execution_count": 9,
   "metadata": {
    "cellId": "rwsna54marauushmzmtrq",
    "id": "JKI2wmp4co1n"
   },
   "outputs": [],
   "source": [
    "import os\n",
    "import openai\n",
    "import pandas as pd\n",
    "import numpy as np\n",
    "import matplotlib.pyplot as plt\n",
    "from sklearn.decomposition import PCA\n",
    "\n",
    "openai.api_key = os.environ['OPENAI_API_KEY']\n",
    "np.set_printoptions(precision=3, suppress=True)\n",
    "\n",
    "\n",
    "def get_embedding(text):\n",
    "    '''Compute GPT3-embedding for a given text string'''\n",
    "    result = openai.Embedding.create(input=text, model='text-embedding-ada-002')\n",
    "    return np.array(result.data[0].embedding)"
   ]
  },
  {
   "cell_type": "code",
   "execution_count": 10,
   "metadata": {
    "cellId": "m9v1bk931jo3ve2iaxkji",
    "id": "t-XG_kjNcuEG"
   },
   "outputs": [],
   "source": [
    "people = pd.read_csv('./data/people.csv')\n",
    "messages = pd.read_csv('./data/messages.csv')\n",
    "images = pd.read_csv('./data/images.csv')"
   ]
  },
  {
   "cell_type": "code",
   "execution_count": 48,
   "metadata": {
    "cellId": "0s6xq3xz4fbb1y392gp0f7"
   },
   "outputs": [
    {
     "data": {
      "text/plain": [
       "{'Gender': 'Male',\n",
       " 'Age': 'Young Adult',\n",
       " 'Race': 'African American',\n",
       " 'Lifestyle': 'Moderate',\n",
       " 'Likes': 'Reading, Baking, Watercolor Painting',\n",
       " 'Dislikes': 'Weightlifting, Solitaire'}"
      ]
     },
     "execution_count": 48,
     "metadata": {},
     "output_type": "execute_result"
    }
   ],
   "source": [
    "{j[0]:j[1] for j in [i.split(': ') for i in list(people.items())[0][1][0].split('\\n')]}"
   ]
  },
  {
   "cell_type": "code",
   "execution_count": 107,
   "metadata": {
    "cellId": "po18fpocy0sif00ln3q6la"
   },
   "outputs": [],
   "source": [
    "people_matter = pd.DataFrame([{j[0]:j[1] for j in [i.split(': ') for i in person.split('\\n')]} for person in list(people.items())[0][1]])"
   ]
  },
  {
   "cell_type": "code",
   "execution_count": 57,
   "metadata": {
    "cellId": "905k8rkl2tl1r7xabzvjmc"
   },
   "outputs": [
    {
     "data": {
      "text/html": [
       "<div>\n",
       "<style scoped>\n",
       "    .dataframe tbody tr th:only-of-type {\n",
       "        vertical-align: middle;\n",
       "    }\n",
       "\n",
       "    .dataframe tbody tr th {\n",
       "        vertical-align: top;\n",
       "    }\n",
       "\n",
       "    .dataframe thead th {\n",
       "        text-align: right;\n",
       "    }\n",
       "</style>\n",
       "<table border=\"1\" class=\"dataframe\">\n",
       "  <thead>\n",
       "    <tr style=\"text-align: right;\">\n",
       "      <th></th>\n",
       "      <th>Gender</th>\n",
       "      <th>Age</th>\n",
       "      <th>Race</th>\n",
       "      <th>Lifestyle</th>\n",
       "      <th>Likes</th>\n",
       "      <th>Dislikes</th>\n",
       "    </tr>\n",
       "  </thead>\n",
       "  <tbody>\n",
       "    <tr>\n",
       "      <th>0</th>\n",
       "      <td>Male</td>\n",
       "      <td>Young Adult</td>\n",
       "      <td>African American</td>\n",
       "      <td>Moderate</td>\n",
       "      <td>Reading, Baking, Watercolor Painting</td>\n",
       "      <td>Weightlifting, Solitaire</td>\n",
       "    </tr>\n",
       "    <tr>\n",
       "      <th>1</th>\n",
       "      <td>Female</td>\n",
       "      <td>Senior</td>\n",
       "      <td>Asian</td>\n",
       "      <td>Sedentary</td>\n",
       "      <td>Knitting, Jigsaw Puzzles, Crosswords</td>\n",
       "      <td>Walking, Biking, Weightlifting</td>\n",
       "    </tr>\n",
       "    <tr>\n",
       "      <th>2</th>\n",
       "      <td>Male</td>\n",
       "      <td>Adult</td>\n",
       "      <td>Hispanic</td>\n",
       "      <td>Active</td>\n",
       "      <td>Walking, Biking, Weightlifting</td>\n",
       "      <td>Coloring Books, Solitaire</td>\n",
       "    </tr>\n",
       "    <tr>\n",
       "      <th>3</th>\n",
       "      <td>Female</td>\n",
       "      <td>Middle-aged</td>\n",
       "      <td>White</td>\n",
       "      <td>Moderate</td>\n",
       "      <td>Reading, Gardening, Baking, Watercolor Painting</td>\n",
       "      <td>Weightlifting, Walking</td>\n",
       "    </tr>\n",
       "    <tr>\n",
       "      <th>4</th>\n",
       "      <td>Male</td>\n",
       "      <td>Young Adult</td>\n",
       "      <td>Asian</td>\n",
       "      <td>Sedentary</td>\n",
       "      <td>Guitar, Meditating, Solitaire</td>\n",
       "      <td>Biking, Weightlifting, Walking</td>\n",
       "    </tr>\n",
       "    <tr>\n",
       "      <th>5</th>\n",
       "      <td>Female</td>\n",
       "      <td>Adult</td>\n",
       "      <td>Hispanic</td>\n",
       "      <td>Active</td>\n",
       "      <td>Biking, Weightlifting, Walking</td>\n",
       "      <td>Coloring Books, Jigsaw Puzzles</td>\n",
       "    </tr>\n",
       "    <tr>\n",
       "      <th>6</th>\n",
       "      <td>Male</td>\n",
       "      <td>Middle-aged</td>\n",
       "      <td>African American</td>\n",
       "      <td>Moderate</td>\n",
       "      <td>Reading, Guitar, Jigsaw Puzzles</td>\n",
       "      <td>Weightlifting, Walking, Biking</td>\n",
       "    </tr>\n",
       "    <tr>\n",
       "      <th>7</th>\n",
       "      <td>Female</td>\n",
       "      <td>Senior</td>\n",
       "      <td>Asian</td>\n",
       "      <td>Sedentary</td>\n",
       "      <td>Knitting, Coloring Books, Crosswords</td>\n",
       "      <td>Walking, Biking, Weightlifting</td>\n",
       "    </tr>\n",
       "    <tr>\n",
       "      <th>8</th>\n",
       "      <td>Male</td>\n",
       "      <td>Young Adult</td>\n",
       "      <td>Hispanic</td>\n",
       "      <td>Active</td>\n",
       "      <td>Biking, Weightlifting, Walking, Guitar</td>\n",
       "      <td>Coloring Books, Knitting</td>\n",
       "    </tr>\n",
       "    <tr>\n",
       "      <th>9</th>\n",
       "      <td>Female</td>\n",
       "      <td>Middle-aged</td>\n",
       "      <td>Asian</td>\n",
       "      <td>Moderate</td>\n",
       "      <td>Reading, Baking, Watercolor Painting, Crosswords</td>\n",
       "      <td>Weightlifting, Walking, Jigsaw Puzzles</td>\n",
       "    </tr>\n",
       "  </tbody>\n",
       "</table>\n",
       "</div>"
      ],
      "text/plain": [
       "   Gender  ...                                Dislikes\n",
       "0    Male  ...                Weightlifting, Solitaire\n",
       "1  Female  ...          Walking, Biking, Weightlifting\n",
       "2    Male  ...               Coloring Books, Solitaire\n",
       "3  Female  ...                  Weightlifting, Walking\n",
       "4    Male  ...          Biking, Weightlifting, Walking\n",
       "5  Female  ...          Coloring Books, Jigsaw Puzzles\n",
       "6    Male  ...          Weightlifting, Walking, Biking\n",
       "7  Female  ...          Walking, Biking, Weightlifting\n",
       "8    Male  ...                Coloring Books, Knitting\n",
       "9  Female  ...  Weightlifting, Walking, Jigsaw Puzzles\n",
       "\n",
       "[10 rows x 6 columns]"
      ]
     },
     "execution_count": 57,
     "metadata": {},
     "output_type": "execute_result"
    }
   ],
   "source": [
    "# people_list = []\n",
    "# for person in list(people.items())[0][1]:\n",
    "#     person_list = [i.split(': ') for i in person.split('\\n')]\n",
    "#     person_dict = {j[0]: j[1] for j in person_list}\n",
    "#     people_list.append(person_dict)\n",
    "# people_matter = pd.DataFrame(people_list)"
   ]
  },
  {
   "cell_type": "code",
   "execution_count": 108,
   "metadata": {
    "cellId": "esskj78fkpl99pwkv4qcq8"
   },
   "outputs": [],
   "source": [
    "people_matter['Likes'] = people_matter['Likes'].str.split(', ')\n",
    "people_matter['Dislikes'] = people_matter['Dislikes'].str.split(', ')"
   ]
  },
  {
   "cell_type": "code",
   "execution_count": 76,
   "metadata": {
    "cellId": "gjibi304kbvr8c0qyq04"
   },
   "outputs": [],
   "source": [
    "row = ' '.join(people_matter.loc[0][['Lifestyle', 'Age', 'Race', 'Gender']].values).lower()"
   ]
  },
  {
   "cell_type": "code",
   "execution_count": null,
   "metadata": {
    "cellId": "h80aokmspsb1y5xn006098"
   },
   "outputs": [],
   "source": [
    "' '.join([replacement_dict.get(word, word) for word in input_sentence.split()])"
   ]
  },
  {
   "cell_type": "code",
   "execution_count": 87,
   "metadata": {
    "cellId": "l5fjr1zbg2eefk1hxudxv"
   },
   "outputs": [],
   "source": [
    "def glue(row):\n",
    "    replacement_dict = {'Male': 'man', 'Female': 'woman'}\n",
    "    row['Gender'] = replacement_dict.get(row['Gender'], 'John Cena')\n",
    "    return ' '.join(row[['Lifestyle', 'Age', 'Race', 'Gender']].values).lower()"
   ]
  },
  {
   "cell_type": "code",
   "execution_count": 89,
   "metadata": {
    "cellId": "mz061i65lfpmddmce2e2n"
   },
   "outputs": [],
   "source": [
    "people_matter['Description'] = people_matter.apply(lambda row: glue(row), axis='columns')"
   ]
  },
  {
   "cell_type": "code",
   "execution_count": 93,
   "metadata": {
    "cellId": "sfxry14wp7bhnjwqr7c6"
   },
   "outputs": [
    {
     "ename": "ValueError",
     "evalue": "too many values to unpack (expected 3)",
     "output_type": "error",
     "traceback": [
      "\u001b[0;31m---------------------------------------------------------------------------\u001b[0m",
      "\u001b[0;31mValueError\u001b[0m                                Traceback (most recent call last)",
      "\u001b[0;32m<ipython-input-24-5ac69f138047>\u001b[0m in \u001b[0;36m<module>\u001b[0;34m\u001b[0m\n\u001b[0;32m----> 1\u001b[0;31m \u001b[0mpeople_matter\u001b[0m\u001b[0;34m[\u001b[0m\u001b[0;34m'Like0'\u001b[0m\u001b[0;34m]\u001b[0m\u001b[0;34m,\u001b[0m \u001b[0mpeople_matter\u001b[0m\u001b[0;34m[\u001b[0m\u001b[0;34m'Like1'\u001b[0m\u001b[0;34m]\u001b[0m\u001b[0;34m,\u001b[0m \u001b[0mpeople_matter\u001b[0m\u001b[0;34m[\u001b[0m\u001b[0;34m'Like2'\u001b[0m\u001b[0;34m]\u001b[0m \u001b[0;34m=\u001b[0m \u001b[0mpeople_matter\u001b[0m\u001b[0;34m[\u001b[0m\u001b[0;34m'Likes'\u001b[0m\u001b[0;34m]\u001b[0m\u001b[0;34m.\u001b[0m\u001b[0mstr\u001b[0m\u001b[0;34m.\u001b[0m\u001b[0msplit\u001b[0m\u001b[0;34m(\u001b[0m\u001b[0;34m', '\u001b[0m\u001b[0;34m)\u001b[0m\u001b[0;34m\u001b[0m\u001b[0;34m\u001b[0m\u001b[0m\n\u001b[0m\u001b[1;32m      2\u001b[0m \u001b[0;31m#\u001b[0m\u001b[0;34m\u001b[0m\u001b[0;34m\u001b[0m\u001b[0;34m\u001b[0m\u001b[0m\n",
      "\u001b[0;31mValueError\u001b[0m: too many values to unpack (expected 3)"
     ]
    }
   ],
   "source": [
    "people_matter['Like0'], people_matter['Like1'], people_matter['Like2'] = people_matter['Likes'].str.split(', ')"
   ]
  },
  {
   "cell_type": "code",
   "execution_count": 77,
   "metadata": {
    "cellId": "cmcenaksvpoj675cg88e"
   },
   "outputs": [
    {
     "data": {
      "text/html": [
       "<div>\n",
       "<style scoped>\n",
       "    .dataframe tbody tr th:only-of-type {\n",
       "        vertical-align: middle;\n",
       "    }\n",
       "\n",
       "    .dataframe tbody tr th {\n",
       "        vertical-align: top;\n",
       "    }\n",
       "\n",
       "    .dataframe thead th {\n",
       "        text-align: right;\n",
       "    }\n",
       "</style>\n",
       "<table border=\"1\" class=\"dataframe\">\n",
       "  <thead>\n",
       "    <tr style=\"text-align: right;\">\n",
       "      <th></th>\n",
       "      <th>Gender</th>\n",
       "      <th>Age</th>\n",
       "      <th>Race</th>\n",
       "      <th>Lifestyle</th>\n",
       "      <th>Likes</th>\n",
       "      <th>Dislikes</th>\n",
       "    </tr>\n",
       "  </thead>\n",
       "  <tbody>\n",
       "    <tr>\n",
       "      <th>0</th>\n",
       "      <td>Male</td>\n",
       "      <td>Young Adult</td>\n",
       "      <td>African American</td>\n",
       "      <td>Moderate</td>\n",
       "      <td>Reading, Baking, Watercolor Painting</td>\n",
       "      <td>Weightlifting, Solitaire</td>\n",
       "    </tr>\n",
       "    <tr>\n",
       "      <th>1</th>\n",
       "      <td>Female</td>\n",
       "      <td>Senior</td>\n",
       "      <td>Asian</td>\n",
       "      <td>Sedentary</td>\n",
       "      <td>Knitting, Jigsaw Puzzles, Crosswords</td>\n",
       "      <td>Walking, Biking, Weightlifting</td>\n",
       "    </tr>\n",
       "    <tr>\n",
       "      <th>2</th>\n",
       "      <td>Male</td>\n",
       "      <td>Adult</td>\n",
       "      <td>Hispanic</td>\n",
       "      <td>Active</td>\n",
       "      <td>Walking, Biking, Weightlifting</td>\n",
       "      <td>Coloring Books, Solitaire</td>\n",
       "    </tr>\n",
       "    <tr>\n",
       "      <th>3</th>\n",
       "      <td>Female</td>\n",
       "      <td>Middle-aged</td>\n",
       "      <td>White</td>\n",
       "      <td>Moderate</td>\n",
       "      <td>Reading, Gardening, Baking, Watercolor Painting</td>\n",
       "      <td>Weightlifting, Walking</td>\n",
       "    </tr>\n",
       "    <tr>\n",
       "      <th>4</th>\n",
       "      <td>Male</td>\n",
       "      <td>Young Adult</td>\n",
       "      <td>Asian</td>\n",
       "      <td>Sedentary</td>\n",
       "      <td>Guitar, Meditating, Solitaire</td>\n",
       "      <td>Biking, Weightlifting, Walking</td>\n",
       "    </tr>\n",
       "    <tr>\n",
       "      <th>5</th>\n",
       "      <td>Female</td>\n",
       "      <td>Adult</td>\n",
       "      <td>Hispanic</td>\n",
       "      <td>Active</td>\n",
       "      <td>Biking, Weightlifting, Walking</td>\n",
       "      <td>Coloring Books, Jigsaw Puzzles</td>\n",
       "    </tr>\n",
       "    <tr>\n",
       "      <th>6</th>\n",
       "      <td>Male</td>\n",
       "      <td>Middle-aged</td>\n",
       "      <td>African American</td>\n",
       "      <td>Moderate</td>\n",
       "      <td>Reading, Guitar, Jigsaw Puzzles</td>\n",
       "      <td>Weightlifting, Walking, Biking</td>\n",
       "    </tr>\n",
       "    <tr>\n",
       "      <th>7</th>\n",
       "      <td>Female</td>\n",
       "      <td>Senior</td>\n",
       "      <td>Asian</td>\n",
       "      <td>Sedentary</td>\n",
       "      <td>Knitting, Coloring Books, Crosswords</td>\n",
       "      <td>Walking, Biking, Weightlifting</td>\n",
       "    </tr>\n",
       "    <tr>\n",
       "      <th>8</th>\n",
       "      <td>Male</td>\n",
       "      <td>Young Adult</td>\n",
       "      <td>Hispanic</td>\n",
       "      <td>Active</td>\n",
       "      <td>Biking, Weightlifting, Walking, Guitar</td>\n",
       "      <td>Coloring Books, Knitting</td>\n",
       "    </tr>\n",
       "    <tr>\n",
       "      <th>9</th>\n",
       "      <td>Female</td>\n",
       "      <td>Middle-aged</td>\n",
       "      <td>Asian</td>\n",
       "      <td>Moderate</td>\n",
       "      <td>Reading, Baking, Watercolor Painting, Crosswords</td>\n",
       "      <td>Weightlifting, Walking, Jigsaw Puzzles</td>\n",
       "    </tr>\n",
       "  </tbody>\n",
       "</table>\n",
       "</div>"
      ],
      "text/plain": [
       "   Gender  ...                                Dislikes\n",
       "0    Male  ...                Weightlifting, Solitaire\n",
       "1  Female  ...          Walking, Biking, Weightlifting\n",
       "2    Male  ...               Coloring Books, Solitaire\n",
       "3  Female  ...                  Weightlifting, Walking\n",
       "4    Male  ...          Biking, Weightlifting, Walking\n",
       "5  Female  ...          Coloring Books, Jigsaw Puzzles\n",
       "6    Male  ...          Weightlifting, Walking, Biking\n",
       "7  Female  ...          Walking, Biking, Weightlifting\n",
       "8    Male  ...                Coloring Books, Knitting\n",
       "9  Female  ...  Weightlifting, Walking, Jigsaw Puzzles\n",
       "\n",
       "[10 rows x 6 columns]"
      ]
     },
     "execution_count": 77,
     "metadata": {},
     "output_type": "execute_result"
    }
   ],
   "source": [
    "people_matter"
   ]
  },
  {
   "cell_type": "code",
   "execution_count": null,
   "metadata": {
    "cellId": "e959guuyceu0hn7glari8nj"
   },
   "outputs": [],
   "source": []
  },
  {
   "cell_type": "code",
   "execution_count": null,
   "metadata": {
    "cellId": "5r2ssrh40yqaz712ujk7n8"
   },
   "outputs": [],
   "source": [
    "1/0"
   ]
  },
  {
   "cell_type": "code",
   "execution_count": 18,
   "metadata": {
    "cellId": "2oxz81hw58eitf1pm6jdnf",
    "colab": {
     "base_uri": "https://localhost:8080/",
     "height": 332
    },
    "id": "gXHna47icvDH",
    "outputId": "8bd6c2bf-fdc4-4ba6-a8e3-5ec118a96c67"
   },
   "outputs": [],
   "source": [
    "for df in [people, messages, images]:\n",
    "    df['embedding'] = df['content'].apply(get_embedding)\n",
    "\n",
    "    # offset each group by it's center\n",
    "    emb_center = df['embedding'].mean()\n",
    "    df['embedding'] = df['embedding'].apply(lambda emb: emb - emb_center)"
   ]
  },
  {
   "cell_type": "markdown",
   "metadata": {
    "cellId": "yqxlve4rmkl4xnvte5hlsg"
   },
   "source": [
    "### Visualize embeddings"
   ]
  },
  {
   "cell_type": "code",
   "execution_count": null,
   "metadata": {
    "cellId": "yhzjh2e8tdmw2gcxrrs99",
    "colab": {
     "base_uri": "https://localhost:8080/",
     "height": 823
    },
    "id": "NXrs2IiC7YTa",
    "outputId": "0a9bcfa9-6c37-41ea-a3dc-1a98fee15bea"
   },
   "outputs": [],
   "source": [
    "embs = people.embedding.tolist() + messages.embedding.tolist() + images.embedding.tolist()\n",
    "fig, ax = plt.subplots(1, 2, figsize=(10,4))\n",
    "\n",
    "# plot embedding difference norm\n",
    "emb_norm_diff = [[np.linalg.norm(e1-e2) for e2 in embs] for e1 in embs]\n",
    "im0 = ax[0].imshow(emb_norm_diff, cmap='pink', vmin=0., vmax=1.)\n",
    "ax[0].set_title('pairwise difference norm')\n",
    "ax[0].grid(False)\n",
    "plt.colorbar(im0, ax=ax[0])\n",
    "\n",
    "# plot embedding cosine similarity\n",
    "emb_cossim = [[np.dot(e1,e2)/(np.linalg.norm(e1)*np.linalg.norm(e2)) for e2 in embs] for e1 in embs]\n",
    "im1 = ax[1].imshow(emb_cossim, cmap='viridis', vmin=-1., vmax=1.)\n",
    "ax[1].set_title('pairwise cosine similarity')\n",
    "ax[1].grid(False)\n",
    "plt.colorbar(im1, ax=ax[1])\n",
    "\n",
    "plt.tight_layout()\n",
    "plt.show()\n",
    "\n",
    "# plot embedding pca\n",
    "emb_pca = PCA(n_components=2).fit_transform(embs)\n",
    "people_pca, messages_pca, images_pca = np.split(emb_pca, [len(people),-len(images)])\n",
    "fig, ax = plt.subplots(figsize=(8,5))\n",
    "# plot people pca\n",
    "ax.scatter(people_pca[:,0], people_pca[:,1], s=100)\n",
    "for ind, pnt in enumerate(people_pca):\n",
    "    ax.annotate(f'  p{ind}', pnt)\n",
    "# plot messages pca\n",
    "ax.scatter(messages_pca[:,0], messages_pca[:,1], s=100)\n",
    "for ind, pnt in enumerate(messages_pca):\n",
    "    ax.annotate(f'  m{ind}', pnt)\n",
    "# plot images pca\n",
    "ax.scatter(images_pca[:,0], images_pca[:,1], s=100)\n",
    "for ind, pnt in enumerate(images_pca):\n",
    "    ax.annotate(f'  i{ind}', pnt)\n",
    "plt.tight_layout()\n",
    "plt.show()"
   ]
  },
  {
   "cell_type": "code",
   "execution_count": null,
   "metadata": {
    "cellId": "4vcqyl4757varc2abi9f6"
   },
   "outputs": [],
   "source": []
  },
  {
   "cell_type": "markdown",
   "metadata": {
    "cellId": "iohtzlx0sqth3v2jt4q79"
   },
   "source": [
    "### Compute recommendations"
   ]
  },
  {
   "cell_type": "code",
   "execution_count": null,
   "metadata": {
    "cellId": "gsszorfr6wjoq2b1eqopob"
   },
   "outputs": [],
   "source": [
    "def softmax(x, temp=1.):\n",
    "    \"\"\"Compute row-wise softmax of a matrix x\"\"\"\n",
    "    z = np.array(x)\n",
    "    z -= z.max(axis=1, keepdims=True)\n",
    "    z = np.exp(z / temp)\n",
    "    z /= z.sum(axis=1, keepdims=True)\n",
    "    return z\n",
    "\n",
    "\n",
    "def get_recs(df1, df2, temp=.1, k=3):\n",
    "    \"\"\"Normalize df1-df2 proximity and return k best/worst recommendations\"\"\"\n",
    "    neg_norms = [[-np.linalg.norm(e1-e2) for e2 in df2.embedding] for e1 in df1.embedding]\n",
    "    probs = softmax(neg_norms, temp=temp)\n",
    "    print(f'probability distribution:\\n{probs}')\n",
    "    \n",
    "    # show k best/worst recommendations for each element\n",
    "    inds = probs.argsort(axis=1)\n",
    "    for i in range(len(df1)):\n",
    "        print('\\n========================\\n')\n",
    "        print(df1.loc[i].content)\n",
    "        \n",
    "        # k best recommendations\n",
    "        print()\n",
    "        for j in range(k):\n",
    "            l = inds[i][~j]\n",
    "            print(f'#{l} ({100*probs[i][l]:.0f}%): {df2.loc[l].content}')\n",
    "\n",
    "        # k worst recommendations\n",
    "        print()\n",
    "        for j in range(k):\n",
    "            l = inds[i][j]\n",
    "            print(f'#{l} ({100*probs[i][l]:.0f}%): {df2.loc[l].content}')"
   ]
  },
  {
   "cell_type": "code",
   "execution_count": null,
   "metadata": {
    "cellId": "ujlipq0lmzp9hdgfr4ioqp"
   },
   "outputs": [],
   "source": []
  },
  {
   "cell_type": "code",
   "execution_count": null,
   "metadata": {
    "cellId": "x1r1kxvn75ko4zko6nj2k"
   },
   "outputs": [],
   "source": [
    "# people--images\n",
    "get_recs(people, images)"
   ]
  },
  {
   "cell_type": "code",
   "execution_count": null,
   "metadata": {
    "cellId": "3874qix4blumaqvf1uu9bk"
   },
   "outputs": [],
   "source": []
  },
  {
   "cell_type": "code",
   "execution_count": null,
   "metadata": {
    "cellId": "1o53tan6q2121ch4thzggl"
   },
   "outputs": [],
   "source": [
    "# messages--images\n",
    "get_recs(messages, images)"
   ]
  },
  {
   "cell_type": "code",
   "execution_count": null,
   "metadata": {
    "cellId": "wfgcvmn60cb04trqxqper"
   },
   "outputs": [],
   "source": []
  },
  {
   "cell_type": "code",
   "execution_count": null,
   "metadata": {
    "cellId": "d46oed5fs1nous6sgo3w"
   },
   "outputs": [],
   "source": [
    "# people--messages\n",
    "get_recs(people, messages)"
   ]
  },
  {
   "cell_type": "code",
   "execution_count": null,
   "metadata": {
    "cellId": "vk8uwe2oobhgds5yv1slu"
   },
   "outputs": [],
   "source": []
  },
  {
   "cell_type": "code",
   "execution_count": null,
   "metadata": {
    "cellId": "i1f1p08yw8axtilh4ja9v"
   },
   "outputs": [],
   "source": []
  },
  {
   "cell_type": "code",
   "execution_count": null,
   "metadata": {
    "cellId": "8phstxphrpdhv6mrt6ahz"
   },
   "outputs": [],
   "source": []
  },
  {
   "cell_type": "code",
   "execution_count": null,
   "metadata": {
    "cellId": "zwmw13sf0bdcmt8s5k6cpr"
   },
   "outputs": [],
   "source": []
  },
  {
   "cell_type": "code",
   "execution_count": null,
   "metadata": {
    "cellId": "fufmscawn3b4ixjfwnso"
   },
   "outputs": [],
   "source": []
  },
  {
   "cell_type": "code",
   "execution_count": null,
   "metadata": {
    "cellId": "650popw8p74xwof0m0q8s8"
   },
   "outputs": [],
   "source": []
  }
 ],
 "metadata": {
  "colab": {
   "provenance": []
  },
  "language_info": {
   "codemirror_mode": {
    "name": "ipython",
    "version": 3
   },
   "file_extension": ".py",
   "mimetype": "text/x-python",
   "name": "python",
   "nbconvert_exporter": "python",
   "pygments_lexer": "ipython3",
   "version": "3.7.7"
  },
  "notebookId": "c7e17411-8c27-43ef-82af-b7dbba7f41e3",
  "notebookPath": "wain23.ipynb"
 },
 "nbformat": 4,
 "nbformat_minor": 4
}
