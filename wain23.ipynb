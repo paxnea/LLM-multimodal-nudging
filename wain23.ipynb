{
 "cells": [
  {
   "cell_type": "code",
   "execution_count": 3,
   "metadata": {
    "id": "JKI2wmp4co1n"
   },
   "outputs": [],
   "source": [
    "import os\n",
    "import openai\n",
    "import pandas as pd\n",
    "import numpy as np\n",
    "import matplotlib.pyplot as plt\n",
    "from sklearn.decomposition import PCA\n",
    "\n",
    "openai.api_key = os.environ['OPENAI_API_KEY']\n",
    "\n",
    "\n",
    "def get_embedding(text):\n",
    "    '''Compute GPT3-embedding for a given text string'''\n",
    "    result = openai.Embedding.create(input=text, model='text-embedding-ada-002')\n",
    "    return result.data[0].embedding"
   ]
  },
  {
   "cell_type": "code",
   "execution_count": 4,
   "metadata": {
    "id": "t-XG_kjNcuEG"
   },
   "outputs": [],
   "source": [
    "people = [\n",
    "    'middle-aged white man who likes outdise activities',\n",
    "    'young black woman who enjoyes staying inside and read books',\n",
    "    'old hispanic man who likes sports and active lifestyle',\n",
    "    ]\n",
    "\n",
    "messages = [\n",
    "    'take a break and read a book',\n",
    "    'go take a walk in a park',\n",
    "    'ride a bike or swim in a pool',\n",
    "    ]\n",
    "\n",
    "images = [\n",
    "    'a picture of a young man riding a bike',\n",
    "    'an image of a books and a tea cup',\n",
    "    'an illustration of a park with trees and shit',\n",
    "    ]"
   ]
  },
  {
   "cell_type": "code",
   "execution_count": 5,
   "metadata": {
    "colab": {
     "base_uri": "https://localhost:8080/",
     "height": 332
    },
    "id": "gXHna47icvDH",
    "outputId": "8bd6c2bf-fdc4-4ba6-a8e3-5ec118a96c67"
   },
   "outputs": [
    {
     "data": {
      "text/html": [
       "<div>\n",
       "<style scoped>\n",
       "    .dataframe tbody tr th:only-of-type {\n",
       "        vertical-align: middle;\n",
       "    }\n",
       "\n",
       "    .dataframe tbody tr th {\n",
       "        vertical-align: top;\n",
       "    }\n",
       "\n",
       "    .dataframe thead th {\n",
       "        text-align: right;\n",
       "    }\n",
       "</style>\n",
       "<table border=\"1\" class=\"dataframe\">\n",
       "  <thead>\n",
       "    <tr style=\"text-align: right;\">\n",
       "      <th></th>\n",
       "      <th>content</th>\n",
       "      <th>embedding</th>\n",
       "    </tr>\n",
       "  </thead>\n",
       "  <tbody>\n",
       "    <tr>\n",
       "      <th>0</th>\n",
       "      <td>middle-aged white man who likes outdise activi...</td>\n",
       "      <td>[-0.00290665146894753, -0.01847919635474682, 0...</td>\n",
       "    </tr>\n",
       "    <tr>\n",
       "      <th>1</th>\n",
       "      <td>young black woman who enjoyes staying inside a...</td>\n",
       "      <td>[-0.008273256942629814, -0.018472354859113693,...</td>\n",
       "    </tr>\n",
       "    <tr>\n",
       "      <th>2</th>\n",
       "      <td>old hispanic man who likes sports and active l...</td>\n",
       "      <td>[-0.01603090949356556, 0.0036470319610089064, ...</td>\n",
       "    </tr>\n",
       "    <tr>\n",
       "      <th>3</th>\n",
       "      <td>take a break and read a book</td>\n",
       "      <td>[-0.006369683425873518, -0.020342404022812843,...</td>\n",
       "    </tr>\n",
       "    <tr>\n",
       "      <th>4</th>\n",
       "      <td>go take a walk in a park</td>\n",
       "      <td>[0.008950120769441128, -0.0046096970327198505,...</td>\n",
       "    </tr>\n",
       "    <tr>\n",
       "      <th>5</th>\n",
       "      <td>ride a bike or swim in a pool</td>\n",
       "      <td>[0.009990998543798923, 0.0008240493480116129, ...</td>\n",
       "    </tr>\n",
       "    <tr>\n",
       "      <th>6</th>\n",
       "      <td>a picture of a young man riding a bike</td>\n",
       "      <td>[-0.005093972664326429, -0.009724857285618782,...</td>\n",
       "    </tr>\n",
       "    <tr>\n",
       "      <th>7</th>\n",
       "      <td>an image of a books and a tea cup</td>\n",
       "      <td>[-0.009359859861433506, -0.013218122534453869,...</td>\n",
       "    </tr>\n",
       "    <tr>\n",
       "      <th>8</th>\n",
       "      <td>an illustration of a park with trees and shit</td>\n",
       "      <td>[-0.0023086960427463055, -0.008225834928452969...</td>\n",
       "    </tr>\n",
       "  </tbody>\n",
       "</table>\n",
       "</div>"
      ],
      "text/plain": [
       "                                             content  \\\n",
       "0  middle-aged white man who likes outdise activi...   \n",
       "1  young black woman who enjoyes staying inside a...   \n",
       "2  old hispanic man who likes sports and active l...   \n",
       "3                       take a break and read a book   \n",
       "4                           go take a walk in a park   \n",
       "5                      ride a bike or swim in a pool   \n",
       "6             a picture of a young man riding a bike   \n",
       "7                  an image of a books and a tea cup   \n",
       "8      an illustration of a park with trees and shit   \n",
       "\n",
       "                                           embedding  \n",
       "0  [-0.00290665146894753, -0.01847919635474682, 0...  \n",
       "1  [-0.008273256942629814, -0.018472354859113693,...  \n",
       "2  [-0.01603090949356556, 0.0036470319610089064, ...  \n",
       "3  [-0.006369683425873518, -0.020342404022812843,...  \n",
       "4  [0.008950120769441128, -0.0046096970327198505,...  \n",
       "5  [0.009990998543798923, 0.0008240493480116129, ...  \n",
       "6  [-0.005093972664326429, -0.009724857285618782,...  \n",
       "7  [-0.009359859861433506, -0.013218122534453869,...  \n",
       "8  [-0.0023086960427463055, -0.008225834928452969...  "
      ]
     },
     "execution_count": 5,
     "metadata": {},
     "output_type": "execute_result"
    }
   ],
   "source": [
    "df = pd.DataFrame(people + messages + images, columns=['content'])\n",
    "df['embedding'] = df['content'].apply(get_embedding)\n",
    "df"
   ]
  },
  {
   "cell_type": "code",
   "execution_count": 10,
   "metadata": {
    "colab": {
     "base_uri": "https://localhost:8080/",
     "height": 823
    },
    "id": "Wg9mw7-AcvH7",
    "outputId": "6f2b425a-81d4-4cd1-d205-aacd3e10c12b"
   },
   "outputs": [
    {
     "data": {
      "image/png": "[encoded data removed]",
      "text/plain": [
       "<Figure size 720x288 with 4 Axes>"
      ]
     },
     "metadata": {
      "needs_background": "light"
     },
     "output_type": "display_data"
    },
    {
     "data": {
      "image/png": "[encoded data removed]",
      "text/plain": [
       "<Figure size 432x288 with 1 Axes>"
      ]
     },
     "metadata": {
      "needs_background": "light"
     },
     "output_type": "display_data"
    }
   ],
   "source": [
    "fig, ax = plt.subplots(1, 2, figsize=(10,4))\n",
    "\n",
    "# embeeding difference norm\n",
    "emb_norm_diff = np.array([[np.linalg.norm(np.array(e1)-np.array(e2))\\\n",
    "                           for e2 in df['embedding']] for e1 in df['embedding']])\n",
    "im0 = ax[0].imshow(emb_norm_diff, cmap='pink', vmin=0., vmax=1.)\n",
    "ax[0].set_title('pairwise difference norm')\n",
    "ax[0].grid(False)\n",
    "plt.colorbar(im0, ax=ax[0])\n",
    "\n",
    "# embedding cosine similarity\n",
    "emb_cossim = np.array([[np.dot(e1,e2) for e2 in df['embedding']] for e1 in df['embedding']])\n",
    "im1 = ax[1].imshow(emb_cossim, cmap='viridis', vmin=0., vmax=1.)\n",
    "ax[1].set_title('pairwise cosine similarity')\n",
    "ax[1].grid(False)\n",
    "plt.colorbar(im1, ax=ax[1])\n",
    "\n",
    "plt.tight_layout()\n",
    "plt.show()\n",
    "\n",
    "\n",
    "# embedding pca\n",
    "emb = df['embedding'].tolist()\n",
    "emb_pca = PCA(n_components=2).fit_transform(emb)\n",
    "emb_person, emb_message, emb_image = np.split(emb_pca, [len(people),-len(images)])\n",
    "fig, ax = plt.subplots(figsize=(6,4))\n",
    "ax.scatter(emb_person[:,0], emb_person[:,1], s=100)\n",
    "ax.scatter(emb_message[:,0], emb_message[:,1], s=100)\n",
    "ax.scatter(emb_image[:,0], emb_image[:,1], s=100)\n",
    "for i in range(len(df)):\n",
    "    ax.annotate(f'  {i+1}', emb_pca[i])\n",
    "plt.tight_layout()\n",
    "plt.show()"
   ]
  },
  {
   "cell_type": "code",
   "execution_count": null,
   "metadata": {
    "id": "ivCDpGqscvNT"
   },
   "outputs": [],
   "source": []
  },
  {
   "cell_type": "code",
   "execution_count": 11,
   "metadata": {
    "id": "Bh5T46iOcvPn"
   },
   "outputs": [],
   "source": [
    "embs = np.split(df['embedding'].tolist(), [len(people),-len(images)])\n",
    "for emb in embs:\n",
    "    emb -= emb.mean(axis=0)\n",
    "df['embedding2'] = list(np.concatenate(embs))"
   ]
  },
  {
   "cell_type": "code",
   "execution_count": 14,
   "metadata": {
    "colab": {
     "base_uri": "https://localhost:8080/",
     "height": 823
    },
    "id": "NXrs2IiC7YTa",
    "outputId": "0a9bcfa9-6c37-41ea-a3dc-1a98fee15bea"
   },
   "outputs": [
    {
     "data": {
      "image/png": "[encoded data removed]",
      "text/plain": [
       "<Figure size 720x288 with 4 Axes>"
      ]
     },
     "metadata": {
      "needs_background": "light"
     },
     "output_type": "display_data"
    },
    {
     "data": {
      "image/png": "[encoded data removed]",
      "text/plain": [
       "<Figure size 432x288 with 1 Axes>"
      ]
     },
     "metadata": {
      "needs_background": "light"
     },
     "output_type": "display_data"
    }
   ],
   "source": [
    "fig, ax = plt.subplots(1, 2, figsize=(10,4))\n",
    "\n",
    "# embeeding difference norm\n",
    "emb_norm_diff = np.array([[np.linalg.norm(np.array(e1)-np.array(e2)) for e2 in df['embedding2']] for e1 in df['embedding2']])\n",
    "im0 = ax[0].imshow(emb_norm_diff, cmap='pink', vmin=0., vmax=1.)\n",
    "ax[0].set_title('pairwise difference norm')\n",
    "ax[0].grid(False)\n",
    "plt.colorbar(im0, ax=ax[0])\n",
    "\n",
    "# embedding cosine similarity\n",
    "emb_cossim = np.array([[np.dot(e1,e2) / (np.linalg.norm(e1) * np.linalg.norm(e2)) for e2 in df['embedding2']] for e1 in df['embedding2']])\n",
    "im1 = ax[1].imshow(emb_cossim, cmap='viridis', vmin=-1., vmax=1.)\n",
    "ax[1].set_title('pairwise cosine similarity')\n",
    "ax[1].grid(False)\n",
    "plt.colorbar(im1, ax=ax[1])\n",
    "\n",
    "plt.tight_layout()\n",
    "plt.show()\n",
    "\n",
    "\n",
    "# embedding pca\n",
    "emb = df['embedding2'].tolist()\n",
    "emb_pca = PCA(n_components=2).fit_transform(emb)\n",
    "emb_person, emb_message, emb_image = np.split(emb_pca, [len(people),-len(images)])\n",
    "fig, ax = plt.subplots(figsize=(6,4))\n",
    "ax.scatter(emb_person[:,0], emb_person[:,1], s=100)\n",
    "ax.scatter(emb_message[:,0], emb_message[:,1], s=100)\n",
    "ax.scatter(emb_image[:,0], emb_image[:,1], s=100)\n",
    "for i in range(len(df)):\n",
    "    ax.annotate(f'  {i+1}', emb_pca[i])\n",
    "plt.tight_layout()\n",
    "plt.show()"
   ]
  },
  {
   "cell_type": "code",
   "execution_count": null,
   "metadata": {
    "id": "iAx28dSX7YhS"
   },
   "outputs": [],
   "source": []
  },
  {
   "cell_type": "code",
   "execution_count": null,
   "metadata": {
    "id": "Ifik5o4Y7YlB"
   },
   "outputs": [],
   "source": []
  },
  {
   "cell_type": "code",
   "execution_count": null,
   "metadata": {
    "id": "MR4Vad9y7ZRb"
   },
   "outputs": [],
   "source": []
  }
 ],
 "metadata": {
  "colab": {
   "provenance": []
  },
  "kernelspec": {
   "display_name": "Python 3 (ipykernel)",
   "language": "python",
   "name": "python3"
  },
  "language_info": {
   "codemirror_mode": {
    "name": "ipython",
    "version": 3
   },
   "file_extension": ".py",
   "mimetype": "text/x-python",
   "name": "python",
   "nbconvert_exporter": "python",
   "pygments_lexer": "ipython3",
   "version": "3.7.16"
  }
 },
 "nbformat": 4,
 "nbformat_minor": 1
}
