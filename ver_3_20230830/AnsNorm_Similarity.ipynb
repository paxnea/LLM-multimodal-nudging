{
 "cells": [
  {
   "attachments": {},
   "cell_type": "markdown",
   "metadata": {},
   "source": [
    "# Intro"
   ]
  },
  {
   "attachments": {},
   "cell_type": "markdown",
   "metadata": {},
   "source": [
    "Consider computing the distance (non-similarity) between the two given vectors<br>\n",
    "of length normalized from -1 to 1 in user preference applications.<br>\n",
    "Distance of 0 between the two must mean that they are completely the same,<br>\n",
    "larger distances mean less similarity.<br><br>\n",
    "\n",
    "Classical methods such as Euclidean distance and Cosine similarity<br>\n",
    "have their limitations and downsides.<br>\n",
    "Calculating the dot product as a similarity mesaure is even farther from being ideal.<br><br>\n",
    "\n",
    "Euclidean distance does not pay attention to the direction of vectors<br>\n",
    "while cosine distance ignores the magnitude. Meanwhile dot product as a measure<br>\n",
    "ignores the common sense.<br><br>\n",
    "\n",
    "One possible solution to the problem of evaluating how similar two vectorised personalities are<br>\n",
    "is AnsNorm Similarity method given below.<br><br>\n",
    "\n",
    "Here you can find several cases when the classics aren't ideal<br>\n",
    "and test ansnorm() function on the same given examples.<br><br>\n",
    "\n",
    "FYI:<br>\n",
    "cosine returns values from 0 to 2<br>\n",
    "euclidean returns values from 0 to +inf<br>\n",
    "dot product is any number from -inf to +inf<br><br>\n",
    "As for <b>ansnorm</b>,<br>\n",
    "for input vectors normalised from -1 to 1<br>\n",
    "it outputs distance values from 0 to 1:<br>\n",
    "0 for identical entities and 1 for the most dissimilar.\n"
   ]
  },
  {
   "attachments": {},
   "cell_type": "markdown",
   "metadata": {},
   "source": [
    "# Initiate"
   ]
  },
  {
   "cell_type": "code",
   "execution_count": 1,
   "metadata": {
    "cellId": "rwsna54marauushmzmtrq",
    "id": "JKI2wmp4co1n"
   },
   "outputs": [],
   "source": [
    "import numpy as np\n",
    "from scipy.spatial.distance import cosine, euclidean"
   ]
  },
  {
   "attachments": {},
   "cell_type": "markdown",
   "metadata": {},
   "source": [
    "# Definitions"
   ]
  },
  {
   "cell_type": "code",
   "execution_count": 2,
   "metadata": {
    "cellId": "74ogzhb67pye86yyw5paqk"
   },
   "outputs": [],
   "source": [
    "def get_cosine(vec_1, vec_2, epsilon=10**-6):\n",
    "    \"\"\"\n",
    "    cosine() is so bad, that it's incapable\n",
    "    of evaluating [0, 0] to [1, 1] distance\n",
    "    due to zero division.\n",
    "    Thus we manually bring it to live here\n",
    "    \"\"\"\n",
    "    vec_1 = [i if i else epsilon for i in vec_1]\n",
    "    vec_2 = [i if i else epsilon for i in vec_2]\n",
    "    return cosine(vec_1, vec_2)"
   ]
  },
  {
   "cell_type": "code",
   "execution_count": 3,
   "metadata": {
    "cellId": "jtzurdrhnlofiv5wyuyxnn"
   },
   "outputs": [],
   "source": [
    "def ansnorm(vec_1, vec_2):\n",
    "    \"\"\"\n",
    "    intended to work with -1 to 1 normalized vectors\n",
    "    combines two approaches so that negatives of cosine similarity\n",
    "    are smoothened as well as the negatives of euclidean alone\n",
    "    \"\"\"\n",
    "    euc = euclidean(vec_1, vec_2)\n",
    "    cos = get_cosine(vec_1, vec_2)\n",
    "    # let's scale both distances to [0, 1]\n",
    "    # since cosine() lies between 0 and 2, halve it    \n",
    "    cos /= 2\n",
    "    # now normalize the euclidean distance output\n",
    "    # larges distances in our case are beteween\n",
    "    # [-1, -1, ... , -1] and [1, 1, ... , 1]\n",
    "    # and the value depends on n dimensions\n",
    "    # so let's consider it\n",
    "    ones = np.ones(len(vec_1))\n",
    "    largest_euc = euclidean(-ones, ones)\n",
    "    euc /= largest_euc    \n",
    "    dist = euc/2 + euc*cos + cos/2\n",
    "    # scale dist to [0, 1]\n",
    "    dist /= 2\n",
    "    # return euc, cos, dist  # an option for testing the function\n",
    "    return dist"
   ]
  },
  {
   "attachments": {},
   "cell_type": "markdown",
   "metadata": {},
   "source": [
    "# Distance calculation showcases"
   ]
  },
  {
   "attachments": {},
   "cell_type": "markdown",
   "metadata": {},
   "source": [
    "## Dot product"
   ]
  },
  {
   "attachments": {},
   "cell_type": "markdown",
   "metadata": {},
   "source": [
    "### Dot product 1: Being not applicable for measuring similarity"
   ]
  },
  {
   "cell_type": "code",
   "execution_count": 4,
   "metadata": {},
   "outputs": [
    {
     "data": {
      "text/plain": [
       "0"
      ]
     },
     "execution_count": 4,
     "metadata": {},
     "output_type": "execute_result"
    }
   ],
   "source": [
    "np.dot([0,0,0], [0,0,0])  # read: they are the same. TRUE"
   ]
  },
  {
   "cell_type": "code",
   "execution_count": 5,
   "metadata": {},
   "outputs": [
    {
     "data": {
      "text/plain": [
       "0"
      ]
     },
     "execution_count": 5,
     "metadata": {},
     "output_type": "execute_result"
    }
   ],
   "source": [
    "np.dot([0,0,0], [1,1,1])  # read: they are the same. FALSE"
   ]
  },
  {
   "cell_type": "code",
   "execution_count": 6,
   "metadata": {},
   "outputs": [
    {
     "data": {
      "text/plain": [
       "3"
      ]
     },
     "execution_count": 6,
     "metadata": {},
     "output_type": "execute_result"
    }
   ],
   "source": [
    "np.dot([1,1,1], [1,1,1])  # read: they are different. FALSE"
   ]
  },
  {
   "cell_type": "code",
   "execution_count": 7,
   "metadata": {},
   "outputs": [
    {
     "data": {
      "text/plain": [
       "-3"
      ]
     },
     "execution_count": 7,
     "metadata": {},
     "output_type": "execute_result"
    }
   ],
   "source": [
    "np.dot([-1,-1,-1], [1,1,1])  # read: they are super-close. FALSE"
   ]
  },
  {
   "cell_type": "markdown",
   "metadata": {},
   "source": [
    "#### Dot product 1 VS Right answers"
   ]
  },
  {
   "cell_type": "code",
   "execution_count": 8,
   "metadata": {},
   "outputs": [
    {
     "name": "stdout",
     "output_type": "stream",
     "text": [
      "0 vs 0.0\n"
     ]
    }
   ],
   "source": [
    "print(f'{np.dot([0,0,0], [0,0,0])} vs {ansnorm([0,0,0], [0,0,0])}')"
   ]
  },
  {
   "cell_type": "code",
   "execution_count": 9,
   "metadata": {},
   "outputs": [
    {
     "name": "stdout",
     "output_type": "stream",
     "text": [
      "0 vs 0.125\n"
     ]
    }
   ],
   "source": [
    "print(f'{np.dot([0,0,0], [1,1,1])} vs {ansnorm([0,0,0], [1,1,1])}')"
   ]
  },
  {
   "cell_type": "code",
   "execution_count": 10,
   "metadata": {},
   "outputs": [
    {
     "name": "stdout",
     "output_type": "stream",
     "text": [
      "3 vs 0.0\n"
     ]
    }
   ],
   "source": [
    "print(f'{np.dot([1,1,1], [1,1,1])} vs {ansnorm([1,1,1], [1,1,1])}')"
   ]
  },
  {
   "cell_type": "code",
   "execution_count": 11,
   "metadata": {},
   "outputs": [
    {
     "name": "stdout",
     "output_type": "stream",
     "text": [
      "-3 vs 1.0\n"
     ]
    }
   ],
   "source": [
    "print(f'{np.dot([-1,-1,-1], [1,1,1])} vs {ansnorm([-1,-1,-1], [1,1,1])}')"
   ]
  },
  {
   "attachments": {},
   "cell_type": "markdown",
   "metadata": {},
   "source": [
    "### Dot product 2: Farther is closer"
   ]
  },
  {
   "cell_type": "code",
   "execution_count": 12,
   "metadata": {},
   "outputs": [
    {
     "data": {
      "text/plain": [
       "True"
      ]
     },
     "execution_count": 12,
     "metadata": {},
     "output_type": "execute_result"
    }
   ],
   "source": [
    "np.dot([0.1,0.1,0.1], [-0.1,-0.1,-0.1]) > np.dot([1,1,1], [-1,-1,-1]) # read: farther is closer: False"
   ]
  },
  {
   "attachments": {},
   "cell_type": "markdown",
   "metadata": {},
   "source": [
    "#### Dot product 2 Right answer"
   ]
  },
  {
   "cell_type": "code",
   "execution_count": 13,
   "metadata": {},
   "outputs": [
    {
     "data": {
      "text/plain": [
       "False"
      ]
     },
     "execution_count": 13,
     "metadata": {},
     "output_type": "execute_result"
    }
   ],
   "source": [
    "ansnorm([0.1,0.1,0.1], [-0.1,-0.1,-0.1]) > ansnorm([1,1,1], [-1,-1,-1])"
   ]
  },
  {
   "attachments": {},
   "cell_type": "markdown",
   "metadata": {},
   "source": [
    "### Dot product 3: Same things aren't same. In different ways"
   ]
  },
  {
   "cell_type": "code",
   "execution_count": 14,
   "metadata": {},
   "outputs": [
    {
     "data": {
      "text/plain": [
       "True"
      ]
     },
     "execution_count": 14,
     "metadata": {},
     "output_type": "execute_result"
    }
   ],
   "source": [
    "np.dot([100], [100]) > np.dot([25], [25])  # two identical vectors are less similar if their the magnitude is larger. FALSE"
   ]
  },
  {
   "cell_type": "code",
   "execution_count": 15,
   "metadata": {},
   "outputs": [
    {
     "data": {
      "text/plain": [
       "True"
      ]
     },
     "execution_count": 15,
     "metadata": {},
     "output_type": "execute_result"
    }
   ],
   "source": [
    "np.dot([1], [1]) > np.dot([0.25], [0.25])  # two identical vectors are less similar if their the magnitude is larger. FALSE"
   ]
  },
  {
   "attachments": {},
   "cell_type": "markdown",
   "metadata": {},
   "source": [
    "#### Dot product 3 Right answers"
   ]
  },
  {
   "cell_type": "code",
   "execution_count": 16,
   "metadata": {},
   "outputs": [
    {
     "data": {
      "text/plain": [
       "False"
      ]
     },
     "execution_count": 16,
     "metadata": {},
     "output_type": "execute_result"
    }
   ],
   "source": [
    "ansnorm([100], [100]) > ansnorm([25], [25])  # be careful, ansnorm is not intended for use outside of (-1, 1)"
   ]
  },
  {
   "cell_type": "code",
   "execution_count": 17,
   "metadata": {},
   "outputs": [
    {
     "data": {
      "text/plain": [
       "False"
      ]
     },
     "execution_count": 17,
     "metadata": {},
     "output_type": "execute_result"
    }
   ],
   "source": [
    "ansnorm([1], [1]) > ansnorm([0.25], [0.25])"
   ]
  },
  {
   "attachments": {},
   "cell_type": "markdown",
   "metadata": {},
   "source": [
    "## Euclidean"
   ]
  },
  {
   "attachments": {},
   "cell_type": "markdown",
   "metadata": {},
   "source": [
    "### Euclidean 1: Being on the farthest corner is evaluated differently for different n-dims"
   ]
  },
  {
   "attachments": {},
   "cell_type": "markdown",
   "metadata": {},
   "source": [
    "The more dimensions are there - the larger the distance between the unit vectors pointing in opposite directions.<br>\n",
    "It does not come handy when trying to make a conclusion on how similar vectorized personalities are."
   ]
  },
  {
   "cell_type": "code",
   "execution_count": 60,
   "metadata": {},
   "outputs": [
    {
     "data": {
      "text/plain": [
       "1.0"
      ]
     },
     "execution_count": 60,
     "metadata": {},
     "output_type": "execute_result"
    }
   ],
   "source": [
    "euclidean([0], [1])"
   ]
  },
  {
   "cell_type": "code",
   "execution_count": 61,
   "metadata": {},
   "outputs": [
    {
     "data": {
      "text/plain": [
       "1.4142135623730951"
      ]
     },
     "execution_count": 61,
     "metadata": {},
     "output_type": "execute_result"
    }
   ],
   "source": [
    "euclidean([0,0], [1,1])"
   ]
  },
  {
   "cell_type": "code",
   "execution_count": 62,
   "metadata": {},
   "outputs": [
    {
     "data": {
      "text/plain": [
       "1.7320508075688772"
      ]
     },
     "execution_count": 62,
     "metadata": {},
     "output_type": "execute_result"
    }
   ],
   "source": [
    "euclidean([0,0,0], [1,1,1])"
   ]
  },
  {
   "cell_type": "code",
   "execution_count": 72,
   "metadata": {},
   "outputs": [
    {
     "data": {
      "text/plain": [
       "1.0"
      ]
     },
     "execution_count": 72,
     "metadata": {},
     "output_type": "execute_result"
    }
   ],
   "source": [
    "euclidean([0], [1])"
   ]
  },
  {
   "cell_type": "code",
   "execution_count": 73,
   "metadata": {},
   "outputs": [
    {
     "data": {
      "text/plain": [
       "1.4142135623730951"
      ]
     },
     "execution_count": 73,
     "metadata": {},
     "output_type": "execute_result"
    }
   ],
   "source": [
    "euclidean([0, 0], [1, 1])"
   ]
  },
  {
   "attachments": {},
   "cell_type": "markdown",
   "metadata": {},
   "source": [
    "#### Euclidean 1: Human-interpretable answers"
   ]
  },
  {
   "attachments": {},
   "cell_type": "markdown",
   "metadata": {},
   "source": [
    "Regardless of n dims, similarity between the vectors<br>\n",
    "is evaluated with consistence."
   ]
  },
  {
   "cell_type": "code",
   "execution_count": 65,
   "metadata": {},
   "outputs": [
    {
     "data": {
      "text/plain": [
       "0.125"
      ]
     },
     "execution_count": 65,
     "metadata": {},
     "output_type": "execute_result"
    }
   ],
   "source": [
    "ansnorm([0], [1])"
   ]
  },
  {
   "cell_type": "code",
   "execution_count": 66,
   "metadata": {},
   "outputs": [
    {
     "data": {
      "text/plain": [
       "0.125"
      ]
     },
     "execution_count": 66,
     "metadata": {},
     "output_type": "execute_result"
    }
   ],
   "source": [
    "ansnorm([0,0], [1,1])"
   ]
  },
  {
   "cell_type": "code",
   "execution_count": 67,
   "metadata": {},
   "outputs": [
    {
     "data": {
      "text/plain": [
       "0.125"
      ]
     },
     "execution_count": 67,
     "metadata": {},
     "output_type": "execute_result"
    }
   ],
   "source": [
    "ansnorm([0,0,0], [1,1,1])"
   ]
  },
  {
   "cell_type": "code",
   "execution_count": 70,
   "metadata": {},
   "outputs": [
    {
     "data": {
      "text/plain": [
       "0.03125"
      ]
     },
     "execution_count": 70,
     "metadata": {},
     "output_type": "execute_result"
    }
   ],
   "source": [
    "ansnorm([0.5], [0.75])"
   ]
  },
  {
   "cell_type": "code",
   "execution_count": 71,
   "metadata": {},
   "outputs": [
    {
     "data": {
      "text/plain": [
       "0.03125"
      ]
     },
     "execution_count": 71,
     "metadata": {},
     "output_type": "execute_result"
    }
   ],
   "source": [
    "ansnorm([0.5, 0.5], [0.75, 0.75])"
   ]
  },
  {
   "attachments": {},
   "cell_type": "markdown",
   "metadata": {},
   "source": [
    "### Euclidean 2: Opposite vectors considered to be similar"
   ]
  },
  {
   "cell_type": "code",
   "execution_count": 22,
   "metadata": {},
   "outputs": [
    {
     "name": "stdout",
     "output_type": "stream",
     "text": [
      "opposing vectors: 0.35\n"
     ]
    }
   ],
   "source": [
    "# Pairwise difference = 0.2\n",
    "# See the opposing vectors:\n",
    "print(f'opposing vectors: {euclidean([0.1,0.1,0.1], [-0.1,-0.1,-0.1]):.2f}')"
   ]
  },
  {
   "cell_type": "code",
   "execution_count": 23,
   "metadata": {},
   "outputs": [
    {
     "name": "stdout",
     "output_type": "stream",
     "text": [
      "identically oriented vectors: 0.35\n"
     ]
    }
   ],
   "source": [
    "# Pairwise difference = 0.2\n",
    "# See the identically oriented vectors:\n",
    "print(f'identically oriented vectors: {euclidean([0.1,0.1,0.1], [0.3,0.3,0.3]):.2f}')\n"
   ]
  },
  {
   "attachments": {},
   "cell_type": "markdown",
   "metadata": {},
   "source": [
    "read: the OPPOSING things are no different from identically inclined things. FALSE <br>\n",
    "E.g. enjoying swimming more than you do is equivalent to hating swiming as much as you love it. FALSE"
   ]
  },
  {
   "attachments": {},
   "cell_type": "markdown",
   "metadata": {},
   "source": [
    "#### Euclidean 2: Right answers"
   ]
  },
  {
   "cell_type": "code",
   "execution_count": 24,
   "metadata": {},
   "outputs": [
    {
     "name": "stdout",
     "output_type": "stream",
     "text": [
      "opposing vectors: 0.33\n"
     ]
    }
   ],
   "source": [
    "# Pairwise difference = 0.2\n",
    "# See the opposing vectors:\n",
    "print(f'opposing vectors: {ansnorm([0.1,0.1,0.1], [-0.1,-0.1,-0.1]):.2f}')"
   ]
  },
  {
   "cell_type": "code",
   "execution_count": 25,
   "metadata": {},
   "outputs": [
    {
     "name": "stdout",
     "output_type": "stream",
     "text": [
      "identically oriented vectors: 0.03\n"
     ]
    }
   ],
   "source": [
    "# Pairwise difference = 0.2\n",
    "# See the identically oriented vectors:\n",
    "print(f'identically oriented vectors: {ansnorm([0.1,0.1,0.1], [0.3,0.3,0.3]):.2f}')"
   ]
  },
  {
   "attachments": {},
   "cell_type": "markdown",
   "metadata": {},
   "source": [
    "read: co-oriented things are less far apart than those opposing each other. TRUE<br>\n",
    "compare against: dot product (opposite from being correct), euclidean (indifferent to the case)"
   ]
  },
  {
   "attachments": {},
   "cell_type": "markdown",
   "metadata": {},
   "source": [
    "#### Euclidean 2 vs Right answers"
   ]
  },
  {
   "cell_type": "code",
   "execution_count": 26,
   "metadata": {},
   "outputs": [
    {
     "data": {
      "text/plain": [
       "'0.35 vs 0.33'"
      ]
     },
     "execution_count": 26,
     "metadata": {},
     "output_type": "execute_result"
    }
   ],
   "source": [
    "f'{euclidean([0.1,0.1,0.1], [-0.1,-0.1,-0.1]):.2f} vs {ansnorm([0.1,0.1,0.1], [-0.1,-0.1,-0.1]):.2f}'"
   ]
  },
  {
   "cell_type": "code",
   "execution_count": 27,
   "metadata": {},
   "outputs": [
    {
     "data": {
      "text/plain": [
       "'0.35 vs 0.03'"
      ]
     },
     "execution_count": 27,
     "metadata": {},
     "output_type": "execute_result"
    }
   ],
   "source": [
    "f'{euclidean([0.1,0.1,0.1], [0.3,0.3,0.3]):.2f} vs {ansnorm([0.1,0.1,0.1], [0.3,0.3,0.3]):.2f}'"
   ]
  },
  {
   "attachments": {},
   "cell_type": "markdown",
   "metadata": {},
   "source": [
    "## Cosine"
   ]
  },
  {
   "attachments": {},
   "cell_type": "markdown",
   "metadata": {},
   "source": [
    "### Cosine 1: Zero division issue"
   ]
  },
  {
   "cell_type": "code",
   "execution_count": null,
   "metadata": {},
   "outputs": [
    {
     "name": "stderr",
     "output_type": "stream",
     "text": [
      "c:\\Programs\\Python\\Python311\\Lib\\site-packages\\scipy\\spatial\\distance.py:622: RuntimeWarning: invalid value encountered in scalar divide\n",
      "  dist = 1.0 - uv / np.sqrt(uu * vv)\n"
     ]
    },
    {
     "data": {
      "text/plain": [
       "0"
      ]
     },
     "metadata": {},
     "output_type": "display_data"
    }
   ],
   "source": [
    "cosine([0,0,0], [1,1,1])  # does not work properly by default"
   ]
  },
  {
   "attachments": {},
   "cell_type": "markdown",
   "metadata": {},
   "source": [
    "#### Cosine 1: Solution"
   ]
  },
  {
   "cell_type": "code",
   "execution_count": 66,
   "metadata": {},
   "outputs": [
    {
     "data": {
      "text/plain": [
       "0"
      ]
     },
     "execution_count": 66,
     "metadata": {},
     "output_type": "execute_result"
    }
   ],
   "source": [
    "#replacement of zeros by an arbitrary small epsilon value:\n",
    "get_cosine([0,0,0], [1,1,1], epsilon=10**-6)"
   ]
  },
  {
   "attachments": {},
   "cell_type": "markdown",
   "metadata": {},
   "source": [
    "### Cosine 2: Absence of a feature gets confused with the fullest extent of it"
   ]
  },
  {
   "cell_type": "code",
   "execution_count": 32,
   "metadata": {},
   "outputs": [
    {
     "data": {
      "text/plain": [
       "0"
      ]
     },
     "execution_count": 32,
     "metadata": {},
     "output_type": "execute_result"
    }
   ],
   "source": [
    "e = 10**-9  # approaches ZERO\n",
    "cosine([e,e,e], [1,1,1])  # read: no difference. FALSE"
   ]
  },
  {
   "cell_type": "code",
   "execution_count": 40,
   "metadata": {},
   "outputs": [
    {
     "data": {
      "text/plain": [
       "0"
      ]
     },
     "execution_count": 40,
     "metadata": {},
     "output_type": "execute_result"
    }
   ],
   "source": [
    "# zero is no different from infinity:\n",
    "cosine([10**-9,10**-9,10**-9], [10**9,10**9,10**9])  # read: no difference. FALSE"
   ]
  },
  {
   "attachments": {},
   "cell_type": "markdown",
   "metadata": {},
   "source": [
    "#### Cosine 2 VS Right answers"
   ]
  },
  {
   "cell_type": "code",
   "execution_count": 99,
   "metadata": {},
   "outputs": [
    {
     "name": "stdout",
     "output_type": "stream",
     "text": [
      "0.00 vs 0.12\n"
     ]
    }
   ],
   "source": [
    "print(f'{cosine([e,e,e], [1,1,1]):.2f} vs {ansnorm([e,e,e], [1,1,1]):.2f}')"
   ]
  },
  {
   "cell_type": "code",
   "execution_count": 101,
   "metadata": {},
   "outputs": [
    {
     "name": "stdout",
     "output_type": "stream",
     "text": [
      "0.00 vs 125000000.00\n"
     ]
    }
   ],
   "source": [
    "print(f'{cosine([10**-9,10**-9,10**-9], [10**9,10**9,10**9]):.2f} vs {ansnorm([10**-9,10**-9,10**-9], [10**9,10**9,10**9]):.2f}')  # caution: ansnorm is intended for (-1, 1) space"
   ]
  },
  {
   "attachments": {},
   "cell_type": "markdown",
   "metadata": {},
   "source": [
    "### Cosine 3: The slightest difference may be evaluated as maximum distance"
   ]
  },
  {
   "cell_type": "code",
   "execution_count": 41,
   "metadata": {},
   "outputs": [
    {
     "data": {
      "text/plain": [
       "2.0"
      ]
     },
     "execution_count": 41,
     "metadata": {},
     "output_type": "execute_result"
    }
   ],
   "source": [
    "# at the same time zero and zero are the most different things ever:\n",
    "cosine([-e,-e,-e], [e,e,e])  # read: ZERO and ZERO are super-different. FALSE"
   ]
  },
  {
   "attachments": {},
   "cell_type": "markdown",
   "metadata": {},
   "source": [
    "#### Cosine 3 vs Right answer"
   ]
  },
  {
   "cell_type": "code",
   "execution_count": 103,
   "metadata": {},
   "outputs": [
    {
     "name": "stdout",
     "output_type": "stream",
     "text": [
      "2.00 vs 0.25\n"
     ]
    }
   ],
   "source": [
    "print(f'{cosine([-e,-e,-e], [e,e,e]):.2f} vs {ansnorm([-e,-e,-e], [e,e,e]):.2f}')"
   ]
  },
  {
   "attachments": {},
   "cell_type": "markdown",
   "metadata": {},
   "source": [
    "## Ans-Norm Similarity"
   ]
  },
  {
   "attachments": {},
   "cell_type": "markdown",
   "metadata": {},
   "source": [
    "### Same is same, different is different:"
   ]
  },
  {
   "cell_type": "code",
   "execution_count": 60,
   "metadata": {},
   "outputs": [
    {
     "data": {
      "text/plain": [
       "0.0"
      ]
     },
     "execution_count": 60,
     "metadata": {},
     "output_type": "execute_result"
    }
   ],
   "source": [
    "ansnorm([0,0,0], [0,0,0])  # read: vectors are the same. TRUE"
   ]
  },
  {
   "cell_type": "code",
   "execution_count": 61,
   "metadata": {},
   "outputs": [
    {
     "data": {
      "text/plain": [
       "0.0"
      ]
     },
     "execution_count": 61,
     "metadata": {},
     "output_type": "execute_result"
    }
   ],
   "source": [
    "ansnorm([1,1,1], [1,1,1])  # read: vectors are the same. TRUE\n",
    "# compare against: dot product"
   ]
  },
  {
   "cell_type": "code",
   "execution_count": null,
   "metadata": {},
   "outputs": [
    {
     "data": {
      "text/plain": [
       "1.0"
      ]
     },
     "metadata": {},
     "output_type": "display_data"
    }
   ],
   "source": [
    "ansnorm([-1,-1,-1], [1,1,1]) # read: vectors are the MOST different. TRUE\n",
    "# compare against: dot product (False), eucledian (uninterpretable)"
   ]
  },
  {
   "attachments": {},
   "cell_type": "markdown",
   "metadata": {},
   "source": [
    "### Farther away things are farther away:"
   ]
  },
  {
   "cell_type": "code",
   "execution_count": 46,
   "metadata": {},
   "outputs": [
    {
     "data": {
      "text/plain": [
       "0.25000000075"
      ]
     },
     "execution_count": 46,
     "metadata": {},
     "output_type": "execute_result"
    }
   ],
   "source": [
    "e = 10**-9  # approaches ZERO\n",
    "ansnorm([-e,-e,-e], [e,e,e])  # read: ZERO and ZERO are NOT super-different. TRUE\n",
    "# closer to being similar\n",
    "# compare against: cosine"
   ]
  },
  {
   "cell_type": "code",
   "execution_count": null,
   "metadata": {},
   "outputs": [
    {
     "data": {
      "text/plain": [
       "0.625"
      ]
     },
     "metadata": {},
     "output_type": "display_data"
    }
   ],
   "source": [
    "ansnorm([-0.5,-0.5,-0.5], [0.5,0.5,0.5])\n",
    "# read: opposite vec with half magnitude is closer to the half of being farthest apart. TRUE\n",
    "# compare against: cosine"
   ]
  },
  {
   "cell_type": "code",
   "execution_count": 47,
   "metadata": {},
   "outputs": [
    {
     "data": {
      "text/plain": [
       "1.0"
      ]
     },
     "execution_count": 47,
     "metadata": {},
     "output_type": "execute_result"
    }
   ],
   "source": [
    "ansnorm([-1,-1,-1], [1,1,1])\n",
    "# read: the opposite vec with half magnitude is closer to the half of being farthest apart. TRUE\n",
    "# compare against: dot product, euclidean"
   ]
  },
  {
   "attachments": {},
   "cell_type": "markdown",
   "metadata": {},
   "source": [
    "### Magnitude counts:"
   ]
  },
  {
   "cell_type": "code",
   "execution_count": 91,
   "metadata": {},
   "outputs": [
    {
     "data": {
      "text/plain": [
       "0.0125"
      ]
     },
     "execution_count": 91,
     "metadata": {},
     "output_type": "execute_result"
    }
   ],
   "source": [
    "ansnorm([0.1], [0.2])"
   ]
  },
  {
   "cell_type": "code",
   "execution_count": 93,
   "metadata": {},
   "outputs": [
    {
     "data": {
      "text/plain": [
       "0.000125"
      ]
     },
     "execution_count": 93,
     "metadata": {},
     "output_type": "execute_result"
    }
   ],
   "source": [
    "ansnorm([0.001], [0.002])"
   ]
  },
  {
   "cell_type": "code",
   "execution_count": 95,
   "metadata": {},
   "outputs": [
    {
     "data": {
      "text/plain": [
       "True"
      ]
     },
     "execution_count": 95,
     "metadata": {},
     "output_type": "execute_result"
    }
   ],
   "source": [
    "# compare with cosine:\n",
    "cosine([0.1], [0.2]) == cosine([0.001], [0.002])"
   ]
  },
  {
   "attachments": {},
   "cell_type": "markdown",
   "metadata": {},
   "source": [
    "### Direction counts:"
   ]
  },
  {
   "cell_type": "code",
   "execution_count": 80,
   "metadata": {},
   "outputs": [
    {
     "data": {
      "text/plain": [
       "0.4375"
      ]
     },
     "execution_count": 80,
     "metadata": {},
     "output_type": "execute_result"
    }
   ],
   "source": [
    "# difference = 0.5, negative\n",
    "ansnorm([0.25], [-0.25])"
   ]
  },
  {
   "cell_type": "code",
   "execution_count": 81,
   "metadata": {},
   "outputs": [
    {
     "data": {
      "text/plain": [
       "0.0625"
      ]
     },
     "execution_count": 81,
     "metadata": {},
     "output_type": "execute_result"
    }
   ],
   "source": [
    "# difference = 0.5, positive\n",
    "ansnorm([0.25], [0.75])"
   ]
  },
  {
   "cell_type": "code",
   "execution_count": 96,
   "metadata": {},
   "outputs": [
    {
     "data": {
      "text/plain": [
       "True"
      ]
     },
     "execution_count": 96,
     "metadata": {},
     "output_type": "execute_result"
    }
   ],
   "source": [
    "# compare with euclidean:\n",
    "euclidean([0.25], [-0.25]) == euclidean([0.25], [0.75])"
   ]
  },
  {
   "attachments": {},
   "cell_type": "markdown",
   "metadata": {},
   "source": [
    "### Test yourself:"
   ]
  },
  {
   "cell_type": "code",
   "execution_count": null,
   "metadata": {},
   "outputs": [],
   "source": [
    "vector_1 = [...same n dims please...]\n",
    "vector_2 = [...same n dims please...]\n",
    "\n",
    "ansnorm(vector_1, vector_2)"
   ]
  }
 ],
 "metadata": {
  "colab": {
   "provenance": []
  },
  "kernelspec": {
   "display_name": "Python 3",
   "language": "python",
   "name": "python3"
  },
  "language_info": {
   "codemirror_mode": {
    "name": "ipython",
    "version": 3
   },
   "file_extension": ".py",
   "mimetype": "text/x-python",
   "name": "python",
   "nbconvert_exporter": "python",
   "pygments_lexer": "ipython3",
   "version": "3.11.1"
  },
  "notebookId": "c7e17411-8c27-43ef-82af-b7dbba7f41e3",
  "notebookPath": "wain23_ans.ipynb",
  "vscode": {
   "interpreter": {
    "hash": "52afb8ebcac5aa8032177177fdc4e98c9d7316bff28e5396e7ea1b3acb0cd9a6"
   }
  }
 },
 "nbformat": 4,
 "nbformat_minor": 4
}
