{
 "cells": [
  {
   "cell_type": "code",
   "execution_count": 1,
   "metadata": {
    "cellId": "mkuldihpzzhvms2v249vub"
   },
   "outputs": [],
   "source": [
    "# !pip install openai  --upgrade --quiet"
   ]
  },
  {
   "attachments": {},
   "cell_type": "markdown",
   "metadata": {},
   "source": [
    "# Initiate"
   ]
  },
  {
   "cell_type": "code",
   "execution_count": 2,
   "metadata": {
    "cellId": "rwsna54marauushmzmtrq",
    "id": "JKI2wmp4co1n"
   },
   "outputs": [],
   "source": [
    "import time\n",
    "import os\n",
    "import openai\n",
    "import pandas as pd\n",
    "import numpy as np\n",
    "import matplotlib.pyplot as plt\n",
    "from sklearn.decomposition import PCA\n",
    "from scipy.spatial.distance import cosine, euclidean\n",
    "\n",
    "openai.api_key = os.environ['OPENAI_API_KEY']\n",
    "np.set_printoptions(precision=3, suppress=True)\n",
    "\n",
    "REFRESH = False\n",
    "\n",
    "def get_embedding(text, sleep=0):\n",
    "    '''Compute GPT3-embedding for a given text string'''\n",
    "    time.sleep(sleep)\n",
    "    result = openai.Embedding.create(input=text, model='text-embedding-ada-002')\n",
    "    return np.array(result.data[0].embedding)"
   ]
  },
  {
   "cell_type": "code",
   "execution_count": 3,
   "metadata": {
    "cellId": "l5fjr1zbg2eefk1hxudxv"
   },
   "outputs": [],
   "source": [
    "def glue(row):\n",
    "    replacement_dict = {'Male': 'man', 'Female': 'woman'}\n",
    "    row['Gender'] = replacement_dict.get(row['Gender'], 'John Cena')\n",
    "    return ' '.join(row[['Lifestyle', 'Age', 'Race', 'Gender']].values).lower()"
   ]
  },
  {
   "attachments": {},
   "cell_type": "markdown",
   "metadata": {},
   "source": [
    "# Get dfs"
   ]
  },
  {
   "cell_type": "code",
   "execution_count": 4,
   "metadata": {
    "cellId": "m9v1bk931jo3ve2iaxkji",
    "id": "t-XG_kjNcuEG"
   },
   "outputs": [
    {
     "name": "stderr",
     "output_type": "stream",
     "text": [
      "C:\\Users\\Ansebi\\AppData\\Local\\Temp\\ipykernel_12116\\599353379.py:2: ParserWarning: Falling back to the 'python' engine because the 'c' engine does not support regex separators (separators > 1 char and different from '\\s+' are interpreted as regex); you can avoid this warning by specifying engine='python'.\n",
      "  messages = pd.read_csv('./data/messages.csv', sep='John_Cena')\n",
      "C:\\Users\\Ansebi\\AppData\\Local\\Temp\\ipykernel_12116\\599353379.py:3: ParserWarning: Falling back to the 'python' engine because the 'c' engine does not support regex separators (separators > 1 char and different from '\\s+' are interpreted as regex); you can avoid this warning by specifying engine='python'.\n",
      "  images = pd.read_csv('./data/images.csv', sep='John_Cena')\n"
     ]
    }
   ],
   "source": [
    "people = pd.read_csv('./data/people.csv')\n",
    "messages = pd.read_csv('./data/messages.csv', sep='John_Cena')\n",
    "images = pd.read_csv('./data/images.csv', sep='John_Cena')"
   ]
  },
  {
   "cell_type": "code",
   "execution_count": 5,
   "metadata": {
    "cellId": "905k8rkl2tl1r7xabzvjmc"
   },
   "outputs": [],
   "source": [
    "# @title adequate notation\n",
    "people_list = []\n",
    "for person in list(people.items())[0][1]:\n",
    "    person = person.replace('\\r', '')\n",
    "    person_list = [i.split(': ') for i in person.split('\\n')]\n",
    "    person_dict = {j[0]: j[1] for j in person_list}\n",
    "    people_list.append(person_dict)\n",
    "df_people = pd.DataFrame(people_list)"
   ]
  },
  {
   "cell_type": "code",
   "execution_count": 6,
   "metadata": {
    "cellId": "esskj78fkpl99pwkv4qcq8"
   },
   "outputs": [
    {
     "data": {
      "text/html": [
       "<div>\n",
       "<style scoped>\n",
       "    .dataframe tbody tr th:only-of-type {\n",
       "        vertical-align: middle;\n",
       "    }\n",
       "\n",
       "    .dataframe tbody tr th {\n",
       "        vertical-align: top;\n",
       "    }\n",
       "\n",
       "    .dataframe thead th {\n",
       "        text-align: right;\n",
       "    }\n",
       "</style>\n",
       "<table border=\"1\" class=\"dataframe\">\n",
       "  <thead>\n",
       "    <tr style=\"text-align: right;\">\n",
       "      <th></th>\n",
       "      <th>Gender</th>\n",
       "      <th>Age</th>\n",
       "      <th>Race</th>\n",
       "      <th>Lifestyle</th>\n",
       "      <th>Likes</th>\n",
       "      <th>Dislikes</th>\n",
       "      <th>Description</th>\n",
       "      <th>ID</th>\n",
       "    </tr>\n",
       "  </thead>\n",
       "  <tbody>\n",
       "    <tr>\n",
       "      <th>0</th>\n",
       "      <td>man</td>\n",
       "      <td>Young Adult</td>\n",
       "      <td>African American</td>\n",
       "      <td>Moderate</td>\n",
       "      <td>[Sports, Outdoors, Learning, Exercise]</td>\n",
       "      <td>[Homemaking, Design, Relaxing, Arts and Crafts]</td>\n",
       "      <td>moderate young adult african american man</td>\n",
       "      <td>0</td>\n",
       "    </tr>\n",
       "  </tbody>\n",
       "</table>\n",
       "</div>"
      ],
      "text/plain": [
       "  Gender          Age              Race Lifestyle  \\\n",
       "0    man  Young Adult  African American  Moderate   \n",
       "\n",
       "                                    Likes  \\\n",
       "0  [Sports, Outdoors, Learning, Exercise]   \n",
       "\n",
       "                                          Dislikes  \\\n",
       "0  [Homemaking, Design, Relaxing, Arts and Crafts]   \n",
       "\n",
       "                                 Description  ID  \n",
       "0  moderate young adult african american man   0  "
      ]
     },
     "execution_count": 6,
     "metadata": {},
     "output_type": "execute_result"
    }
   ],
   "source": [
    "df_people['Likes'] = df_people['Likes'].str.split(', ')\n",
    "df_people['Dislikes'] = df_people['Dislikes'].str.split(', ')\n",
    "df_people['Description'] = df_people.apply(lambda row: glue(row), axis='columns')\n",
    "df_people['ID'] = range(len(df_people))\n",
    "df_people.head(1)"
   ]
  },
  {
   "cell_type": "code",
   "execution_count": 7,
   "metadata": {
    "cellId": "2288nvom8ykgok28u77epo"
   },
   "outputs": [],
   "source": [
    "def get_df_likes_dislikes(\n",
    "        attr,\n",
    "        df_people=df_people,\n",
    "        refresh=REFRESH\n",
    "        ):\n",
    "    if not refresh:\n",
    "        raise Exception('API call aborted. Were you sure? If yes, change REFRESH to True.')\n",
    "    df = pd.DataFrame()\n",
    "    for i in df_people[['ID', 'Description', attr]].values:\n",
    "        for like in i[2]:\n",
    "            df = pd.concat(\n",
    "                [\n",
    "                    df,\n",
    "                    pd.DataFrame(\n",
    "                        [\n",
    "                            i[0],\n",
    "                            like.lower(),\n",
    "                            f'{i[1]} who likes {like.lower()}'\n",
    "                        ]\n",
    "                    ).T\n",
    "                ],\n",
    "                axis='rows'\n",
    "            )\n",
    "    df.reset_index(inplace=True, drop=True)\n",
    "    df.columns=['ID', 'Activity', 'Description']\n",
    "    df['Embedding'] = df.Description.apply(lambda x: get_embedding(x))\n",
    "    return df"
   ]
  },
  {
   "cell_type": "code",
   "execution_count": 8,
   "metadata": {},
   "outputs": [],
   "source": [
    "def add_activity(df):\n",
    "    df['Activity'] = np.stack(df.Description.str.split('who likes '))[:, 1]"
   ]
  },
  {
   "cell_type": "code",
   "execution_count": 9,
   "metadata": {
    "cellId": "dq8zb7oz3xf5nnvt72oiju"
   },
   "outputs": [],
   "source": [
    "def normalize(x, overall_min, overall_max):  # currently from -1 to 1 due to negative vectors (we center at 0)\n",
    "    return 2 * (x - overall_min) / (overall_max - overall_min) - 1\n",
    "\n",
    "def add_deviation(df):\n",
    "    # first we find mean vector for an ID\n",
    "    # only then we find the mean for likes/dislikes\n",
    "    # thus we prevent individuals having too much likes/dislikes\n",
    "    # from solely deciding the mean\n",
    "    mean_vector = df\\\n",
    "    .groupby('ID')\\\n",
    "    .Embedding\\\n",
    "    .apply(lambda x: np.mean(np.stack(x), axis=0))\\\n",
    "    .mean()\n",
    "    deviation = df.Embedding.apply(lambda x: x - mean_vector)\n",
    "    df['Deviation'] = deviation\n",
    "    overall = np.concatenate(df.Deviation)\n",
    "    overall_min = np.min(overall)\n",
    "    overall_max = np.max(overall)\n",
    "    del overall\n",
    "    norm_dev = df.Deviation.apply(lambda x: normalize(x, overall_min, overall_max))\n",
    "    df['Norm_Dev'] = norm_dev"
   ]
  },
  {
   "cell_type": "code",
   "execution_count": 10,
   "metadata": {
    "cellId": "9vzcq9sgljpj7xj9f79eq"
   },
   "outputs": [],
   "source": [
    "preferences_dfs = {}\n",
    "for likes_dislikes in ['likes', 'dislikes']:\n",
    "    if REFRESH:\n",
    "        preferences_dfs[likes_dislikes] = get_df_likes_dislikes(\n",
    "            likes_dislikes.capitalize(), df_people=df_people\n",
    "            )\n",
    "        preferences_dfs[likes_dislikes].to_csv(f'data/{likes_dislikes}.csv', index=False)\n",
    "        np.save(f'data/{likes_dislikes}', preferences_dfs[likes_dislikes].Embedding)\n",
    "    else:\n",
    "        preferences_dfs[likes_dislikes] = pd.read_csv(f'data/{likes_dislikes}.csv')\n",
    "        preferences_dfs[likes_dislikes].Embedding = np.load(\n",
    "            f'data/{likes_dislikes}.npy', allow_pickle=True\n",
    "    )\n",
    "    add_activity(preferences_dfs[likes_dislikes])\n",
    "    add_deviation(preferences_dfs[likes_dislikes])"
   ]
  },
  {
   "cell_type": "code",
   "execution_count": 11,
   "metadata": {},
   "outputs": [],
   "source": [
    "content_dfs = {\n",
    "    'messages': messages,\n",
    "    'images': images,\n",
    "}"
   ]
  },
  {
   "cell_type": "code",
   "execution_count": 12,
   "metadata": {
    "cellId": "2oxz81hw58eitf1pm6jdnf",
    "colab": {
     "base_uri": "https://localhost:8080/",
     "height": 332
    },
    "id": "gXHna47icvDH",
    "outputId": "8bd6c2bf-fdc4-4ba6-a8e3-5ec118a96c67"
   },
   "outputs": [],
   "source": [
    "for content_type in ['messages', 'images']:\n",
    "    df = content_dfs[content_type]\n",
    "    df['Content_ID'] = range(len(df))\n",
    "\n",
    "    if REFRESH:\n",
    "        df['Embedding'] = df['content'].apply(get_embedding)\n",
    "        df.to_csv(f'data/{content_type}_embeddings.csv', index=False)\n",
    "        np.save(f'data/{content_type}', df.Embedding)\n",
    "    else:\n",
    "        df['Embedding'] = np.load(f'data/{content_type}.npy', allow_pickle=True)\n",
    "    # offset each group by it's center\n",
    "    emb_center = df['Embedding'].mean()    \n",
    "    deviation = df.Embedding.apply(lambda emb: emb - emb_center)\n",
    "    df['Deviation'] = deviation\n",
    "    \n",
    "    overall = np.concatenate(df.Deviation)\n",
    "    overall_min = np.min(overall)\n",
    "    overall_max = np.max(overall)\n",
    "    del overall\n",
    "    norm_dev = df.Deviation.apply(lambda x: normalize(x, overall_min, overall_max))\n",
    "    df['Norm_Dev'] = norm_dev"
   ]
  },
  {
   "attachments": {},
   "cell_type": "markdown",
   "metadata": {},
   "source": [
    "# Get distances"
   ]
  },
  {
   "cell_type": "code",
   "execution_count": 13,
   "metadata": {
    "cellId": "74ogzhb67pye86yyw5paqk"
   },
   "outputs": [],
   "source": [
    "def get_cosine(vec_1, vec_2, epsilon=10**-6):\n",
    "    \"\"\"\n",
    "    cosine() is so bad, that it's incapable\n",
    "    of evaluating [0, 0] to [1, 1] distance\n",
    "    due to zero division.\n",
    "    Thus we manually bring it to live here\n",
    "    \"\"\"\n",
    "    vec_1 = [i if i else epsilon for i in vec_1]\n",
    "    vec_2 = [i if i else epsilon for i in vec_2]\n",
    "    return cosine(vec_1, vec_2)"
   ]
  },
  {
   "cell_type": "code",
   "execution_count": 14,
   "metadata": {
    "cellId": "jtzurdrhnlofiv5wyuyxnn"
   },
   "outputs": [],
   "source": [
    "def get_distance(vec_1, vec_2):\n",
    "    \"\"\"\n",
    "    intended to work with -1 to 1 normalized vectors\n",
    "    combines two approaches so that negatives of cosine similarity\n",
    "    are smoothened as well as the negatives of euclidean alone\n",
    "    \"\"\"\n",
    "    euc = euclidean(vec_1, vec_2)\n",
    "    cos = get_cosine(vec_1, vec_2)\n",
    "    # let's scale both distances to [0, 1]\n",
    "    # since cosine() lies between 0 and 2, halve it    \n",
    "    cos /= 2\n",
    "    # now normalize the euclidean distance output\n",
    "    # larges distances in our case are beteween\n",
    "    # [-1, -1, ... , -1] and [1, 1, ... , 1]\n",
    "    # and the value depends on n dimensions\n",
    "    # so let's consider it\n",
    "    ones = np.ones(len(vec_1))\n",
    "    largest_euc = euclidean(-ones, ones)\n",
    "    euc /= largest_euc    \n",
    "    dist = euc/2 + euc*cos + cos/2\n",
    "    # scale dist to [0, 1]\n",
    "    dist /= 2\n",
    "    # return euc, cos, dist  # an option for testing the function\n",
    "    return dist"
   ]
  },
  {
   "cell_type": "code",
   "execution_count": 15,
   "metadata": {},
   "outputs": [],
   "source": [
    "# @title Version with overall distance df\n",
    "def get_preference_distances_V2_overall():\n",
    "    likes_weight = 1\n",
    "    dislikes_weight = 1\n",
    "    preference_distances_by_user = {}\n",
    "    preference_distances_df = pd.DataFrame()\n",
    "    users = sorted(list(set(df_people['ID'])))\n",
    "    for user in users:\n",
    "        preference_distances_by_user[user] = {}\n",
    "        for content_type in ['messages', 'images']:\n",
    "            preference_distances_by_user[user][content_type] = {}\n",
    "            for content_entry in content_dfs[content_type].iterrows():\n",
    "                content_entry = content_entry[1]\n",
    "                preference_distances_by_user[user][content_type][content_entry.Content_ID] = {}\n",
    "                for likes_dislikes in ['likes', 'dislikes']:\n",
    "                    preference_distances_by_user[user][content_type][content_entry.Content_ID][likes_dislikes] = []\n",
    "                    for user_pref_entry in preferences_dfs[likes_dislikes].query(f'ID == {user}').iterrows():\n",
    "                        user_pref_entry = user_pref_entry[1]\n",
    "                        preference_distance = get_distance(content_entry.Norm_Dev, user_pref_entry.Norm_Dev)\n",
    "                        preference_distances_by_user[user][content_type][content_entry.Content_ID][likes_dislikes].append(preference_distance)\n",
    "                        # print(f'{user=} {content_type} Content_ID={content_entry.Content_ID} {likes_dislikes} {preference_distance}')\n",
    "                mean_like_distance = np.mean(preference_distances_by_user[user][content_type][content_entry.Content_ID]['likes'])\n",
    "                min_dislike_distance =  np.min(preference_distances_by_user[user][content_type][content_entry.Content_ID]['dislikes'])\n",
    "                overall_preference_distance = mean_like_distance - min_dislike_distance\n",
    "                preference_distances_by_user[user][content_type][content_entry.Content_ID]['Preference_Distance'] = overall_preference_distance\n",
    "                distance_df_entry = {\n",
    "                    'User_ID': user,\n",
    "                    'Content_Type': content_type,\n",
    "                    'Content_ID': content_entry.Content_ID,\n",
    "                    'Preference_Distance': overall_preference_distance\n",
    "                }\n",
    "                preference_distances_df = pd.concat([preference_distances_df, pd.DataFrame(distance_df_entry, index=[0])])\n",
    "    preference_distances_df.reset_index(drop=True, inplace=True)\n",
    "    return preference_distances_df, preference_distances_by_user"
   ]
  },
  {
   "cell_type": "code",
   "execution_count": 16,
   "metadata": {},
   "outputs": [],
   "source": [
    "class V2:\n",
    "    def __init__(self):\n",
    "        self.preference_distances_df, self.preference_distances_by_user = get_preference_distances_V2_overall()\n",
    "\n",
    "    def print_user_results(\n",
    "            self,\n",
    "            user: int,\n",
    "            content_type: str,\n",
    "            n_items: int = 5\n",
    "        ):\n",
    "        \"\"\"\n",
    "        user (int): User_ID\n",
    "\n",
    "        content_type (str): either 'messages' or 'images'\n",
    "\n",
    "        n_items: top N messages/images,\n",
    "        set 1 to show the best/worst options,\n",
    "        default = 5 (for number of fingers in human to count with)\n",
    "        \"\"\"\n",
    "        print(people.loc[user].content)\n",
    "        \n",
    "        dist_data = self.preference_distances_by_user[user][content_type].items()\n",
    "        pref_dist_list = [(content_id, i['Preference_Distance']) for (content_id, i) in dist_data]\n",
    "        sorted_content_ids = sorted(\n",
    "            pref_dist_list,\n",
    "            key=lambda x: x[1]\n",
    "            )\n",
    "\n",
    "        print(f'\\nTop {n_items} {content_type}:')\n",
    "        for n, (content_id, pref_dist) in enumerate(sorted_content_ids[:n_items]):\n",
    "            content = content_dfs[content_type]\\\n",
    "                .query(f'Content_ID == {content_id}')\\\n",
    "                    .content\\\n",
    "                        .values[0]\n",
    "            print(f'{n+1}. {content}')\n",
    "\n",
    "        print(f'\\nBottom {n_items} {content_type}:')\n",
    "        for n, (content_id, pref_dist) in enumerate(sorted_content_ids[-n_items:][::-1]):\n",
    "            content = content_dfs[content_type]\\\n",
    "                .query(f'Content_ID == {content_id}')\\\n",
    "                    .content\\\n",
    "                        .values[0]\n",
    "            print(f'{n+1}. {content}')"
   ]
  },
  {
   "cell_type": "code",
   "execution_count": 17,
   "metadata": {},
   "outputs": [],
   "source": [
    "V2_instance = V2()"
   ]
  },
  {
   "cell_type": "code",
   "execution_count": 18,
   "metadata": {},
   "outputs": [
    {
     "name": "stdout",
     "output_type": "stream",
     "text": [
      "Gender: Male\n",
      "Age: Senior\n",
      "Race: African American\n",
      "Lifestyle: Active\n",
      "Likes: Sports, Outdoors, Exercise, Games\n",
      "Dislikes: Homemaking, Design, Arts and Crafts, Relaxing\n",
      "\n",
      "Top 5 messages:\n",
      "1. Grab your clubs and hit the green! Golfing is a fun way to enjoy the outdoors, socialize with friends, and improve your hand-eye coordination and focus. Fore!\n",
      "2. Hop on your bike and feel the wind in your hair! Biking is a fun and eco-friendly way to explore your surroundings, get some exercise, and enjoy the outdoors. Don't forget your helmet!\n",
      "3. Put on your running shoes and hit the pavement! Jogging is a great way to improve your cardiovascular health, burn calories, and reduce stress. Start slow and steady, and work your way up!\n",
      "4. Pick up some weights and feel the burn! Weightlifting is a great way to build muscle, boost your metabolism, and feel more confident in your body. You got this!\n",
      "5. Strap on your roller skates and roll into some fun! Roller skating is a great way to improve your balance, coordination, and get a great workout for your legs and core. Don't forget your knee pads!\n",
      "\n",
      "Bottom 5 messages:\n",
      "1. Put down the phone and pick up some tools! Woodworking is a hands-on craft that can help you express your creativity and develop practical skills. Plus, you'll have beautiful and functional pieces to use or give as gifts!\n",
      "2. Put down the phone and pick up some decor! Home decorating is a fun and creative way to express yourself and transform your living space into a cozy and inviting sanctuary. Plus, you'll feel proud of your beautiful and personalized home!\n",
      "3. Step away from the screen and pick up a pen or brush! Calligraphy is a beautiful and elegant art form that involves creating decorative lettering. Let your creativity flow and see what stunning works of art you can create.\n",
      "4. Put down your phone and pick up a pencil! Drawing is a versatile and rewarding hobby that allows you to create anything you can imagine. Let your creativity soar and see what you can create.\n",
      "5. Put down the phone and pick up a sponge! Cleaning can be a satisfying way to destress and create a comfortable living space. Plus, you'll feel accomplished when you're done!\n"
     ]
    }
   ],
   "source": [
    "V2_instance.print_user_results(\n",
    "    user=10,\n",
    "    content_type='messages',\n",
    "    n_items=5\n",
    "    )"
   ]
  },
  {
   "cell_type": "code",
   "execution_count": 19,
   "metadata": {},
   "outputs": [
    {
     "name": "stdout",
     "output_type": "stream",
     "text": [
      "Gender: Male\n",
      "Age: Senior\n",
      "Race: African American\n",
      "Lifestyle: Active\n",
      "Likes: Sports, Outdoors, Exercise, Games\n",
      "Dislikes: Homemaking, Design, Arts and Crafts, Relaxing\n",
      "\n",
      "Top 5 images:\n",
      "1. Senior hispanic man playing a game of cards in the park.\n",
      "2. Person shuffling a deck of playing cards.\n",
      "3. Young adult African American man walking his dog in the park.\n",
      "4. Senior white woman biking in the park and looking towards the sky.\n",
      "5. Senior white man wearing a coat and holding a book while walking outdoors.\n",
      "\n",
      "Bottom 5 images:\n",
      "1. Young adult white woman dancing and cleaning the house.\n",
      "2. Woman placing a cutting board into the kitchen cupboard.\n",
      "3. Adult white woman sitting at a desk and painting.\n",
      "4. Person sketching flowers in a notepad.\n",
      "5. Adult white woman rolling dough in the kitchen and smiling.\n"
     ]
    }
   ],
   "source": [
    "V2_instance.print_user_results(\n",
    "    user=10,\n",
    "    content_type='images',\n",
    "    n_items=5\n",
    ")"
   ]
  },
  {
   "attachments": {},
   "cell_type": "markdown",
   "metadata": {},
   "source": [
    "# ________________"
   ]
  }
 ],
 "metadata": {
  "colab": {
   "provenance": []
  },
  "kernelspec": {
   "display_name": "Python 3",
   "language": "python",
   "name": "python3"
  },
  "language_info": {
   "codemirror_mode": {
    "name": "ipython",
    "version": 3
   },
   "file_extension": ".py",
   "mimetype": "text/x-python",
   "name": "python",
   "nbconvert_exporter": "python",
   "pygments_lexer": "ipython3",
   "version": "3.11.1"
  },
  "notebookId": "c7e17411-8c27-43ef-82af-b7dbba7f41e3",
  "notebookPath": "wain23_ans.ipynb",
  "vscode": {
   "interpreter": {
    "hash": "52afb8ebcac5aa8032177177fdc4e98c9d7316bff28e5396e7ea1b3acb0cd9a6"
   }
  }
 },
 "nbformat": 4,
 "nbformat_minor": 4
}
