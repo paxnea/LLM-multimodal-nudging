{
 "cells": [
  {
   "cell_type": "code",
   "execution_count": 2,
   "metadata": {
    "cellId": "mkuldihpzzhvms2v249vub"
   },
   "outputs": [],
   "source": [
    "# !pip install openai  --upgrade --quiet"
   ]
  },
  {
   "attachments": {},
   "cell_type": "markdown",
   "metadata": {},
   "source": [
    "# Initiate"
   ]
  },
  {
   "cell_type": "code",
   "execution_count": 3,
   "metadata": {
    "cellId": "rwsna54marauushmzmtrq",
    "id": "JKI2wmp4co1n"
   },
   "outputs": [],
   "source": [
    "import time\n",
    "import os\n",
    "import openai\n",
    "import pandas as pd\n",
    "import numpy as np\n",
    "import matplotlib.pyplot as plt\n",
    "from sklearn.decomposition import PCA\n",
    "from scipy.spatial.distance import cosine, euclidean\n",
    "\n",
    "openai.api_key = os.environ['OPENAI_API_KEY']\n",
    "np.set_printoptions(precision=3, suppress=True)\n",
    "\n",
    "REFRESH = False\n",
    "\n",
    "def get_embedding(text, sleep=0):\n",
    "    '''Compute GPT3-embedding for a given text string'''\n",
    "    time.sleep(sleep)\n",
    "    result = openai.Embedding.create(input=text, model='text-embedding-ada-002')\n",
    "    return np.array(result.data[0].embedding)"
   ]
  },
  {
   "attachments": {},
   "cell_type": "markdown",
   "metadata": {},
   "source": [
    "# Get dfs"
   ]
  },
  {
   "cell_type": "code",
   "execution_count": 4,
   "metadata": {
    "cellId": "m9v1bk931jo3ve2iaxkji",
    "id": "t-XG_kjNcuEG"
   },
   "outputs": [
    {
     "name": "stderr",
     "output_type": "stream",
     "text": [
      "C:\\Users\\Ansebi\\AppData\\Local\\Temp\\ipykernel_13092\\599353379.py:2: ParserWarning: Falling back to the 'python' engine because the 'c' engine does not support regex separators (separators > 1 char and different from '\\s+' are interpreted as regex); you can avoid this warning by specifying engine='python'.\n",
      "  messages = pd.read_csv('./data/messages.csv', sep='John_Cena')\n",
      "C:\\Users\\Ansebi\\AppData\\Local\\Temp\\ipykernel_13092\\599353379.py:3: ParserWarning: Falling back to the 'python' engine because the 'c' engine does not support regex separators (separators > 1 char and different from '\\s+' are interpreted as regex); you can avoid this warning by specifying engine='python'.\n",
      "  images = pd.read_csv('./data/images.csv', sep='John_Cena')\n"
     ]
    }
   ],
   "source": [
    "people = pd.read_csv('./data/people.csv')\n",
    "messages = pd.read_csv('./data/messages.csv', sep='John_Cena')\n",
    "images = pd.read_csv('./data/images.csv', sep='John_Cena')"
   ]
  },
  {
   "cell_type": "code",
   "execution_count": 5,
   "metadata": {},
   "outputs": [],
   "source": [
    "df_people = pd.DataFrame([{j[0]:j[1] for j in [i.split(': ') for i in person.replace('\\r', '').split('\\n')]} for person in list(people.items())[0][1]])"
   ]
  },
  {
   "cell_type": "code",
   "execution_count": 6,
   "metadata": {
    "cellId": "905k8rkl2tl1r7xabzvjmc"
   },
   "outputs": [],
   "source": [
    "# @title adequate notation\n",
    "# people_list = []\n",
    "# for person in list(people.items())[0][1]:\n",
    "#     person = person.replace('\\r', '')\n",
    "#     person_list = [i.split(': ') for i in person.split('\\n')]\n",
    "#     person_dict = {j[0]: j[1] for j in person_list}\n",
    "#     people_list.append(person_dict)\n",
    "# df_people = pd.DataFrame(people_list)"
   ]
  },
  {
   "cell_type": "code",
   "execution_count": 7,
   "metadata": {
    "cellId": "esskj78fkpl99pwkv4qcq8"
   },
   "outputs": [],
   "source": [
    "df_people['Likes'] = df_people['Likes'].str.split(', ')\n",
    "df_people['Dislikes'] = df_people['Dislikes'].str.split(', ')"
   ]
  },
  {
   "cell_type": "code",
   "execution_count": 8,
   "metadata": {
    "cellId": "l5fjr1zbg2eefk1hxudxv"
   },
   "outputs": [],
   "source": [
    "def glue(row):\n",
    "    replacement_dict = {'Male': 'man', 'Female': 'woman'}\n",
    "    row['Gender'] = replacement_dict.get(row['Gender'], 'John Cena')\n",
    "    return ' '.join(row[['Lifestyle', 'Age', 'Race', 'Gender']].values).lower()"
   ]
  },
  {
   "cell_type": "code",
   "execution_count": 9,
   "metadata": {
    "cellId": "mz061i65lfpmddmce2e2n"
   },
   "outputs": [],
   "source": [
    "df_people['Description'] = df_people.apply(lambda row: glue(row), axis='columns')"
   ]
  },
  {
   "cell_type": "code",
   "execution_count": 10,
   "metadata": {
    "cellId": "cmcenaksvpoj675cg88e"
   },
   "outputs": [],
   "source": [
    "df_people['ID'] = range(len(df_people))"
   ]
  },
  {
   "cell_type": "code",
   "execution_count": 11,
   "metadata": {
    "cellId": "dtw3dl47koa5uvbz3ax4yq"
   },
   "outputs": [
    {
     "data": {
      "text/html": [
       "<div>\n",
       "<style scoped>\n",
       "    .dataframe tbody tr th:only-of-type {\n",
       "        vertical-align: middle;\n",
       "    }\n",
       "\n",
       "    .dataframe tbody tr th {\n",
       "        vertical-align: top;\n",
       "    }\n",
       "\n",
       "    .dataframe thead th {\n",
       "        text-align: right;\n",
       "    }\n",
       "</style>\n",
       "<table border=\"1\" class=\"dataframe\">\n",
       "  <thead>\n",
       "    <tr style=\"text-align: right;\">\n",
       "      <th></th>\n",
       "      <th>Gender</th>\n",
       "      <th>Age</th>\n",
       "      <th>Race</th>\n",
       "      <th>Lifestyle</th>\n",
       "      <th>Likes</th>\n",
       "      <th>Dislikes</th>\n",
       "      <th>Description</th>\n",
       "      <th>ID</th>\n",
       "    </tr>\n",
       "  </thead>\n",
       "  <tbody>\n",
       "    <tr>\n",
       "      <th>0</th>\n",
       "      <td>man</td>\n",
       "      <td>Young Adult</td>\n",
       "      <td>African American</td>\n",
       "      <td>Moderate</td>\n",
       "      <td>[Sports, Outdoors, Learning, Exercise]</td>\n",
       "      <td>[Homemaking, Design, Relaxing, Arts and Crafts]</td>\n",
       "      <td>moderate young adult african american man</td>\n",
       "      <td>0</td>\n",
       "    </tr>\n",
       "    <tr>\n",
       "      <th>1</th>\n",
       "      <td>woman</td>\n",
       "      <td>Adult</td>\n",
       "      <td>Asian</td>\n",
       "      <td>Active</td>\n",
       "      <td>[Outdoors, Exercise, Sports, Homemaking]</td>\n",
       "      <td>[Arts and Crafts, Design, Games, Relaxing]</td>\n",
       "      <td>active adult asian woman</td>\n",
       "      <td>1</td>\n",
       "    </tr>\n",
       "    <tr>\n",
       "      <th>2</th>\n",
       "      <td>man</td>\n",
       "      <td>Senior</td>\n",
       "      <td>Hispanic</td>\n",
       "      <td>Sedentary</td>\n",
       "      <td>[Relaxing, Homemaking, Indoors, Arts and Crafts]</td>\n",
       "      <td>[Outdoors, Sports, Exercise, Design]</td>\n",
       "      <td>sedentary senior hispanic man</td>\n",
       "      <td>2</td>\n",
       "    </tr>\n",
       "    <tr>\n",
       "      <th>3</th>\n",
       "      <td>woman</td>\n",
       "      <td>Young Adult</td>\n",
       "      <td>Asian</td>\n",
       "      <td>Moderate</td>\n",
       "      <td>[Learning, Design, Arts and Crafts, Games]</td>\n",
       "      <td>[Sports, Outdoors, Homemaking, Relaxing]</td>\n",
       "      <td>moderate young adult asian woman</td>\n",
       "      <td>3</td>\n",
       "    </tr>\n",
       "    <tr>\n",
       "      <th>4</th>\n",
       "      <td>man</td>\n",
       "      <td>Adult</td>\n",
       "      <td>White</td>\n",
       "      <td>Active</td>\n",
       "      <td>[Sports, Outdoors, Exercise, Games]</td>\n",
       "      <td>[Homemaking, Design, Arts and Crafts, Relaxing]</td>\n",
       "      <td>active adult white man</td>\n",
       "      <td>4</td>\n",
       "    </tr>\n",
       "    <tr>\n",
       "      <th>5</th>\n",
       "      <td>woman</td>\n",
       "      <td>Middle-aged</td>\n",
       "      <td>Hispanic</td>\n",
       "      <td>Sedentary</td>\n",
       "      <td>[Relaxing, Homemaking, Indoors, Arts and Crafts]</td>\n",
       "      <td>[Outdoors, Sports, Exercise, Design]</td>\n",
       "      <td>sedentary middle-aged hispanic woman</td>\n",
       "      <td>5</td>\n",
       "    </tr>\n",
       "    <tr>\n",
       "      <th>6</th>\n",
       "      <td>man</td>\n",
       "      <td>Senior</td>\n",
       "      <td>White</td>\n",
       "      <td>Moderate</td>\n",
       "      <td>[Learning, Design, Arts and Crafts, Relaxing]</td>\n",
       "      <td>[Sports, Outdoors, Homemaking, Exercise]</td>\n",
       "      <td>moderate senior white man</td>\n",
       "      <td>6</td>\n",
       "    </tr>\n",
       "    <tr>\n",
       "      <th>7</th>\n",
       "      <td>woman</td>\n",
       "      <td>Young Adult</td>\n",
       "      <td>Asian</td>\n",
       "      <td>Active</td>\n",
       "      <td>[Sports, Outdoors, Exercise, Homemaking]</td>\n",
       "      <td>[Arts and Crafts, Design, Games, Relaxing]</td>\n",
       "      <td>active young adult asian woman</td>\n",
       "      <td>7</td>\n",
       "    </tr>\n",
       "    <tr>\n",
       "      <th>8</th>\n",
       "      <td>man</td>\n",
       "      <td>Adult</td>\n",
       "      <td>African American</td>\n",
       "      <td>Sedentary</td>\n",
       "      <td>[Relaxing, Homemaking, Indoors, Arts and Crafts]</td>\n",
       "      <td>[Outdoors, Sports, Exercise, Design]</td>\n",
       "      <td>sedentary adult african american man</td>\n",
       "      <td>8</td>\n",
       "    </tr>\n",
       "    <tr>\n",
       "      <th>9</th>\n",
       "      <td>woman</td>\n",
       "      <td>Middle-aged</td>\n",
       "      <td>Asian</td>\n",
       "      <td>Moderate</td>\n",
       "      <td>[Learning, Design, Arts and Crafts, Games]</td>\n",
       "      <td>[Sports, Outdoors, Homemaking, Relaxing]</td>\n",
       "      <td>moderate middle-aged asian woman</td>\n",
       "      <td>9</td>\n",
       "    </tr>\n",
       "    <tr>\n",
       "      <th>10</th>\n",
       "      <td>man</td>\n",
       "      <td>Senior</td>\n",
       "      <td>African American</td>\n",
       "      <td>Active</td>\n",
       "      <td>[Sports, Outdoors, Exercise, Games]</td>\n",
       "      <td>[Homemaking, Design, Arts and Crafts, Relaxing]</td>\n",
       "      <td>active senior african american man</td>\n",
       "      <td>10</td>\n",
       "    </tr>\n",
       "    <tr>\n",
       "      <th>11</th>\n",
       "      <td>woman</td>\n",
       "      <td>Young Adult</td>\n",
       "      <td>White</td>\n",
       "      <td>Sedentary</td>\n",
       "      <td>[Relaxing, Arts and Crafts, Design, Games]</td>\n",
       "      <td>[Outdoors, Sports, Exercise, Homemaking]</td>\n",
       "      <td>sedentary young adult white woman</td>\n",
       "      <td>11</td>\n",
       "    </tr>\n",
       "  </tbody>\n",
       "</table>\n",
       "</div>"
      ],
      "text/plain": [
       "   Gender          Age              Race  Lifestyle  \\\n",
       "0     man  Young Adult  African American   Moderate   \n",
       "1   woman        Adult             Asian     Active   \n",
       "2     man       Senior          Hispanic  Sedentary   \n",
       "3   woman  Young Adult             Asian   Moderate   \n",
       "4     man        Adult             White     Active   \n",
       "5   woman  Middle-aged          Hispanic  Sedentary   \n",
       "6     man       Senior             White   Moderate   \n",
       "7   woman  Young Adult             Asian     Active   \n",
       "8     man        Adult  African American  Sedentary   \n",
       "9   woman  Middle-aged             Asian   Moderate   \n",
       "10    man       Senior  African American     Active   \n",
       "11  woman  Young Adult             White  Sedentary   \n",
       "\n",
       "                                               Likes  \\\n",
       "0             [Sports, Outdoors, Learning, Exercise]   \n",
       "1           [Outdoors, Exercise, Sports, Homemaking]   \n",
       "2   [Relaxing, Homemaking, Indoors, Arts and Crafts]   \n",
       "3         [Learning, Design, Arts and Crafts, Games]   \n",
       "4                [Sports, Outdoors, Exercise, Games]   \n",
       "5   [Relaxing, Homemaking, Indoors, Arts and Crafts]   \n",
       "6      [Learning, Design, Arts and Crafts, Relaxing]   \n",
       "7           [Sports, Outdoors, Exercise, Homemaking]   \n",
       "8   [Relaxing, Homemaking, Indoors, Arts and Crafts]   \n",
       "9         [Learning, Design, Arts and Crafts, Games]   \n",
       "10               [Sports, Outdoors, Exercise, Games]   \n",
       "11        [Relaxing, Arts and Crafts, Design, Games]   \n",
       "\n",
       "                                           Dislikes  \\\n",
       "0   [Homemaking, Design, Relaxing, Arts and Crafts]   \n",
       "1        [Arts and Crafts, Design, Games, Relaxing]   \n",
       "2              [Outdoors, Sports, Exercise, Design]   \n",
       "3          [Sports, Outdoors, Homemaking, Relaxing]   \n",
       "4   [Homemaking, Design, Arts and Crafts, Relaxing]   \n",
       "5              [Outdoors, Sports, Exercise, Design]   \n",
       "6          [Sports, Outdoors, Homemaking, Exercise]   \n",
       "7        [Arts and Crafts, Design, Games, Relaxing]   \n",
       "8              [Outdoors, Sports, Exercise, Design]   \n",
       "9          [Sports, Outdoors, Homemaking, Relaxing]   \n",
       "10  [Homemaking, Design, Arts and Crafts, Relaxing]   \n",
       "11         [Outdoors, Sports, Exercise, Homemaking]   \n",
       "\n",
       "                                  Description  ID  \n",
       "0   moderate young adult african american man   0  \n",
       "1                    active adult asian woman   1  \n",
       "2               sedentary senior hispanic man   2  \n",
       "3            moderate young adult asian woman   3  \n",
       "4                      active adult white man   4  \n",
       "5        sedentary middle-aged hispanic woman   5  \n",
       "6                   moderate senior white man   6  \n",
       "7              active young adult asian woman   7  \n",
       "8        sedentary adult african american man   8  \n",
       "9            moderate middle-aged asian woman   9  \n",
       "10         active senior african american man  10  \n",
       "11          sedentary young adult white woman  11  "
      ]
     },
     "execution_count": 11,
     "metadata": {},
     "output_type": "execute_result"
    }
   ],
   "source": [
    "df_people"
   ]
  },
  {
   "attachments": {},
   "cell_type": "markdown",
   "metadata": {
    "cellId": "nqrmp085i1jbtj89gggipi",
    "execution_id": "926a4cc8-10d3-4870-a28a-352bdf682b28"
   },
   "source": [
    "compose the dictionary with embeddings of all the likes and dislikes"
   ]
  },
  {
   "attachments": {},
   "cell_type": "markdown",
   "metadata": {
    "cellId": "idc87gtmcmudonzhguuwg",
    "execution_id": "82a841d3-3c8e-4782-8753-821cd7a7973b"
   },
   "source": [
    "likes = set(np.concatenate(df_people.Likes))\n",
    "dislikes = set(np.concatenate(df_people.Dislikes))\n",
    "\n",
    "embeddings_dict = {}\n",
    "for i in likes | dislikes:\n",
    "    time.sleep(2)\n",
    "    embeddings_dict[i] = get_embedding(i)\n",
    "\n",
    "descriptions_embeddings_dict = {}\n",
    "for i in df_people.Description:\n",
    "    time.sleep(2)\n",
    "    descriptions_embeddings_dict[i] = get_embedding(i)\n",
    "\n",
    "descriptions_embeddings_dict"
   ]
  },
  {
   "cell_type": "code",
   "execution_count": 12,
   "metadata": {
    "cellId": "2288nvom8ykgok28u77epo"
   },
   "outputs": [],
   "source": [
    "def get_df_likes_dislikes(\n",
    "        attr,\n",
    "        df_people=df_people,\n",
    "        refresh=REFRESH\n",
    "        ):\n",
    "    if not refresh:\n",
    "        raise Exception('API call aborted. Were you sure? If yes, change REFRESH to True.')\n",
    "    df = pd.DataFrame()\n",
    "    for i in df_people[['ID', 'Description', attr]].values:\n",
    "        for like in i[2]:\n",
    "            df = pd.concat(\n",
    "                [\n",
    "                    df,\n",
    "                    pd.DataFrame(\n",
    "                        [\n",
    "                            i[0],\n",
    "                            like.lower(),\n",
    "                            f'{i[1]} who likes {like.lower()}'\n",
    "                        ]\n",
    "                    ).T\n",
    "                ],\n",
    "                axis='rows'\n",
    "            )\n",
    "    df.reset_index(inplace=True, drop=True)\n",
    "    df.columns=['ID', 'Activity', 'Description']\n",
    "    df['Embedding'] = df.Description.apply(lambda x: get_embedding(x))\n",
    "    return df"
   ]
  },
  {
   "cell_type": "code",
   "execution_count": 13,
   "metadata": {},
   "outputs": [],
   "source": [
    "def add_activity(df):\n",
    "    df['Activity'] = np.stack(df.Description.str.split('who likes '))[:, 1]"
   ]
  },
  {
   "cell_type": "code",
   "execution_count": 14,
   "metadata": {
    "cellId": "dq8zb7oz3xf5nnvt72oiju"
   },
   "outputs": [],
   "source": [
    "def normalize(x, overall_min, overall_max):  # currently from -1 to 1 due to negative vectors (we center at 0)\n",
    "    return 2 * (x - overall_min) / (overall_max - overall_min) - 1\n",
    "\n",
    "def add_deviation(df):\n",
    "    # first we find mean vector for an ID\n",
    "    # only then we find the mean for likes/dislikes\n",
    "    # thus we prevent individuals having too much likes/dislikes\n",
    "    # from solely deciding the mean\n",
    "    mean_vector = df\\\n",
    "    .groupby('ID')\\\n",
    "    .Embedding\\\n",
    "    .apply(lambda x: np.mean(np.stack(x), axis=0))\\\n",
    "    .mean()\n",
    "    deviation = df.Embedding.apply(lambda x: x - mean_vector)\n",
    "    df['Deviation'] = deviation\n",
    "    overall = np.concatenate(df.Deviation)\n",
    "    overall_min = np.min(overall)\n",
    "    overall_max = np.max(overall)\n",
    "    del overall\n",
    "    norm_dev = df.Deviation.apply(lambda x: normalize(x, overall_min, overall_max))\n",
    "    df['Norm_Dev'] = norm_dev"
   ]
  },
  {
   "cell_type": "code",
   "execution_count": 15,
   "metadata": {
    "cellId": "9vzcq9sgljpj7xj9f79eq"
   },
   "outputs": [],
   "source": [
    "preferences_dfs = {}\n",
    "for likes_dislikes in ['likes', 'dislikes']:\n",
    "    if REFRESH:\n",
    "        preferences_dfs[likes_dislikes] = get_df_likes_dislikes(\n",
    "            likes_dislikes.capitalize(), df_people=df_people\n",
    "            )\n",
    "        preferences_dfs[likes_dislikes].to_csv(f'data/{likes_dislikes}.csv', index=False)\n",
    "        np.save(f'data/{likes_dislikes}', preferences_dfs[likes_dislikes].Embedding)\n",
    "    else:\n",
    "        preferences_dfs[likes_dislikes] = pd.read_csv(f'data/{likes_dislikes}.csv')\n",
    "        preferences_dfs[likes_dislikes].Embedding = np.load(\n",
    "            f'data/{likes_dislikes}.npy', allow_pickle=True\n",
    "    )\n",
    "    add_activity(preferences_dfs[likes_dislikes])\n",
    "    add_deviation(preferences_dfs[likes_dislikes])"
   ]
  },
  {
   "cell_type": "code",
   "execution_count": 16,
   "metadata": {},
   "outputs": [],
   "source": [
    "content_dfs = {\n",
    "    'messages': messages,\n",
    "    'images': images,\n",
    "}"
   ]
  },
  {
   "cell_type": "code",
   "execution_count": 17,
   "metadata": {
    "cellId": "2oxz81hw58eitf1pm6jdnf",
    "colab": {
     "base_uri": "https://localhost:8080/",
     "height": 332
    },
    "id": "gXHna47icvDH",
    "outputId": "8bd6c2bf-fdc4-4ba6-a8e3-5ec118a96c67"
   },
   "outputs": [],
   "source": [
    "for content_type in ['messages', 'images']:\n",
    "    df = content_dfs[content_type]\n",
    "    df['Content_ID'] = range(len(df))\n",
    "\n",
    "    if REFRESH:\n",
    "        df['Embedding'] = df['content'].apply(get_embedding)\n",
    "        df.to_csv(f'data/{content_type}_embeddings.csv', index=False)\n",
    "        np.save(f'data/{content_type}', df.Embedding)\n",
    "    else:\n",
    "        df['Embedding'] = np.load(f'data/{content_type}.npy', allow_pickle=True)\n",
    "    # offset each group by it's center\n",
    "    emb_center = df['Embedding'].mean()    \n",
    "    deviation = df.Embedding.apply(lambda emb: emb - emb_center)\n",
    "    df['Deviation'] = deviation\n",
    "    \n",
    "    overall = np.concatenate(df.Deviation)\n",
    "    overall_min = np.min(overall)\n",
    "    overall_max = np.max(overall)\n",
    "    del overall\n",
    "    norm_dev = df.Deviation.apply(lambda x: normalize(x, overall_min, overall_max))\n",
    "    df['Norm_Dev'] = norm_dev"
   ]
  },
  {
   "attachments": {},
   "cell_type": "markdown",
   "metadata": {},
   "source": [
    "# Get distances"
   ]
  },
  {
   "cell_type": "code",
   "execution_count": 18,
   "metadata": {
    "cellId": "jl4ql9z70sr8r0g2egu4au"
   },
   "outputs": [
    {
     "data": {
      "text/plain": [
       "2.0"
      ]
     },
     "execution_count": 18,
     "metadata": {},
     "output_type": "execute_result"
    }
   ],
   "source": [
    "euclidean([-1, -1], [1, 1])/(2**0.5)"
   ]
  },
  {
   "cell_type": "code",
   "execution_count": 19,
   "metadata": {
    "cellId": "wquhdbxtujil8iha1fvxi"
   },
   "outputs": [
    {
     "data": {
      "text/plain": [
       "2.0"
      ]
     },
     "execution_count": 19,
     "metadata": {},
     "output_type": "execute_result"
    }
   ],
   "source": [
    "cosine([-1, -1], [1, 1])"
   ]
  },
  {
   "cell_type": "code",
   "execution_count": 20,
   "metadata": {
    "cellId": "74ogzhb67pye86yyw5paqk"
   },
   "outputs": [],
   "source": [
    "def get_cosine(vec_1, vec_2, epsilon=10**-6):\n",
    "    \"\"\"\n",
    "    cosine() is so bad, that it's incapable\n",
    "    of evaluating [0, 0] to [1, 1] distance\n",
    "    due to zero division.\n",
    "    Thus we manually bring it to live here\n",
    "    \"\"\"\n",
    "    vec_1 = [i if i else epsilon for i in vec_1]\n",
    "    vec_2 = [i if i else epsilon for i in vec_2]\n",
    "    return cosine(vec_1, vec_2)"
   ]
  },
  {
   "cell_type": "code",
   "execution_count": 21,
   "metadata": {
    "cellId": "jtzurdrhnlofiv5wyuyxnn"
   },
   "outputs": [],
   "source": [
    "def get_distance(vec_1, vec_2):\n",
    "    \"\"\"\n",
    "    intended to work with -1 to 1 normalized vectors\n",
    "    combines two approaches so that negatives of cosine similarity\n",
    "    are smoothened as well as the negatives of euclidean alone\n",
    "    \"\"\"\n",
    "    euc = euclidean(vec_1, vec_2)\n",
    "    cos = get_cosine(vec_1, vec_2)\n",
    "    # let's scale both distances to [0, 1]\n",
    "    # since cosine() lies between 0 and 2, halve it    \n",
    "    cos /= 2\n",
    "    # now normalize the euclidean distance output\n",
    "    # larges distances in our case are beteween\n",
    "    # [-1, -1, ... , -1] and [1, 1, ... , 1]\n",
    "    # and the value depends on n dimensions\n",
    "    # so let's consider it\n",
    "    ones = np.ones(len(vec_1))\n",
    "    largest_euc = euclidean(-ones, ones)\n",
    "    euc /= largest_euc    \n",
    "    dist = euc/2 + euc*cos + cos/2\n",
    "    # scale dist to [0, 1]\n",
    "    dist /= 2\n",
    "    # return euc, cos, dist  # an option for testing the function\n",
    "    return dist"
   ]
  },
  {
   "cell_type": "code",
   "execution_count": 22,
   "metadata": {
    "cellId": "i4c9rpwnkiix237f338e6p"
   },
   "outputs": [
    {
     "data": {
      "text/plain": [
       "{0, 1, 2, 3, 4, 5, 6, 7, 8, 9, 10, 11}"
      ]
     },
     "execution_count": 22,
     "metadata": {},
     "output_type": "execute_result"
    }
   ],
   "source": [
    "users = set(df_people.ID)\n",
    "users"
   ]
  },
  {
   "cell_type": "code",
   "execution_count": 23,
   "metadata": {
    "cellId": "9pjqu7k0r2s3x0tdxe9hz8"
   },
   "outputs": [
    {
     "data": {
      "text/plain": [
       "('sports', array([-0.215, -0.147,  0.222, ..., -0.104, -0.1  ,  0.373]))"
      ]
     },
     "execution_count": 23,
     "metadata": {},
     "output_type": "execute_result"
    }
   ],
   "source": [
    "user = 0\n",
    "user_vec = preferences_dfs['likes'].Norm_Dev[user]\n",
    "user_activity = preferences_dfs['likes'].Activity[user]\n",
    "user_activity, user_vec"
   ]
  },
  {
   "cell_type": "code",
   "execution_count": 24,
   "metadata": {
    "cellId": "nhe48sfs7qb4cyzo7nu4vv"
   },
   "outputs": [
    {
     "data": {
      "text/plain": [
       "0    -0.578270\n",
       "1    -0.254970\n",
       "2     0.654209\n",
       "3    -0.031063\n",
       "4    -0.232658\n",
       "5    -0.836242\n",
       "6    -0.609635\n",
       "7    -1.000000\n",
       "8    -0.682812\n",
       "9    -0.818118\n",
       "10   -0.072274\n",
       "11   -0.346504\n",
       "12    0.403642\n",
       "13   -0.131215\n",
       "14    0.416898\n",
       "15    0.329650\n",
       "16   -0.291280\n",
       "17   -0.448340\n",
       "18   -0.235248\n",
       "19   -0.181300\n",
       "20    0.233747\n",
       "21    0.288873\n",
       "22    0.702827\n",
       "23    0.225809\n",
       "24   -0.278210\n",
       "25    0.895140\n",
       "26    0.907253\n",
       "27    0.463770\n",
       "28    0.169184\n",
       "29   -0.027674\n",
       "30    0.862179\n",
       "31    0.230272\n",
       "32    0.589889\n",
       "33    0.234934\n",
       "34    0.386357\n",
       "35    0.508308\n",
       "36    0.315224\n",
       "37    1.000000\n",
       "38    0.591318\n",
       "39    0.640380\n",
       "Name: Norm_Dev, dtype: float64"
      ]
     },
     "execution_count": 24,
     "metadata": {},
     "output_type": "execute_result"
    }
   ],
   "source": [
    "message_distances = content_dfs['messages'].Norm_Dev.apply(lambda x: get_distance(x, user_vec))\n",
    "2 * (message_distances - message_distances.min()) / (message_distances.max() - message_distances.min()) - 1"
   ]
  },
  {
   "cell_type": "code",
   "execution_count": 25,
   "metadata": {
    "cellId": "02uc6xdn2eayprkhy5a35c"
   },
   "outputs": [
    {
     "data": {
      "text/plain": [
       "0    -0.578270\n",
       "1    -0.254970\n",
       "2     0.654209\n",
       "3    -0.031063\n",
       "4    -0.232658\n",
       "5    -0.836242\n",
       "6    -0.609635\n",
       "7    -1.000000\n",
       "8    -0.682812\n",
       "9    -0.818118\n",
       "10   -0.072274\n",
       "11   -0.346504\n",
       "12    0.403642\n",
       "13   -0.131215\n",
       "14    0.416898\n",
       "15    0.329650\n",
       "16   -0.291280\n",
       "17   -0.448340\n",
       "18   -0.235248\n",
       "19   -0.181300\n",
       "20    0.233747\n",
       "21    0.288873\n",
       "22    0.702827\n",
       "23    0.225809\n",
       "24   -0.278210\n",
       "25    0.895140\n",
       "26    0.907253\n",
       "27    0.463770\n",
       "28    0.169184\n",
       "29   -0.027674\n",
       "30    0.862179\n",
       "31    0.230272\n",
       "32    0.589889\n",
       "33    0.234934\n",
       "34    0.386357\n",
       "35    0.508308\n",
       "36    0.315224\n",
       "37    1.000000\n",
       "38    0.591318\n",
       "39    0.640380\n",
       "Name: Norm_Dev, dtype: float64"
      ]
     },
     "execution_count": 25,
     "metadata": {},
     "output_type": "execute_result"
    }
   ],
   "source": [
    "normalize(\n",
    "    message_distances,\n",
    "    message_distances.min(),\n",
    "    message_distances.max()\n",
    ")"
   ]
  },
  {
   "cell_type": "code",
   "execution_count": 26,
   "metadata": {
    "cellId": "ew51ol5uwpedwmhv4655s7"
   },
   "outputs": [
    {
     "name": "stdout",
     "output_type": "stream",
     "text": [
      "User ID: 10\n",
      "active senior african american man \n",
      "\n",
      "sports\n",
      "best_fit=9 Grab your clubs and hit the green! Golfing is a fun way to enjoy the outdoors, socialize with friends, and improve your hand-eye coordination and focus. Fore!\n",
      "worst_fit=37 Put down the phone and pick up some decor! Home decorating is a fun and creative way to express yourself and transform your living space into a cozy and inviting sanctuary. Plus, you'll feel proud of your beautiful and personalized home!\n",
      "\n",
      "outdoors\n",
      "best_fit=1 Take a break from your screen and hit the trails! Hiking is a great way to explore nature, get some exercise, and clear your mind. Don't forget to bring some snacks and water!\n",
      "worst_fit=37 Put down the phone and pick up some decor! Home decorating is a fun and creative way to express yourself and transform your living space into a cozy and inviting sanctuary. Plus, you'll feel proud of your beautiful and personalized home!\n",
      "\n",
      "exercise\n",
      "best_fit=4 Step away from your screen and take a walk outside. Walking is a simple and accessible way to get some exercise, clear your mind, and enjoy the fresh air. Take a different route and see where it takes you!\n",
      "worst_fit=37 Put down the phone and pick up some decor! Home decorating is a fun and creative way to express yourself and transform your living space into a cozy and inviting sanctuary. Plus, you'll feel proud of your beautiful and personalized home!\n",
      "\n",
      "games\n",
      "best_fit=19 Put down your phone and play a game of solitaire. It's a classic card game that can improve your problem-solving skills and help you pass the time. Plus, you can play it anywhere!\n",
      "worst_fit=37 Put down the phone and pick up some decor! Home decorating is a fun and creative way to express yourself and transform your living space into a cozy and inviting sanctuary. Plus, you'll feel proud of your beautiful and personalized home!\n"
     ]
    }
   ],
   "source": [
    "user = 10\n",
    "count = 0\n",
    "for entry in preferences_dfs['likes'].query(f'ID == {user}').iterrows():\n",
    "    entry = entry[1]\n",
    "    if not count:\n",
    "        count += 1\n",
    "        print(f'User ID: {user}')\n",
    "        print(entry.Description.split('who likes')[0])\n",
    "    message_distances = messages.Norm_Dev.apply(lambda x: get_distance(x, entry.Norm_Dev))\n",
    "    message_distances_normalized = normalize(\n",
    "        message_distances,\n",
    "        message_distances.min(),\n",
    "        message_distances.max()\n",
    "    )\n",
    "    print()\n",
    "    print(entry.Activity)\n",
    "    best_fit = message_distances_normalized.argmin()\n",
    "    worst_fit = message_distances_normalized.argmax()\n",
    "    print(f'{best_fit=}', messages.loc[best_fit].content)\n",
    "    print(f'{worst_fit=}', messages.loc[worst_fit].content)\n"
   ]
  },
  {
   "cell_type": "code",
   "execution_count": 27,
   "metadata": {},
   "outputs": [
    {
     "data": {
      "text/plain": [
       "ID                                                            10\n",
       "Description    active senior african american man who likes g...\n",
       "Embedding      [-0.015264001674950123, -0.030528003349900246,...\n",
       "Activity                                                   games\n",
       "Deviation      [-0.006749332282197429, -0.024203352751101193,...\n",
       "Norm_Dev       [-0.23292488811247625, -0.6890914738219113, -0...\n",
       "Name: 43, dtype: object"
      ]
     },
     "execution_count": 27,
     "metadata": {},
     "output_type": "execute_result"
    }
   ],
   "source": [
    "entry"
   ]
  },
  {
   "cell_type": "code",
   "execution_count": 28,
   "metadata": {},
   "outputs": [],
   "source": [
    "# likes_weight = 1\n",
    "# dislikes_weight = 1\n",
    "# preference_distances_by_user = {}\n",
    "# preference_distances_df = pd.DataFrame()\n",
    "# for user in users:\n",
    "#     preference_distances_by_user[user] = {}\n",
    "#     for content_type in ['messages', 'images']:\n",
    "#         preference_distances_by_user[user][content_type] = {}\n",
    "#         for content_entry in content_dfs[content_type].iterrows():\n",
    "#             content_entry = content_entry[1]\n",
    "#             preference_distances_by_user[user][content_type][content_entry.Content_ID] = {}\n",
    "#             for likes_dislikes in ['likes', 'dislikes']:\n",
    "#                 preference_distances_by_user[user][content_type][content_entry.Content_ID][likes_dislikes] = []\n",
    "#                 for user_pref_entry in preferences_dfs[likes_dislikes].query(f'ID == {user}').iterrows():\n",
    "#                     user_pref_entry = user_pref_entry[1]\n",
    "#                     preference_distance = get_distance(content_entry.Norm_Dev, user_pref_entry.Norm_Dev)\n",
    "#                     preference_distances_by_user[user][content_type][content_entry.Content_ID][likes_dislikes].append(preference_distance)\n",
    "#                     print(f'{user=} {content_type} Content_ID={content_entry.Content_ID} {likes_dislikes} {preference_distance}')\n",
    "#                     distance_df_entry = {\n",
    "#                         'User_ID': user,\n",
    "#                         'Content_Type': content_type,\n",
    "#                         'Content_ID': content_entry.Content_ID,\n",
    "#                         'Attitude': likes_dislikes,\n",
    "#                         'Activity': user_pref_entry.Activity,\n",
    "#                         'Preference_Distance': preference_distance\n",
    "#                     }\n",
    "#                     preference_distances_df = pd.concat([preference_distances_df, pd.DataFrame(distance_df_entry, index=[0])])\n",
    "#             mean_like_distance = np.mean(preference_distances_by_user[user][content_type][content_entry.Content_ID]['likes'])\n",
    "#             min_dislike_distance =  np.min(preference_distances_by_user[user][content_type][content_entry.Content_ID]['dislikes'])\n",
    "#             preference_distances_by_user[user][content_type][content_entry.Content_ID]['Preference_Distance'] = mean_like_distance - min_dislike_distance\n",
    "# preference_distances_df.reset_index(drop=True, inplace=True)"
   ]
  },
  {
   "cell_type": "code",
   "execution_count": 29,
   "metadata": {},
   "outputs": [],
   "source": [
    "# @title Version with overall distance df\n",
    "def get_preference_distances_V2_overall():\n",
    "    likes_weight = 1\n",
    "    dislikes_weight = 1\n",
    "    preference_distances_by_user = {}\n",
    "    preference_distances_df = pd.DataFrame()\n",
    "    for user in users:\n",
    "        preference_distances_by_user[user] = {}\n",
    "        for content_type in ['messages', 'images']:\n",
    "            preference_distances_by_user[user][content_type] = {}\n",
    "            for content_entry in content_dfs[content_type].iterrows():\n",
    "                content_entry = content_entry[1]\n",
    "                preference_distances_by_user[user][content_type][content_entry.Content_ID] = {}\n",
    "                for likes_dislikes in ['likes', 'dislikes']:\n",
    "                    preference_distances_by_user[user][content_type][content_entry.Content_ID][likes_dislikes] = []\n",
    "                    for user_pref_entry in preferences_dfs[likes_dislikes].query(f'ID == {user}').iterrows():\n",
    "                        user_pref_entry = user_pref_entry[1]\n",
    "                        preference_distance = get_distance(content_entry.Norm_Dev, user_pref_entry.Norm_Dev)\n",
    "                        preference_distances_by_user[user][content_type][content_entry.Content_ID][likes_dislikes].append(preference_distance)\n",
    "                        # print(f'{user=} {content_type} Content_ID={content_entry.Content_ID} {likes_dislikes} {preference_distance}')\n",
    "                mean_like_distance = np.mean(preference_distances_by_user[user][content_type][content_entry.Content_ID]['likes'])\n",
    "                min_dislike_distance =  np.min(preference_distances_by_user[user][content_type][content_entry.Content_ID]['dislikes'])\n",
    "                overall_preference_distance = mean_like_distance - min_dislike_distance\n",
    "                preference_distances_by_user[user][content_type][content_entry.Content_ID]['Preference_Distance'] = overall_preference_distance\n",
    "                distance_df_entry = {\n",
    "                    'User_ID': user,\n",
    "                    'Content_Type': content_type,\n",
    "                    'Content_ID': content_entry.Content_ID,\n",
    "                    'Preference_Distance': overall_preference_distance\n",
    "                }\n",
    "                preference_distances_df = pd.concat([preference_distances_df, pd.DataFrame(distance_df_entry, index=[0])])\n",
    "    preference_distances_df.reset_index(drop=True, inplace=True)\n",
    "    return preference_distances_df, preference_distances_by_user"
   ]
  },
  {
   "attachments": {},
   "cell_type": "markdown",
   "metadata": {},
   "source": [
    "# Distance calculation showcases"
   ]
  },
  {
   "attachments": {},
   "cell_type": "markdown",
   "metadata": {},
   "source": [
    "the opposite corner is opposite all the time, regardless of n dims"
   ]
  },
  {
   "cell_type": "code",
   "execution_count": 30,
   "metadata": {},
   "outputs": [
    {
     "data": {
      "text/plain": [
       "0.125"
      ]
     },
     "execution_count": 30,
     "metadata": {},
     "output_type": "execute_result"
    }
   ],
   "source": [
    "get_distance([0], [1])"
   ]
  },
  {
   "cell_type": "code",
   "execution_count": 31,
   "metadata": {},
   "outputs": [
    {
     "data": {
      "text/plain": [
       "0.125"
      ]
     },
     "execution_count": 31,
     "metadata": {},
     "output_type": "execute_result"
    }
   ],
   "source": [
    "get_distance([0,0], [1,1])"
   ]
  },
  {
   "cell_type": "code",
   "execution_count": 32,
   "metadata": {},
   "outputs": [
    {
     "data": {
      "text/plain": [
       "0.0"
      ]
     },
     "execution_count": 32,
     "metadata": {},
     "output_type": "execute_result"
    }
   ],
   "source": [
    "get_distance([1,1,1], [1,1,1])  # read: vectors are the same. TRUE"
   ]
  },
  {
   "cell_type": "code",
   "execution_count": 33,
   "metadata": {},
   "outputs": [
    {
     "data": {
      "text/plain": [
       "0.0"
      ]
     },
     "execution_count": 33,
     "metadata": {},
     "output_type": "execute_result"
    }
   ],
   "source": [
    "get_distance([0,0,0], [0,0,0])  # read: vectors are the same. TRUE"
   ]
  },
  {
   "cell_type": "code",
   "execution_count": 34,
   "metadata": {},
   "outputs": [
    {
     "data": {
      "text/plain": [
       "0.0"
      ]
     },
     "execution_count": 34,
     "metadata": {},
     "output_type": "execute_result"
    }
   ],
   "source": [
    "get_distance([1,1,1], [1,1,1])  # read: vectors are the same. TRUE\n",
    "# compare against: dot product"
   ]
  },
  {
   "cell_type": "code",
   "execution_count": 35,
   "metadata": {},
   "outputs": [
    {
     "data": {
      "text/plain": [
       "1.0"
      ]
     },
     "execution_count": 35,
     "metadata": {},
     "output_type": "execute_result"
    }
   ],
   "source": [
    "get_distance([-1,-1,-1], [1,1,1]) # read: vectors are the MOST different. TRUE\n",
    "# compare against: dot product (False), eucledian (uninterpretable)"
   ]
  },
  {
   "cell_type": "code",
   "execution_count": 36,
   "metadata": {},
   "outputs": [
    {
     "data": {
      "text/plain": [
       "0"
      ]
     },
     "execution_count": 36,
     "metadata": {},
     "output_type": "execute_result"
    }
   ],
   "source": [
    "np.dot([0,0,0], [0,0,0])  # read: they are the same. TRUE"
   ]
  },
  {
   "cell_type": "code",
   "execution_count": 37,
   "metadata": {},
   "outputs": [
    {
     "data": {
      "text/plain": [
       "0"
      ]
     },
     "execution_count": 37,
     "metadata": {},
     "output_type": "execute_result"
    }
   ],
   "source": [
    "np.dot([0,0,0], [1,1,1])  # read: they are the same. FALSE"
   ]
  },
  {
   "cell_type": "code",
   "execution_count": 38,
   "metadata": {},
   "outputs": [
    {
     "data": {
      "text/plain": [
       "3"
      ]
     },
     "execution_count": 38,
     "metadata": {},
     "output_type": "execute_result"
    }
   ],
   "source": [
    "np.dot([1,1,1], [1,1,1])  # read: they are different. FALSE"
   ]
  },
  {
   "cell_type": "code",
   "execution_count": 39,
   "metadata": {},
   "outputs": [
    {
     "data": {
      "text/plain": [
       "-3"
      ]
     },
     "execution_count": 39,
     "metadata": {},
     "output_type": "execute_result"
    }
   ],
   "source": [
    "np.dot([-1,-1,-1], [1,1,1])  # read: they are super-close. FALSE"
   ]
  },
  {
   "attachments": {},
   "cell_type": "markdown",
   "metadata": {},
   "source": [
    "Being on the farthest corner is evaluated differently for different n-dims"
   ]
  },
  {
   "cell_type": "code",
   "execution_count": 40,
   "metadata": {},
   "outputs": [
    {
     "data": {
      "text/plain": [
       "1.0"
      ]
     },
     "execution_count": 40,
     "metadata": {},
     "output_type": "execute_result"
    }
   ],
   "source": [
    "euclidean([0], [1])"
   ]
  },
  {
   "cell_type": "code",
   "execution_count": 41,
   "metadata": {},
   "outputs": [
    {
     "data": {
      "text/plain": [
       "1.4142135623730951"
      ]
     },
     "execution_count": 41,
     "metadata": {},
     "output_type": "execute_result"
    }
   ],
   "source": [
    "euclidean([0,0], [1,1])"
   ]
  },
  {
   "cell_type": "code",
   "execution_count": 42,
   "metadata": {},
   "outputs": [
    {
     "data": {
      "text/plain": [
       "1.7320508075688772"
      ]
     },
     "execution_count": 42,
     "metadata": {},
     "output_type": "execute_result"
    }
   ],
   "source": [
    "euclidean([0,0,0], [1,1,1])"
   ]
  },
  {
   "cell_type": "code",
   "execution_count": 43,
   "metadata": {},
   "outputs": [
    {
     "data": {
      "text/plain": [
       "2.0"
      ]
     },
     "execution_count": 43,
     "metadata": {},
     "output_type": "execute_result"
    }
   ],
   "source": [
    "euclidean([0,0,0,0], [1,1,1,1])"
   ]
  },
  {
   "cell_type": "code",
   "execution_count": 44,
   "metadata": {},
   "outputs": [
    {
     "data": {
      "text/plain": [
       "0.3464101615137755"
      ]
     },
     "execution_count": 44,
     "metadata": {},
     "output_type": "execute_result"
    }
   ],
   "source": [
    "# Pairwise difference = 0.2\n",
    "# See the opposing vectors:\n",
    "euclidean([0.1,0.1,0.1], [-0.1,-0.1,-0.1])"
   ]
  },
  {
   "cell_type": "code",
   "execution_count": 45,
   "metadata": {},
   "outputs": [
    {
     "data": {
      "text/plain": [
       "0.3464101615137754"
      ]
     },
     "execution_count": 45,
     "metadata": {},
     "output_type": "execute_result"
    }
   ],
   "source": [
    "# Pairwise difference = 0.2\n",
    "# See the identically oriented vectors:\n",
    "euclidean([0.1,0.1,0.1], [0.3,0.3,0.3])\n"
   ]
  },
  {
   "attachments": {},
   "cell_type": "markdown",
   "metadata": {},
   "source": [
    "read: the OPPOSING things are no different from identically inclined things. FALSE <br>\n",
    "E.g. enjoying swimming more than you do is equivalent to hating swiming as much as you love it. FALSE"
   ]
  },
  {
   "cell_type": "code",
   "execution_count": 46,
   "metadata": {},
   "outputs": [
    {
     "data": {
      "text/plain": [
       "0.325"
      ]
     },
     "execution_count": 46,
     "metadata": {},
     "output_type": "execute_result"
    }
   ],
   "source": [
    "# Pairwise difference = 0.2\n",
    "# See the opposing vectors:\n",
    "get_distance([0.1,0.1,0.1], [-0.1,-0.1,-0.1])"
   ]
  },
  {
   "cell_type": "code",
   "execution_count": 47,
   "metadata": {},
   "outputs": [
    {
     "data": {
      "text/plain": [
       "0.025000000000000033"
      ]
     },
     "execution_count": 47,
     "metadata": {},
     "output_type": "execute_result"
    }
   ],
   "source": [
    "# Pairwise difference = 0.2\n",
    "# See the identically oriented vectors:\n",
    "get_distance([0.1,0.1,0.1], [0.3,0.3,0.3])\n"
   ]
  },
  {
   "attachments": {},
   "cell_type": "markdown",
   "metadata": {},
   "source": [
    "read: co-oriented things are less far apart than those opposing each other. TRUE<br>\n",
    "compare against: dot product (opposite from being correct), euclidean (indifferent to the case)"
   ]
  },
  {
   "cell_type": "code",
   "execution_count": 48,
   "metadata": {},
   "outputs": [
    {
     "data": {
      "text/plain": [
       "0"
      ]
     },
     "execution_count": 48,
     "metadata": {},
     "output_type": "execute_result"
    }
   ],
   "source": [
    "e = 10**-9  # approaches ZERO\n",
    "cosine([e,e,e], [1,1,1])  # read: ZERO and MAX are the same. FALSE"
   ]
  },
  {
   "cell_type": "code",
   "execution_count": 49,
   "metadata": {},
   "outputs": [
    {
     "data": {
      "text/plain": [
       "2.0"
      ]
     },
     "execution_count": 49,
     "metadata": {},
     "output_type": "execute_result"
    }
   ],
   "source": [
    "cosine([-e,-e,-e], [e,e,e])  # read: ZERO and ZERO are super-different. FALSE"
   ]
  },
  {
   "cell_type": "code",
   "execution_count": 50,
   "metadata": {},
   "outputs": [
    {
     "data": {
      "text/plain": [
       "0.25000000075"
      ]
     },
     "execution_count": 50,
     "metadata": {},
     "output_type": "execute_result"
    }
   ],
   "source": [
    "e = 10**-9  # approaches ZERO\n",
    "get_distance([-e,-e,-e], [e,e,e])  # read: ZERO and ZERO are NOT super-different. TRUE\n",
    "# closer to being similar\n",
    "# compare against: cosine"
   ]
  },
  {
   "cell_type": "code",
   "execution_count": 51,
   "metadata": {},
   "outputs": [
    {
     "data": {
      "text/plain": [
       "0.625"
      ]
     },
     "execution_count": 51,
     "metadata": {},
     "output_type": "execute_result"
    }
   ],
   "source": [
    "get_distance([-0.5,-0.5,-0.5], [0.5,0.5,0.5])\n",
    "# read: opposite vec with half magnitude is closer to the half of being farthest apart. TRUE\n",
    "# compare against: cosine"
   ]
  },
  {
   "cell_type": "code",
   "execution_count": 52,
   "metadata": {},
   "outputs": [
    {
     "name": "stderr",
     "output_type": "stream",
     "text": [
      "c:\\Programs\\Python\\Python311\\Lib\\site-packages\\scipy\\spatial\\distance.py:622: RuntimeWarning: invalid value encountered in scalar divide\n",
      "  dist = 1.0 - uv / np.sqrt(uu * vv)\n"
     ]
    },
    {
     "data": {
      "text/plain": [
       "0"
      ]
     },
     "execution_count": 52,
     "metadata": {},
     "output_type": "execute_result"
    }
   ],
   "source": [
    "cosine([0,0,0], [1,1,1])  # does not work by default"
   ]
  },
  {
   "cell_type": "code",
   "execution_count": 53,
   "metadata": {},
   "outputs": [
    {
     "data": {
      "text/plain": [
       "0"
      ]
     },
     "execution_count": 53,
     "metadata": {},
     "output_type": "execute_result"
    }
   ],
   "source": [
    "#requires replacement of zeros by an arbitrary small epsilon value:\n",
    "get_cosine([0,0,0], [1,1,1], epsilon=10**-6)"
   ]
  },
  {
   "cell_type": "code",
   "execution_count": 54,
   "metadata": {},
   "outputs": [
    {
     "data": {
      "text/plain": [
       "-0.030000000000000006"
      ]
     },
     "execution_count": 54,
     "metadata": {},
     "output_type": "execute_result"
    }
   ],
   "source": [
    "np.dot([0.1,0.1,0.1], [-0.1,-0.1,-0.1])"
   ]
  },
  {
   "cell_type": "code",
   "execution_count": 55,
   "metadata": {},
   "outputs": [
    {
     "data": {
      "text/plain": [
       "-3"
      ]
     },
     "execution_count": 55,
     "metadata": {},
     "output_type": "execute_result"
    }
   ],
   "source": [
    "np.dot([1,1,1], [-1,-1,-1])"
   ]
  },
  {
   "attachments": {},
   "cell_type": "markdown",
   "metadata": {},
   "source": [
    "# Continue: get distances"
   ]
  },
  {
   "cell_type": "code",
   "execution_count": 56,
   "metadata": {},
   "outputs": [],
   "source": [
    "# @title Version with granular distances per user's instance\n",
    "def get_preference_distances_V3_granular():\n",
    "    likes_weight = 1\n",
    "    dislikes_weight = 1\n",
    "    preference_distances_by_user = {}\n",
    "    preference_distances_df = pd.DataFrame()\n",
    "    for user in users:\n",
    "        preference_distances_by_user[user] = {}\n",
    "        for content_type in ['messages', 'images']:\n",
    "            preference_distances_by_user[user][content_type] = {}\n",
    "            for content_entry in content_dfs[content_type].iterrows():\n",
    "                content_entry = content_entry[1]\n",
    "                preference_distances_by_user[user][content_type][content_entry.Content_ID] = {}\n",
    "                for likes_dislikes in ['likes', 'dislikes']:\n",
    "                    preference_distances_by_user[user][content_type][content_entry.Content_ID][likes_dislikes] = {}\n",
    "                    for user_pref_entry in preferences_dfs[likes_dislikes].query(f'ID == {user}').iterrows():\n",
    "                        user_pref_entry = user_pref_entry[1]\n",
    "                        preference_distance = get_distance(content_entry.Norm_Dev, user_pref_entry.Norm_Dev)\n",
    "                        preference_distances_by_user[user][content_type][content_entry.Content_ID][likes_dislikes][user_pref_entry.Activity] = preference_distance\n",
    "                        # print(f'{user=} {content_type} Content_ID={content_entry.Content_ID} {likes_dislikes} {user_pref_entry.Activity} {preference_distance}')\n",
    "                        distance_df_entry = {\n",
    "                            'User_ID': user,\n",
    "                            'Content_Type': content_type,\n",
    "                            'Content_ID': content_entry.Content_ID,\n",
    "                            'Attitude': likes_dislikes,\n",
    "                            'Activity': user_pref_entry.Activity,\n",
    "                            'Distance_to_this_preference': preference_distance\n",
    "                        }\n",
    "                        preference_distances_df = pd.concat([preference_distances_df, pd.DataFrame(distance_df_entry, index=[0])])\n",
    "    preference_distances_df.reset_index(drop=True, inplace=True)\n",
    "    return preference_distances_df, preference_distances_by_user"
   ]
  },
  {
   "cell_type": "code",
   "execution_count": 57,
   "metadata": {},
   "outputs": [],
   "source": [
    "preference_distances_df, preference_distances_by_user = get_preference_distances_V3_granular()\n",
    "# mean_like_distance = np.mean(preference_distances_by_user[user][content_type][content_entry.Content_ID]['likes'])\n",
    "min_dislike_distance =  np.min(list(preference_distances_by_user[user][content_type][0]['dislikes'].values()))\n",
    "# preference_distances_by_user[user][content_type][content_entry.Content_ID]['Distance_to_this_preference'] = mean_like_distance - min_dislike_distance"
   ]
  },
  {
   "cell_type": "code",
   "execution_count": 58,
   "metadata": {},
   "outputs": [
    {
     "name": "stdout",
     "output_type": "stream",
     "text": [
      "(0, 'images')\n"
     ]
    },
    {
     "data": {
      "text/html": [
       "<div>\n",
       "<style scoped>\n",
       "    .dataframe tbody tr th:only-of-type {\n",
       "        vertical-align: middle;\n",
       "    }\n",
       "\n",
       "    .dataframe tbody tr th {\n",
       "        vertical-align: top;\n",
       "    }\n",
       "\n",
       "    .dataframe thead th {\n",
       "        text-align: right;\n",
       "    }\n",
       "</style>\n",
       "<table border=\"1\" class=\"dataframe\">\n",
       "  <thead>\n",
       "    <tr style=\"text-align: right;\">\n",
       "      <th></th>\n",
       "      <th>User_ID</th>\n",
       "      <th>Content_Type</th>\n",
       "      <th>Content_ID</th>\n",
       "      <th>Attitude</th>\n",
       "      <th>Activity</th>\n",
       "      <th>Distance_to_this_preference</th>\n",
       "    </tr>\n",
       "  </thead>\n",
       "  <tbody>\n",
       "    <tr>\n",
       "      <th>320</th>\n",
       "      <td>0</td>\n",
       "      <td>images</td>\n",
       "      <td>0</td>\n",
       "      <td>likes</td>\n",
       "      <td>sports</td>\n",
       "      <td>0.191808</td>\n",
       "    </tr>\n",
       "    <tr>\n",
       "      <th>321</th>\n",
       "      <td>0</td>\n",
       "      <td>images</td>\n",
       "      <td>0</td>\n",
       "      <td>likes</td>\n",
       "      <td>outdoors</td>\n",
       "      <td>0.196748</td>\n",
       "    </tr>\n",
       "    <tr>\n",
       "      <th>322</th>\n",
       "      <td>0</td>\n",
       "      <td>images</td>\n",
       "      <td>0</td>\n",
       "      <td>likes</td>\n",
       "      <td>learning</td>\n",
       "      <td>0.192176</td>\n",
       "    </tr>\n",
       "    <tr>\n",
       "      <th>323</th>\n",
       "      <td>0</td>\n",
       "      <td>images</td>\n",
       "      <td>0</td>\n",
       "      <td>likes</td>\n",
       "      <td>exercise</td>\n",
       "      <td>0.201985</td>\n",
       "    </tr>\n",
       "    <tr>\n",
       "      <th>324</th>\n",
       "      <td>0</td>\n",
       "      <td>images</td>\n",
       "      <td>0</td>\n",
       "      <td>dislikes</td>\n",
       "      <td>homemaking</td>\n",
       "      <td>0.201087</td>\n",
       "    </tr>\n",
       "    <tr>\n",
       "      <th>...</th>\n",
       "      <td>...</td>\n",
       "      <td>...</td>\n",
       "      <td>...</td>\n",
       "      <td>...</td>\n",
       "      <td>...</td>\n",
       "      <td>...</td>\n",
       "    </tr>\n",
       "    <tr>\n",
       "      <th>587</th>\n",
       "      <td>0</td>\n",
       "      <td>images</td>\n",
       "      <td>33</td>\n",
       "      <td>likes</td>\n",
       "      <td>exercise</td>\n",
       "      <td>0.184707</td>\n",
       "    </tr>\n",
       "    <tr>\n",
       "      <th>588</th>\n",
       "      <td>0</td>\n",
       "      <td>images</td>\n",
       "      <td>33</td>\n",
       "      <td>dislikes</td>\n",
       "      <td>homemaking</td>\n",
       "      <td>0.145990</td>\n",
       "    </tr>\n",
       "    <tr>\n",
       "      <th>589</th>\n",
       "      <td>0</td>\n",
       "      <td>images</td>\n",
       "      <td>33</td>\n",
       "      <td>dislikes</td>\n",
       "      <td>design</td>\n",
       "      <td>0.186591</td>\n",
       "    </tr>\n",
       "    <tr>\n",
       "      <th>590</th>\n",
       "      <td>0</td>\n",
       "      <td>images</td>\n",
       "      <td>33</td>\n",
       "      <td>dislikes</td>\n",
       "      <td>relaxing</td>\n",
       "      <td>0.185923</td>\n",
       "    </tr>\n",
       "    <tr>\n",
       "      <th>591</th>\n",
       "      <td>0</td>\n",
       "      <td>images</td>\n",
       "      <td>33</td>\n",
       "      <td>dislikes</td>\n",
       "      <td>arts and crafts</td>\n",
       "      <td>0.187703</td>\n",
       "    </tr>\n",
       "  </tbody>\n",
       "</table>\n",
       "<p>272 rows × 6 columns</p>\n",
       "</div>"
      ],
      "text/plain": [
       "     User_ID Content_Type  Content_ID  Attitude         Activity  \\\n",
       "320        0       images           0     likes           sports   \n",
       "321        0       images           0     likes         outdoors   \n",
       "322        0       images           0     likes         learning   \n",
       "323        0       images           0     likes         exercise   \n",
       "324        0       images           0  dislikes       homemaking   \n",
       "..       ...          ...         ...       ...              ...   \n",
       "587        0       images          33     likes         exercise   \n",
       "588        0       images          33  dislikes       homemaking   \n",
       "589        0       images          33  dislikes           design   \n",
       "590        0       images          33  dislikes         relaxing   \n",
       "591        0       images          33  dislikes  arts and crafts   \n",
       "\n",
       "     Distance_to_this_preference  \n",
       "320                     0.191808  \n",
       "321                     0.196748  \n",
       "322                     0.192176  \n",
       "323                     0.201985  \n",
       "324                     0.201087  \n",
       "..                           ...  \n",
       "587                     0.184707  \n",
       "588                     0.145990  \n",
       "589                     0.186591  \n",
       "590                     0.185923  \n",
       "591                     0.187703  \n",
       "\n",
       "[272 rows x 6 columns]"
      ]
     },
     "metadata": {},
     "output_type": "display_data"
    }
   ],
   "source": [
    "for user_id, group in preference_distances_df.groupby(['User_ID', 'Content_Type']):\n",
    "    print(user_id)\n",
    "    display(group)\n",
    "    break"
   ]
  },
  {
   "cell_type": "code",
   "execution_count": 59,
   "metadata": {},
   "outputs": [],
   "source": [
    "class V2:\n",
    "    def __init__(self):\n",
    "        self.preference_distances_df, self.preference_distances_by_user = get_preference_distances_V2_overall()\n",
    "\n",
    "    def print_user_results(\n",
    "            self,\n",
    "            user: int,\n",
    "            content_type: str,\n",
    "            n_items: int = 5\n",
    "        ):\n",
    "        \"\"\"\n",
    "        user (int): User_ID\n",
    "\n",
    "        content_type (str): either 'messages' or 'images'\n",
    "\n",
    "        n_items: top N messages/images,\n",
    "        set 1 to show the best/worst options,\n",
    "        default = 5 (for number of fingers in human to count with)\n",
    "        \"\"\"\n",
    "        print(people.loc[user].content)\n",
    "        \n",
    "        dist_data = self.preference_distances_by_user[user][content_type].items()\n",
    "        pref_dist_list = [(content_id, i['Preference_Distance']) for (content_id, i) in dist_data]\n",
    "        sorted_content_ids = sorted(\n",
    "            pref_dist_list,\n",
    "            key=lambda x: x[1]\n",
    "            )\n",
    "\n",
    "        print(f'\\nTop {n_items} {content_type}:')\n",
    "        for n, (content_id, pref_dist) in enumerate(sorted_content_ids[:n_items]):\n",
    "            content = content_dfs[content_type]\\\n",
    "                .query(f'Content_ID == {content_id}')\\\n",
    "                    .content\\\n",
    "                        .values[0]\n",
    "            print(f'{n+1}. {content}')\n",
    "\n",
    "        print(f'\\nBottom {n_items} {content_type}:')\n",
    "        for n, (content_id, pref_dist) in enumerate(sorted_content_ids[-n_items:][::-1]):\n",
    "            content = content_dfs[content_type]\\\n",
    "                .query(f'Content_ID == {content_id}')\\\n",
    "                    .content\\\n",
    "                        .values[0]\n",
    "            print(f'{n+1}. {content}')"
   ]
  },
  {
   "cell_type": "code",
   "execution_count": 60,
   "metadata": {},
   "outputs": [],
   "source": [
    "V2_instance = V2()"
   ]
  },
  {
   "cell_type": "code",
   "execution_count": 61,
   "metadata": {},
   "outputs": [
    {
     "name": "stdout",
     "output_type": "stream",
     "text": [
      "Gender: Male\n",
      "Age: Senior\n",
      "Race: African American\n",
      "Lifestyle: Active\n",
      "Likes: Sports, Outdoors, Exercise, Games\n",
      "Dislikes: Homemaking, Design, Arts and Crafts, Relaxing\n",
      "\n",
      "Top 5 messages:\n",
      "1. Grab your clubs and hit the green! Golfing is a fun way to enjoy the outdoors, socialize with friends, and improve your hand-eye coordination and focus. Fore!\n",
      "2. Hop on your bike and feel the wind in your hair! Biking is a fun and eco-friendly way to explore your surroundings, get some exercise, and enjoy the outdoors. Don't forget your helmet!\n",
      "3. Put on your running shoes and hit the pavement! Jogging is a great way to improve your cardiovascular health, burn calories, and reduce stress. Start slow and steady, and work your way up!\n",
      "4. Pick up some weights and feel the burn! Weightlifting is a great way to build muscle, boost your metabolism, and feel more confident in your body. You got this!\n",
      "5. Strap on your roller skates and roll into some fun! Roller skating is a great way to improve your balance, coordination, and get a great workout for your legs and core. Don't forget your knee pads!\n",
      "\n",
      "Bottom 5 messages:\n",
      "1. Put down the phone and pick up some tools! Woodworking is a hands-on craft that can help you express your creativity and develop practical skills. Plus, you'll have beautiful and functional pieces to use or give as gifts!\n",
      "2. Put down the phone and pick up some decor! Home decorating is a fun and creative way to express yourself and transform your living space into a cozy and inviting sanctuary. Plus, you'll feel proud of your beautiful and personalized home!\n",
      "3. Step away from the screen and pick up a pen or brush! Calligraphy is a beautiful and elegant art form that involves creating decorative lettering. Let your creativity flow and see what stunning works of art you can create.\n",
      "4. Put down your phone and pick up a pencil! Drawing is a versatile and rewarding hobby that allows you to create anything you can imagine. Let your creativity soar and see what you can create.\n",
      "5. Put down the phone and pick up a sponge! Cleaning can be a satisfying way to destress and create a comfortable living space. Plus, you'll feel accomplished when you're done!\n"
     ]
    }
   ],
   "source": [
    "V2_instance.print_user_results(\n",
    "    user=10,\n",
    "    content_type='messages',\n",
    "    n_items=5\n",
    "    )"
   ]
  },
  {
   "cell_type": "code",
   "execution_count": 62,
   "metadata": {},
   "outputs": [
    {
     "name": "stdout",
     "output_type": "stream",
     "text": [
      "Gender: Male\n",
      "Age: Senior\n",
      "Race: African American\n",
      "Lifestyle: Active\n",
      "Likes: Sports, Outdoors, Exercise, Games\n",
      "Dislikes: Homemaking, Design, Arts and Crafts, Relaxing\n",
      "\n",
      "Top 5 images:\n",
      "1. Senior hispanic man playing a game of cards in the park.\n",
      "2. Person shuffling a deck of playing cards.\n",
      "3. Young adult African American man walking his dog in the park.\n",
      "4. Senior white woman biking in the park and looking towards the sky.\n",
      "5. Senior white man wearing a coat and holding a book while walking outdoors.\n",
      "\n",
      "Bottom 5 images:\n",
      "1. Young adult white woman dancing and cleaning the house.\n",
      "2. Woman placing a cutting board into the kitchen cupboard.\n",
      "3. Adult white woman sitting at a desk and painting.\n",
      "4. Person sketching flowers in a notepad.\n",
      "5. Adult white woman rolling dough in the kitchen and smiling.\n"
     ]
    }
   ],
   "source": [
    "V2_instance.print_user_results(\n",
    "    user=10,\n",
    "    content_type='images',\n",
    "    n_items=5\n",
    ")"
   ]
  },
  {
   "cell_type": "code",
   "execution_count": 63,
   "metadata": {},
   "outputs": [],
   "source": [
    "# # generating the best recommendation for each user via grouped df of distances\n",
    "\n",
    "# mean_like_dists = preference_distances_df.query(\"Attitude == 'likes'\")\\\n",
    "#     .drop(columns=['Activity', 'Attitude'])\\\n",
    "#         .groupby(\n",
    "#             [\n",
    "#                 'User_ID',\n",
    "#                 'Content_Type',\n",
    "#                 'Content_ID'\n",
    "#             ]\n",
    "#         ).mean()['Preference_Distance']\n",
    "# min_dislike_dists = preference_distances_df.query(\"Attitude == 'dislikes'\")\\\n",
    "#     .drop(columns=['Activity', 'Attitude'])\\\n",
    "#         .groupby(\n",
    "#             [\n",
    "#                 'User_ID',\n",
    "#                 'Content_Type',\n",
    "#                 'Content_ID'\n",
    "#             ]\n",
    "#         ).min()['Preference_Distance']\n",
    "# grouped = preference_distances_df\\\n",
    "#     .drop(columns=['Activity', 'Attitude'])\\\n",
    "#         .groupby(\n",
    "#             [\n",
    "#                 'User_ID',\n",
    "#                 'Content_Type',\n",
    "#                 'Content_ID'\n",
    "#             ]\n",
    "#         ).count()\n",
    "# grouped['Preference_Distance'] = mean_like_dists - min_dislike_dists\n",
    "# min_dist_indexes = grouped.groupby(['User_ID', 'Content_Type'])['Preference_Distance'].idxmin()\n",
    "# grouped.loc[min_dist_indexes]"
   ]
  },
  {
   "cell_type": "code",
   "execution_count": 64,
   "metadata": {},
   "outputs": [],
   "source": [
    "preference_distances_df_copy = preference_distances_df.copy()"
   ]
  },
  {
   "cell_type": "code",
   "execution_count": 65,
   "metadata": {},
   "outputs": [
    {
     "data": {
      "text/html": [
       "<div>\n",
       "<style scoped>\n",
       "    .dataframe tbody tr th:only-of-type {\n",
       "        vertical-align: middle;\n",
       "    }\n",
       "\n",
       "    .dataframe tbody tr th {\n",
       "        vertical-align: top;\n",
       "    }\n",
       "\n",
       "    .dataframe thead th {\n",
       "        text-align: right;\n",
       "    }\n",
       "</style>\n",
       "<table border=\"1\" class=\"dataframe\">\n",
       "  <thead>\n",
       "    <tr style=\"text-align: right;\">\n",
       "      <th></th>\n",
       "      <th>User_ID</th>\n",
       "      <th>Content_Type</th>\n",
       "      <th>Content_ID</th>\n",
       "      <th>Attitude</th>\n",
       "      <th>Activity</th>\n",
       "      <th>Distance_to_this_preference</th>\n",
       "    </tr>\n",
       "  </thead>\n",
       "  <tbody>\n",
       "    <tr>\n",
       "      <th>320</th>\n",
       "      <td>0</td>\n",
       "      <td>images</td>\n",
       "      <td>0</td>\n",
       "      <td>likes</td>\n",
       "      <td>sports</td>\n",
       "      <td>0.479498</td>\n",
       "    </tr>\n",
       "    <tr>\n",
       "      <th>321</th>\n",
       "      <td>0</td>\n",
       "      <td>images</td>\n",
       "      <td>0</td>\n",
       "      <td>likes</td>\n",
       "      <td>outdoors</td>\n",
       "      <td>0.508695</td>\n",
       "    </tr>\n",
       "    <tr>\n",
       "      <th>322</th>\n",
       "      <td>0</td>\n",
       "      <td>images</td>\n",
       "      <td>0</td>\n",
       "      <td>likes</td>\n",
       "      <td>learning</td>\n",
       "      <td>0.481672</td>\n",
       "    </tr>\n",
       "    <tr>\n",
       "      <th>323</th>\n",
       "      <td>0</td>\n",
       "      <td>images</td>\n",
       "      <td>0</td>\n",
       "      <td>likes</td>\n",
       "      <td>exercise</td>\n",
       "      <td>0.539645</td>\n",
       "    </tr>\n",
       "    <tr>\n",
       "      <th>324</th>\n",
       "      <td>0</td>\n",
       "      <td>images</td>\n",
       "      <td>0</td>\n",
       "      <td>dislikes</td>\n",
       "      <td>homemaking</td>\n",
       "      <td>0.534335</td>\n",
       "    </tr>\n",
       "    <tr>\n",
       "      <th>...</th>\n",
       "      <td>...</td>\n",
       "      <td>...</td>\n",
       "      <td>...</td>\n",
       "      <td>...</td>\n",
       "      <td>...</td>\n",
       "      <td>...</td>\n",
       "    </tr>\n",
       "    <tr>\n",
       "      <th>587</th>\n",
       "      <td>0</td>\n",
       "      <td>images</td>\n",
       "      <td>33</td>\n",
       "      <td>likes</td>\n",
       "      <td>exercise</td>\n",
       "      <td>0.437529</td>\n",
       "    </tr>\n",
       "    <tr>\n",
       "      <th>588</th>\n",
       "      <td>0</td>\n",
       "      <td>images</td>\n",
       "      <td>33</td>\n",
       "      <td>dislikes</td>\n",
       "      <td>homemaking</td>\n",
       "      <td>0.208709</td>\n",
       "    </tr>\n",
       "    <tr>\n",
       "      <th>589</th>\n",
       "      <td>0</td>\n",
       "      <td>images</td>\n",
       "      <td>33</td>\n",
       "      <td>dislikes</td>\n",
       "      <td>design</td>\n",
       "      <td>0.448663</td>\n",
       "    </tr>\n",
       "    <tr>\n",
       "      <th>590</th>\n",
       "      <td>0</td>\n",
       "      <td>images</td>\n",
       "      <td>33</td>\n",
       "      <td>dislikes</td>\n",
       "      <td>relaxing</td>\n",
       "      <td>0.444715</td>\n",
       "    </tr>\n",
       "    <tr>\n",
       "      <th>591</th>\n",
       "      <td>0</td>\n",
       "      <td>images</td>\n",
       "      <td>33</td>\n",
       "      <td>dislikes</td>\n",
       "      <td>arts and crafts</td>\n",
       "      <td>0.455240</td>\n",
       "    </tr>\n",
       "  </tbody>\n",
       "</table>\n",
       "<p>272 rows × 6 columns</p>\n",
       "</div>"
      ],
      "text/plain": [
       "     User_ID Content_Type  Content_ID  Attitude         Activity  \\\n",
       "320        0       images           0     likes           sports   \n",
       "321        0       images           0     likes         outdoors   \n",
       "322        0       images           0     likes         learning   \n",
       "323        0       images           0     likes         exercise   \n",
       "324        0       images           0  dislikes       homemaking   \n",
       "..       ...          ...         ...       ...              ...   \n",
       "587        0       images          33     likes         exercise   \n",
       "588        0       images          33  dislikes       homemaking   \n",
       "589        0       images          33  dislikes           design   \n",
       "590        0       images          33  dislikes         relaxing   \n",
       "591        0       images          33  dislikes  arts and crafts   \n",
       "\n",
       "     Distance_to_this_preference  \n",
       "320                     0.479498  \n",
       "321                     0.508695  \n",
       "322                     0.481672  \n",
       "323                     0.539645  \n",
       "324                     0.534335  \n",
       "..                           ...  \n",
       "587                     0.437529  \n",
       "588                     0.208709  \n",
       "589                     0.448663  \n",
       "590                     0.444715  \n",
       "591                     0.455240  \n",
       "\n",
       "[272 rows x 6 columns]"
      ]
     },
     "metadata": {},
     "output_type": "display_data"
    }
   ],
   "source": [
    "for name, group in preference_distances_df.groupby(['User_ID', 'Content_Type']):\n",
    "    pref_dist = group.Distance_to_this_preference\n",
    "    min_ = pref_dist.min()\n",
    "    max_ = pref_dist.max()\n",
    "    pref_dist = (pref_dist - min_) / (max_ - min_)\n",
    "    group.Distance_to_this_preference = pref_dist\n",
    "    display(group)\n",
    "    break"
   ]
  },
  {
   "cell_type": "code",
   "execution_count": 66,
   "metadata": {},
   "outputs": [],
   "source": [
    "def get_message_image_distances():\n",
    "    message_image_distances_dict = {}\n",
    "    for message_row in content_dfs['messages'].iterrows():\n",
    "        message_id = message_row[1]['Content_ID']\n",
    "        message_norm_dev = message_row[1].Norm_Dev\n",
    "        message_image_distances_dict[message_id] = {}\n",
    "        for image_row in content_dfs['images'].iterrows():\n",
    "            image_norm_dev = image_row[1].Norm_Dev\n",
    "            image_id = image_row[1]['Content_ID']\n",
    "            dist = get_distance(message_norm_dev, image_norm_dev)\n",
    "            message_image_distances_dict[message_id][image_id] = dist\n",
    "    return message_image_distances_dict"
   ]
  },
  {
   "cell_type": "code",
   "execution_count": 67,
   "metadata": {},
   "outputs": [
    {
     "data": {
      "text/plain": [
       "<matplotlib.image.AxesImage at 0x18926bc66d0>"
      ]
     },
     "execution_count": 67,
     "metadata": {},
     "output_type": "execute_result"
    },
    {
     "data": {
      "image/png": "[encoded data removed]",
      "text/plain": [
       "<Figure size 640x480 with 1 Axes>"
      ]
     },
     "metadata": {},
     "output_type": "display_data"
    }
   ],
   "source": [
    "message_image_distances_dict = get_message_image_distances()\n",
    "plt.imshow(pd.DataFrame(message_image_distances_dict))"
   ]
  },
  {
   "cell_type": "code",
   "execution_count": 67,
   "metadata": {},
   "outputs": [
    {
     "ename": "KeyError",
     "evalue": "'Preference_Distance'",
     "output_type": "error",
     "traceback": [
      "\u001b[1;31m---------------------------------------------------------------------------\u001b[0m",
      "\u001b[1;31mKeyError\u001b[0m                                  Traceback (most recent call last)",
      "Cell \u001b[1;32mIn[67], line 4\u001b[0m\n\u001b[0;32m      2\u001b[0m \u001b[39mfor\u001b[39;00m user_id, data \u001b[39min\u001b[39;00m preference_distances_by_user\u001b[39m.\u001b[39mitems():\n\u001b[0;32m      3\u001b[0m     triangular_distances_by_user[user_id] \u001b[39m=\u001b[39m {}\n\u001b[1;32m----> 4\u001b[0m     message_pref_dict \u001b[39m=\u001b[39m {m_id: m_data[\u001b[39m'\u001b[39;49m\u001b[39mPreference_Distance\u001b[39;49m\u001b[39m'\u001b[39;49m] \u001b[39mfor\u001b[39;49;00m m_id, m_data \u001b[39min\u001b[39;49;00m data[\u001b[39m'\u001b[39;49m\u001b[39mmessages\u001b[39;49m\u001b[39m'\u001b[39;49m]\u001b[39m.\u001b[39;49mitems()}\n\u001b[0;32m      5\u001b[0m     image_pref_dict \u001b[39m=\u001b[39m {i_id: i_data[\u001b[39m'\u001b[39m\u001b[39mPreference_Distance\u001b[39m\u001b[39m'\u001b[39m] \u001b[39mfor\u001b[39;00m i_id, i_data \u001b[39min\u001b[39;00m data[\u001b[39m'\u001b[39m\u001b[39mimages\u001b[39m\u001b[39m'\u001b[39m]\u001b[39m.\u001b[39mitems()}\n\u001b[0;32m      6\u001b[0m     \u001b[39mbreak\u001b[39;00m\n",
      "Cell \u001b[1;32mIn[67], line 4\u001b[0m, in \u001b[0;36m<dictcomp>\u001b[1;34m(.0)\u001b[0m\n\u001b[0;32m      2\u001b[0m \u001b[39mfor\u001b[39;00m user_id, data \u001b[39min\u001b[39;00m preference_distances_by_user\u001b[39m.\u001b[39mitems():\n\u001b[0;32m      3\u001b[0m     triangular_distances_by_user[user_id] \u001b[39m=\u001b[39m {}\n\u001b[1;32m----> 4\u001b[0m     message_pref_dict \u001b[39m=\u001b[39m {m_id: m_data[\u001b[39m'\u001b[39;49m\u001b[39mPreference_Distance\u001b[39;49m\u001b[39m'\u001b[39;49m] \u001b[39mfor\u001b[39;00m m_id, m_data \u001b[39min\u001b[39;00m data[\u001b[39m'\u001b[39m\u001b[39mmessages\u001b[39m\u001b[39m'\u001b[39m]\u001b[39m.\u001b[39mitems()}\n\u001b[0;32m      5\u001b[0m     image_pref_dict \u001b[39m=\u001b[39m {i_id: i_data[\u001b[39m'\u001b[39m\u001b[39mPreference_Distance\u001b[39m\u001b[39m'\u001b[39m] \u001b[39mfor\u001b[39;00m i_id, i_data \u001b[39min\u001b[39;00m data[\u001b[39m'\u001b[39m\u001b[39mimages\u001b[39m\u001b[39m'\u001b[39m]\u001b[39m.\u001b[39mitems()}\n\u001b[0;32m      6\u001b[0m     \u001b[39mbreak\u001b[39;00m\n",
      "\u001b[1;31mKeyError\u001b[0m: 'Preference_Distance'"
     ]
    }
   ],
   "source": [
    "triangular_distances_by_user = {}\n",
    "for user_id, data in preference_distances_by_user.items():\n",
    "    triangular_distances_by_user[user_id] = {}\n",
    "    message_pref_dict = {m_id: m_data['Preference_Distance'] for m_id, m_data in data['messages'].items()}\n",
    "    image_pref_dict = {i_id: i_data['Preference_Distance'] for i_id, i_data in data['images'].items()}\n",
    "    break\n"
   ]
  },
  {
   "cell_type": "code",
   "execution_count": 87,
   "metadata": {},
   "outputs": [
    {
     "ename": "NameError",
     "evalue": "name 'message_pref_dict' is not defined",
     "output_type": "error",
     "traceback": [
      "\u001b[1;31m---------------------------------------------------------------------------\u001b[0m",
      "\u001b[1;31mNameError\u001b[0m                                 Traceback (most recent call last)",
      "Cell \u001b[1;32mIn[87], line 1\u001b[0m\n\u001b[1;32m----> 1\u001b[0m \u001b[39mmin\u001b[39m(message_pref_dict\u001b[39m.\u001b[39mvalues())\n",
      "\u001b[1;31mNameError\u001b[0m: name 'message_pref_dict' is not defined"
     ]
    }
   ],
   "source": [
    "min(message_pref_dict.values())"
   ]
  },
  {
   "attachments": {},
   "cell_type": "markdown",
   "metadata": {},
   "source": [
    "# ________________"
   ]
  }
 ],
 "metadata": {
  "colab": {
   "provenance": []
  },
  "kernelspec": {
   "display_name": "Python 3",
   "language": "python",
   "name": "python3"
  },
  "language_info": {
   "codemirror_mode": {
    "name": "ipython",
    "version": 3
   },
   "file_extension": ".py",
   "mimetype": "text/x-python",
   "name": "python",
   "nbconvert_exporter": "python",
   "pygments_lexer": "ipython3",
   "version": "3.11.1"
  },
  "notebookId": "c7e17411-8c27-43ef-82af-b7dbba7f41e3",
  "notebookPath": "wain23_ans.ipynb",
  "vscode": {
   "interpreter": {
    "hash": "52afb8ebcac5aa8032177177fdc4e98c9d7316bff28e5396e7ea1b3acb0cd9a6"
   }
  }
 },
 "nbformat": 4,
 "nbformat_minor": 4
}
