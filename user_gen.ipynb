{
 "cells": [
  {
   "cell_type": "markdown",
   "id": "c2eb480d",
   "metadata": {},
   "source": [
    "## User generation"
   ]
  },
  {
   "cell_type": "code",
   "execution_count": 1,
   "id": "31fff855",
   "metadata": {},
   "outputs": [],
   "source": [
    "import os\n",
    "import pandas as pd\n",
    "import openai\n",
    "\n",
    "openai.api_key = os.environ['OPENAI_API_KEY']"
   ]
  },
  {
   "cell_type": "code",
   "execution_count": 3,
   "id": "01a38c4b",
   "metadata": {},
   "outputs": [],
   "source": [
    "def get_response(usercontent):\n",
    "    result = openai.ChatCompletion.create(\n",
    "        messages=[\n",
    "            {'role': 'user', 'content': usercontent},\n",
    "        ],\n",
    "        model='gpt-4-0613',\n",
    "        max_tokens=2048,\n",
    "        temperature=0.7)\n",
    "    response = result.choices[0].message.content\n",
    "    return response"
   ]
  },
  {
   "cell_type": "code",
   "execution_count": 10,
   "id": "2fa72e03",
   "metadata": {},
   "outputs": [
    {
     "name": "stdout",
     "output_type": "stream",
     "text": [
      "Gender,Age,Race,Likes,Dislikes\n",
      "Male,Young,White,Reading;Guitar;Biking,Knitting;Coloring Books;Solitaire\n",
      "Female,Adult,Asian,Gardening;Baking;Meditating,Weightlifting;Walking;Biking\n",
      "Male,Senior,Black,Reading;Gardening;Knitting,Watercolor Painting;Jigsaw Puzzles;Crosswords\n",
      "Female,Young,Hispanic,Baking;Guitar;Meditating,Knitting;Coloring Books;Solitaire\n",
      "Male,Adult,White,Reading;Gardening;Baking,Weightlifting;Walking;Biking\n",
      "Female,Senior,Asian,Guitar;Meditating;Knitting,Watercolor Painting;Jigsaw Puzzles;Crosswords\n",
      "Male,Young,Black,Reading;Baking;Guitar,Knitting;Coloring Books;Solitaire\n",
      "Female,Adult,Hispanic,Gardening;Meditating;Knitting,Weightlifting;Walking;Biking\n",
      "Male,Senior,White,Reading;Gardening;Baking,Watercolor Painting;Jigsaw Puzzles;Crosswords\n",
      "Female,Young,Asian,Guitar;Meditating;Knitting,Knitting;Coloring Books;Solitaire\n",
      "Male,Adult,Black,Reading;Gardening;Baking,Weightlifting;Walking;Biking\n",
      "Female,Senior,Hispanic,Guitar;Meditating;Knitting,Watercolor Painting;Jigsaw Puzzles;Crosswords\n",
      "Male,Young,White,Reading;Baking;Guitar,Knitting;Coloring Books;Solitaire\n",
      "Female,Adult,Asian,Gardening;Meditating;Knitting,Weightlifting;Walking;Biking\n",
      "Male,Senior,Black,Reading;Gardening;Baking,Watercolor Painting;Jigsaw Puzzles;Crosswords\n",
      "Female,Young,Hispanic,Guitar;Meditating;Knitting,Knitting;Coloring Books;Solitaire\n",
      "Male,Adult,White,Reading;Gardening;Baking,Weightlifting;Walking;Biking\n",
      "Female,Senior,Asian,Guitar;Meditating;Knitting,Watercolor Painting;Jigsaw Puzzles;Crosswords\n",
      "Male,Young,Black,Reading;Baking;Guitar,Knitting;Coloring Books;Solitaire\n",
      "Female,Adult,Hispanic,Gardening;Meditating;Knitting,Weightlifting;Walking;Biking\n"
     ]
    }
   ],
   "source": [
    "usercontent = '''You are a tasked with generating a dataset of 20 people, formatted as a CSV.\n",
    "Each person must have a gender, age, race, likes, and dislikes.\n",
    "There are three age categories: young, adult, and senior.\n",
    "There are fourteen activities that can be either likes or dislikes: reading, gardening, baking, \\\n",
    "guitar, meditating, knitting, coloring books, watercolor painting, jigsaw puzzles, crosswords,\n",
    "solitaire, weightlifting, walking, and biking.\n",
    "The number of likes and dislikes should vary per person.\n",
    "Likes and dislikes should be separated by semicolons.\n",
    "Ensure that the likes and dislikes chosen for each person make sense as a whole.\n",
    "\n",
    "Task: Generate a dataset of 20 new people with gender, age, race, likes, and dislikes. Format the dataset as a CSV.'''\n",
    "\n",
    "response = get_response(usercontent)\n",
    "print(response)"
   ]
  },
  {
   "cell_type": "code",
   "execution_count": 50,
   "id": "4fa0ccca",
   "metadata": {},
   "outputs": [
    {
     "name": "stdout",
     "output_type": "stream",
     "text": [
      "Gender,Age,Race,Likes,Dislikes\n",
      "Male,Young,Caucasian,Physical;Sports;Active,Indoors;Sedentary\n",
      "Female,Adult,African American,Music;Crafts,Outdoors;Games\n",
      "Male,Senior,Asian,Cerebral;Creative;Crafts;Active,Physical;Sports\n",
      "Female,Young,Hispanic,Games;Music,Indoors;Sedentary\n",
      "Male,Adult,Caucasian,Outdoors;Sports,Indoors;Sedentary\n",
      "Female,Senior,African American,Physical;Outdoors;Active,Games;Sedentary\n",
      "Male,Young,Asian,Music;Crafts,Indoors;Sedentary\n",
      "Female,Adult,Caucasian,Cerebral;Creative;Crafts;Active,Physical;Sports\n",
      "Male,Senior,Hispanic,Outdoors;Sports,Indoors;Sedentary\n",
      "Female,Young,African American,Physical;Sports;Active,Indoors;Sedentary\n",
      "Male,Adult,Asian,Music,Outdoors;Sedentary\n",
      "Female,Senior,Caucasian,Physical;Outdoors;Active,Games;Sedentary\n",
      "Male,Young,Hispanic,Games;Music,Indoors;Sedentary\n",
      "Female,Adult,African American,Outdoors;Sports,Indoors;Sedentary\n",
      "Male,Senior,Caucasian,Cerebral;Creative;Crafts;Active,Physical;Sports\n",
      "Female,Young,Asian,Games;Crafts,Indoors;Sedentary\n",
      "Male,Adult,Hispanic,Music;Outdoors,Indoors;Sedentary\n",
      "Female,Senior,African American,Physical;Outdoors;Active,Games;Sedentary\n",
      "Male,Young,Caucasian,Physical;Sports;Active,Indoors;Sedentary\n",
      "Female,Adult,Asian,Cerebral;Creative;Crafts;Active,Physical;Sports\n"
     ]
    }
   ],
   "source": [
    "usercontent = '''You are a tasked with generating a dataset of 20 people, formatted as a CSV.\n",
    "Each person must have a gender, age, race, likes, and dislikes.\n",
    "There are three age categories: young, adult, and senior.\n",
    "There are twelve categories of activities that can be either liked or disliked: physical, cerebral, \\\n",
    "creative, domestic, outdoors, indoors, sports, games, music, crafts, active, and sedentary.\n",
    "Likes and dislikes should be separated by semicolons.\n",
    "The number of likes and dislikes should vary in number.\n",
    "No two people should have the same exact likes and dislikes.\n",
    "Ensure that the likes and dislikes chosen for each person make sense as a whole.\n",
    "\n",
    "Task: Generate a dataset of 20 new people with gender, age, race, likes, and dislikes. Format the dataset as a CSV.'''\n",
    "\n",
    "response = get_response(usercontent)\n",
    "print(response)"
   ]
  },
  {
   "cell_type": "code",
   "execution_count": 61,
   "id": "e33e9f9c",
   "metadata": {},
   "outputs": [
    {
     "name": "stdout",
     "output_type": "stream",
     "text": [
      "gender,age,race,likes,dislikes\n",
      "Male,Young,White,Physical;Sports;Outdoors;Music;Active;Crafts;Learning;Design;Cerebral,Domestic;Indoors;Games;Sedentary\n",
      "Female,Adult,Asian,Cerebral;Creative;Domestic;Indoors;Learning;Design,Physical;Sports;Outdoors;Crafts;Active;Music;Games;Sedentary\n",
      "Male,Senior,Black,Physical;Sports;Outdoors;Music;Active;Crafts;Learning;Design;Cerebral;Creative,Domestic;Indoors;Games;Sedentary\n",
      "Female,Young,Hispanic,Physical;Sports;Outdoors;Music;Active,Cerebral;Creative;Domestic;Indoors;Games;Sedentary;Crafts;Learning;Design\n",
      "Male,Adult,White,Cerebral;Creative;Domestic;Indoors;Learning;Design,Physical;Sports;Outdoors;Crafts;Active;Music;Games;Sedentary\n",
      "Female,Senior,Asian,Physical;Sports;Outdoors;Music;Active;Crafts;Learning;Design;Cerebral,Creative;Domestic;Indoors;Games;Sedentary\n",
      "Male,Young,Black,Cerebral;Creative;Domestic;Indoors;Learning;Design,Physical;Sports;Outdoors;Crafts;Active;Music;Games;Sedentary\n",
      "Female,Adult,Hispanic,Physical;Sports;Outdoors;Music;Active,Cerebral;Creative;Domestic;Indoors;Games;Sedentary;Crafts;Learning;Design\n",
      "Male,Senior,White,Physical;Sports;Outdoors;Music;Active;Crafts;Learning;Design;Cerebral;Creative,Domestic;Indoors;Games;Sedentary\n",
      "Female,Young,Asian,Physical;Sports;Outdoors;Music;Active,Cerebral;Creative;Domestic;Indoors;Games;Sedentary;Crafts;Learning;Design\n",
      "Male,Adult,Black,Cerebral;Creative;Domestic;Indoors;Learning;Design,Physical;Sports;Outdoors;Crafts;Active;Music;Games;Sedentary\n",
      "Female,Senior,Hispanic,Physical;Sports;Outdoors;Music;Active;Crafts;Learning;Design;Cerebral,Creative;Domestic;Indoors;Games;Sedentary\n",
      "Male,Young,White,Cerebral;Creative;Domestic;Indoors;Learning;Design,Physical;Sports;Outdoors;Crafts;Active;Music;Games;Sedentary\n",
      "Female,Adult,Asian,Physical;Sports;Outdoors;Music;Active,Cerebral;Creative;Domestic;Indoors;Games;Sedentary;Crafts;Learning;Design\n",
      "Male,Senior,Black,Physical;Sports;Outdoors;Music;Active;Crafts;Learning;Design;Cerebral;Creative,Domestic;Indoors;Games;Sedentary\n",
      "Female,Young,Hispanic,Physical;Sports;Outdoors;Music;Active,Cerebral;Creative;Domestic;Indoors;Games;Sedentary;Crafts;Learning;Design\n",
      "Male,Adult,White,Cerebral;Creative;Domestic;Indoors;Learning;Design,Physical;Sports;Outdoors;Crafts;Active;Music;Games;Sedentary\n",
      "Female,Senior,Asian,Physical;Sports;Outdoors;Music;Active;Crafts;Learning;Design;Cerebral,Creative;Domestic;Indoors;Games;Sedentary\n",
      "Male,Young,Black,Cerebral;Creative;Domestic;Indoors;Learning;Design,Physical;Sports;Outdoors;Crafts;Active;Music;Games;Sedentary\n",
      "Female,Adult,Hispanic,Physical;Sports;Outdoors;Music;Active,Cerebral;Creative;Domestic;Indoors;Games;Sedentary;Crafts;Learning;Design\n"
     ]
    }
   ],
   "source": [
    "usercontent = '''You are a tasked with generating a dataset of 20 people, formatted as a CSV.\n",
    "Each person must have a gender, age, race, likes, and dislikes.\n",
    "There are three age categories: young, adult, and senior.\n",
    "There are fourteen categories of activities that can be either liked or disliked: physical, cerebral, \\\n",
    "creative, domestic, outdoors, indoors, sports, games, music, crafts, learning, design, active, and sedentary.\n",
    "Likes and dislikes should be separated by semicolons.\n",
    "The number of likes and dislikes should vary in number.\n",
    "No two people should have the same exact likes and dislikes.\n",
    "Ensure that the likes and dislikes chosen for each person make sense as a whole.\n",
    "\n",
    "Task: Generate a dataset of 20 new people with gender, age, race, likes, and dislikes. Format the dataset as a CSV.'''\n",
    "\n",
    "response = get_response(usercontent)\n",
    "print(response)"
   ]
  },
  {
   "cell_type": "code",
   "execution_count": 62,
   "id": "1b8e3ae9",
   "metadata": {},
   "outputs": [
    {
     "name": "stdout",
     "output_type": "stream",
     "text": [
      "Gender,Age,Race,Likes,Dislikes\n",
      "Male,Young,Asian,physical;cerebral;outdoors;crafts,sedentary;indoors;games\n",
      "Female,Adult,Caucasian,creative;indoors;sports;music,physical;outdoors;sedentary\n",
      "Male,Senior,African American,physical;games;music;crafts,indoors;cerebral;domestic\n",
      "Female,Young,Hispanic,outdoors;sports;games;active,indoors;cerebral;crafts\n",
      "Male,Adult,Caucasian,physical;outdoors;active;sedentary,indoors;cerebral;crafts\n",
      "Female,Senior,Asian,creative;indoors;music;games,physical;cerebral;outdoors;sedentary\n",
      "Male,Young,African American,physical;outdoors;sports;music,indoors;cerebral;crafts\n",
      "Female,Adult,Hispanic,cerebral;indoors;games;crafts,physical;outdoors;sedentary\n",
      "Male,Senior,Caucasian,physical;outdoors;sports;active,indoors;cerebral;crafts\n",
      "Female,Young,Asian,creative;indoors;music;games,physical;cerebral;outdoors;sedentary\n",
      "Male,Adult,African American,physical;outdoors;games;crafts,indoors;cerebral;sedentary\n",
      "Female,Senior,Hispanic,cerebral;indoors;music;crafts,physical;outdoors;sedentary\n",
      "Male,Young,Caucasian,physical;outdoors;sports;active,indoors;cerebral;crafts\n",
      "Female,Adult,Asian,creative;indoors;music;games,physical;cerebral;outdoors;sedentary\n",
      "Male,Senior,African American,physical;outdoors;sports;crafts,indoors;cerebral;sedentary\n",
      "Female,Young,Hispanic,outdoors;sports;games;active,indoors;cerebral;crafts\n",
      "Male,Adult,Caucasian,physical;outdoors;active;sedentary,indoors;cerebral;crafts\n",
      "Female,Senior,Asian,creative;indoors;music;games,physical;cerebral;outdoors;sedentary\n",
      "Male,Young,African American,physical;outdoors;sports;music,indoors;cerebral;crafts;domestic\n",
      "Female,Adult,Hispanic,cerebral;indoors;games;crafts,physical;outdoors;sedentary\n"
     ]
    }
   ],
   "source": [
    "# gpt-3.5-turbo-0613 / temp 0.7\n",
    "\n",
    "usercontent = '''You are a tasked with generating a dataset of 20 people, formatted as a CSV.\n",
    "Each person must have a gender, age, race, likes, and dislikes.\n",
    "There are three age categories: young, adult, and senior.\n",
    "There are twelve categories of activities that can be either liked or disliked: physical, cerebral, \\\n",
    "creative, domestic, outdoors, indoors, sports, games, music, crafts, active, and sedentary.\n",
    "Likes and dislikes should be separated by semicolons.\n",
    "The number of likes and dislikes should vary in number.\n",
    "No two people should have the same exact likes and dislikes.\n",
    "\n",
    "Task: Generate a dataset of 20 new people with gender, age, race, likes, and dislikes. Format the dataset as a CSV.'''\n",
    "\n",
    "response = get_response(usercontent)\n",
    "print(response)"
   ]
  },
  {
   "cell_type": "code",
   "execution_count": 4,
   "id": "7f4cfe39",
   "metadata": {
    "scrolled": false
   },
   "outputs": [
    {
     "name": "stdout",
     "output_type": "stream",
     "text": [
      "Gender,Age,Race,Likes,Dislikes\n",
      "Male,Young,White,Physical;Creative;Outdoors;Music,Sports;Games;Sedentary\n",
      "Female,Senior,Asian,Domestic;Indoors;Crafts,Cerebral;Active;Sports\n",
      "Male,Adult,African American,Active;Sports;Music,Indoors;Domestic;Crafts\n",
      "Female,Young,Hispanic,Games;Cerebral;Sedentary,Physical;Outdoors;Music\n",
      "Male,Senior,White,Creative;Outdoors;Crafts,Domestic;Active;Sports\n",
      "Female,Adult,African American,Physical;Sports;Music,Games;Indoors;Sedentary\n",
      "Male,Young,Hispanic,Indoors;Domestic;Cerebral,Outdoors;Creative;Active\n",
      "Female,Senior,African American,Active;Music;Crafts,Cerebral;Sports;Indoors\n",
      "Male,Adult,White,Outdoors;Games;Sedentary,Physical;Domestic;Music\n",
      "Female,Young,Asian,Domestic;Sports;Music,Cerebral;Outdoors;Active\n",
      "Male,Senior,Hispanic,Creative;Indoors;Active,Physical;Games;Crafts\n",
      "Female,Adult,White,Physical;Outdoors;Cerebral,Sports;Domestic;Sedentary\n",
      "Male,Young,African American,Games;Music;Crafts,Indoors;Active;Outdoors\n",
      "Female,Senior,White,Indoors;Sports;Active,Cerebral;Creative;Music\n",
      "Male,Adult,Asian,Outdoors;Domestic;Music,Physical;Games;Crafts\n",
      "Female,Young,Hispanic,Active;Games;Cerebral,Sports;Indoors;Outdoors\n",
      "Male,Senior,African American,Sports;Creative;Sedentary,Physical;Domestic;Music\n",
      "Female,Adult,Asian,Indoors;Outdoors;Music,Games;Active;Sports\n",
      "Male,Young,White,Domestic;Games;Crafts,Cerebral;Sports;Indoors\n",
      "Female,Senior,Hispanic,Physical;Creative;Sports,Outdoors;Indoors;Sedentary\n"
     ]
    }
   ],
   "source": [
    "# gpt-4-0613 / temp 0.7\n",
    "\n",
    "usercontent = '''You are a tasked with generating a dataset of 20 people, formatted as a CSV.\n",
    "Each person must have a gender, age, race, likes, and dislikes.\n",
    "There are three age categories: young, adult, and senior.\n",
    "There are twelve categories of activities that can be either liked or disliked: physical, cerebral, \\\n",
    "creative, domestic, outdoors, indoors, sports, games, music, crafts, active, and sedentary.\n",
    "Likes and dislikes should be separated by semicolons.\n",
    "The number of likes and dislikes should vary in number.\n",
    "No two people should have the same exact likes and dislikes.\n",
    "\n",
    "Task: Generate a dataset of 20 new people with gender, age, race, likes, and dislikes. Format the dataset as a CSV.'''\n",
    "\n",
    "response = get_response(usercontent)\n",
    "print(response)"
   ]
  },
  {
   "cell_type": "code",
   "execution_count": 7,
   "id": "7a5fde5e",
   "metadata": {},
   "outputs": [
    {
     "name": "stdout",
     "output_type": "stream",
     "text": [
      "Gender,Age,Race,Likes,Dislikes\n",
      "Male,40,White,physical; outdoors; sports; active,games; music; crafts; sedentary\n",
      "Female,55,Asian,cerebral; creative; domestic; indoors,sports; outdoor; active; physical\n",
      "Male,30,Black,sports; games; music; active,cerebral; creative; domestic; sedentary\n",
      "Female,45,Hispanic,domestic; indoors; crafts; sedentary,physical; outdoors; sports; active\n",
      "Male,50,White,creative; domestic; indoors; active,cerebral; physical; sports; games\n",
      "Female,35,Asian,outdoors; sports; games; sedentary,creative; domestic; indoors; active\n",
      "Male,60,Black,cerebral; physical; creative; active,domestic; outdoors; games; sedentary\n",
      "Female,70,Hispanic,indoors; sports; music; sedentary,cerebral; physical; creative; outdoors\n",
      "Male,65,White,domestic; outdoors; crafts; active,indoors; sports; games; cerebral\n",
      "Female,28,Asian,physical; indoors; sports; active,domestic; outdoors; music; cerebral\n",
      "Male,38,Black,creative; sports; games; sedentary,physical; indoors; crafts; active\n",
      "Female,47,Hispanic,outdoors; music; crafts; active,creative; sports; games; sedentary\n",
      "Male,33,White,domestic; games; music; sedentary,outdoors; cerebral; crafts; active\n",
      "Female,52,Asian,physical; creative; outdoors; active,domestic; games; music; sedentary\n",
      "Male,45,Black,sports; domestic; indoors; active,physical; creative; outdoors; games\n",
      "Female,67,Hispanic,indoors; cerebral; crafts; sedentary,sports; domestic; music; active\n",
      "Male,57,White,physical; sports; games; active,indoors; cerebral; crafts; sedentary\n",
      "Female,39,Asian,creative; outdoors; music; sedentary,physical; sports; games; domestic\n",
      "Male,26,Black,domestic; cerebral; indoors; active,creative; outdoors; music; sports\n",
      "Female,32,Hispanic,sports; outdoors; crafts; sedentary,domestic; cerebral; indoors; active\n"
     ]
    }
   ],
   "source": [
    "# gpt-4-0613 / temp 0.7\n",
    "\n",
    "usercontent = '''You are a tasked with generating a dataset of 20 people, formatted as a CSV.\n",
    "Each person must have a gender, age, race, likes, and dislikes.\n",
    "Ages must be a number between 25-70.\n",
    "There are twelve categories of activities that can be either liked or disliked: physical, cerebral, \\\n",
    "creative, domestic, outdoors, indoors, sports, games, music, crafts, active, and sedentary.\n",
    "Likes and dislikes should be separated by semicolons.\n",
    "The number of likes and dislikes should vary in number.\n",
    "\n",
    "Task: Generate a dataset of 20 new people with gender, age, race, likes, and dislikes. Format the dataset as a CSV.'''\n",
    "\n",
    "response = get_response(usercontent)\n",
    "print(response)"
   ]
  },
  {
   "cell_type": "code",
   "execution_count": 13,
   "id": "9c20a2d7",
   "metadata": {},
   "outputs": [
    {
     "name": "stdout",
     "output_type": "stream",
     "text": [
      "Gender,Age,Race,Likes,Dislikes\n",
      "Male,45,White,physical;outdoors;sports,creative;domestic;games\n",
      "Female,31,Asian,creative;indoors;music,physical;sports;active\n",
      "Male,67,African American,sedentary;games;music,creative;outdoors;sports\n",
      "Female,25,Hispanic,creative;outdoors;crafts,physical;sedentary;music\n",
      "Male,56,White,music;outdoors;active,domestic;games;sedentary\n",
      "Female,28,African American,creative;domestic;crafts,physical;outdoors;active\n",
      "Female,34,Asian,physical;games;music,sedentary;creative;domestic\n",
      "Male,52,Hispanic,outdoors;active;games,creative;domestic;music\n",
      "Male,41,White,creative;indoors;crafts,physical;sports;active\n",
      "Female,29,African American,physical;domestic;music,sedentary;creative;games\n",
      "Female,37,Hispanic,music;outdoors;active,domestic;games;sedentary\n",
      "Male,59,Asian,creative;indoors;crafts,physical;sports;active\n",
      "Female,33,White,physical;domestic;music,sedentary;creative;games\n",
      "Male,64,African American,music;outdoors;active,domestic;games;sedentary\n",
      "Female,27,Hispanic,creative;indoors;crafts,physical;sports;active\n",
      "Male,53,Asian,physical;domestic;music,sedentary;creative;games\n",
      "Female,38,White,music;outdoors;active,domestic;games;sedentary\n",
      "Male,62,African American,creative;indoors;crafts,physical;sports;active\n",
      "Female,30,Hispanic,physical;domestic;music,sedentary;creative;games\n",
      "Male,50,Asian,music;outdoors;active,domestic;games;sedentary\n"
     ]
    }
   ],
   "source": [
    "# gpt-4-0613 / temp 0.7\n",
    "\n",
    "usercontent = '''You are a tasked with generating a dataset of 20 people, formatted as a CSV.\n",
    "Each person must have a gender, age, race, likes, and dislikes.\n",
    "Ages must be a number between 21-70.\n",
    "There are twelve categories of activities that can be either liked or disliked: physical, cerebral, \\\n",
    "creative, domestic, outdoors, indoors, sports, games, music, crafts, active, and sedentary.\n",
    "Likes and dislikes should be separated by semicolons.\n",
    "The number of likes and dislikes should vary between 1-6.\n",
    "\n",
    "Task: Generate a dataset of 20 diverse people with different gender, age, race, likes, and dislikes. \\\n",
    "Format the dataset as a CSV.'''\n",
    "\n",
    "response = get_response(usercontent)\n",
    "print(response)"
   ]
  },
  {
   "cell_type": "code",
   "execution_count": 22,
   "id": "ef6fe5e2",
   "metadata": {},
   "outputs": [
    {
     "name": "stdout",
     "output_type": "stream",
     "text": [
      "Gender,Age,Race,Likes,Dislikes\n",
      "Male,35,White,physical;outdoors;music;active,sports;games;domestic\n",
      "Female,26,Asian,creative;indoors;crafts;music,sports;outdoors;active\n",
      "Male,70,White,sedentary;cerebral;indoors,physical;active;outdoors\n",
      "Female,21,Hispanic,sports;active;music,cerebral;crafts;indoors\n",
      "Male,45,African American,domestic;indoors;sports;games,physical;music;outdoors\n",
      "Female,30,Asian,creative;crafts;music;outdoors,physical;games;indoors\n",
      "Male,55,Hispanic,physical;sports;outdoors;active,domestic;sedentary;indoors\n",
      "Female,66,White,cerebral;indoors;music;crafts,physical;sports;outdoors\n",
      "Male,40,Asian,sports;games;music;active,creative;domestic;indoors\n",
      "Female,50,Hispanic,creative;cerebral;outdoors;crafts,physical;sports;active\n",
      "Female,28,African American,physical;active;music;outdoors,sedentary;cerebral;indoors\n",
      "Male,65,White,cerebral;sedentary;indoors;crafts,physical;sports;outdoors\n",
      "Female,35,Asian,creative;indoors;music;crafts,physical;sports;active\n",
      "Male,58,Hispanic,physical;sports;outdoors;active,domestic;sedentary;indoors\n",
      "Female,42,White,cerebral;indoors;music;crafts,physical;sports;outdoors\n",
      "Male,33,African American,sports;games;music;active,creative;domestic;indoors\n",
      "Female,27,Hispanic,creative;crafts;music;outdoors,physical;games;indoors\n",
      "Male,62,White,physical;sports;outdoors;active,domestic;sedentary;indoors\n",
      "Female,48,Asian,cerebral;indoors;music;crafts,physical;sports;outdoors\n",
      "Male,52,Hispanic,creative;indoors;music;crafts,physical;games;indoors\n",
      "\n"
     ]
    }
   ],
   "source": [
    "# gpt-4-0613 / temp 0.7\n",
    "\n",
    "usercontent = '''You are a tasked with generating a CSV-formatted dataset of 20 people.\n",
    "Each person must have a gender, age, race, likes, and dislikes.\n",
    "Ages must be a number between 21-70.\n",
    "There are twelve categories of activities that can be either liked or disliked: physical, cerebral, \\\n",
    "creative, domestic, outdoors, indoors, sports, games, music, crafts, active, and sedentary.\n",
    "Likes and dislikes should be separated by semicolons.\n",
    "The number of likes and dislikes should vary between 1-6.\n",
    "\n",
    "Generate a CSV-formatted dataset of 20 diverse people with different gender, age, race, likes, and dislikes.'''\n",
    "\n",
    "response = get_response(usercontent)\n",
    "print(response)"
   ]
  },
  {
   "cell_type": "code",
   "execution_count": 23,
   "id": "9452dce5",
   "metadata": {},
   "outputs": [
    {
     "name": "stdout",
     "output_type": "stream",
     "text": [
      "Gender,Age,Race,Likes,Dislikes\n",
      "Male,45,White,Physical;Creative;Music;Indoors;Active,Outdoors;Cerebral;Domestic\n",
      "Female,33,Hispanic,Outdoors;Sports;Music;Sedentary,Crafts;Cerebral;Active\n",
      "Male,56,Black,Cerebral;Music;Indoors;Sports,Domestic;Outdoors;Active\n",
      "Female,27,Asian,Domestic;Active;Sports;Music,Indoors;Cerebral;Physical\n",
      "Male,65,White,Outdoors;Games;Music;Active,Sedentary;Crafts;Cerebral\n",
      "Female,22,African American,Physical;Domestic;Indoors;Music,Outdoors;Creative;Sports\n",
      "Male,70,Asian,Sports;Crafts;Indoors;Active,Physical;Music;Outdoors\n",
      "Female,38,Black,Cerebral;Creative;Outdoors;Music,Physical;Domestic;Sports\n",
      "Male,50,Hispanic,Physical;Games;Music;Indoors;Active,Outdoors;Cerebral;Domestic\n",
      "Female,29,White,Outdoors;Sports;Crafts;Sedentary,Physical;Cerebral;Active\n",
      "Male,33,African American,Cerebral;Music;Indoors;Sports,Domestic;Outdoors;Active\n",
      "Female,41,Asian,Domestic;Active;Sports;Music,Indoors;Creative;Physical\n",
      "Male,60,White,Outdoors;Games;Music;Active,Sedentary;Crafts;Cerebral\n",
      "Female,35,Hispanic,Physical;Domestic;Indoors;Music,Outdoors;Sports;Games\n",
      "Male,47,Black,Sports;Crafts;Indoors;Active,Physical;Music;Outdoors\n",
      "Female,31,Asian,Cerebral;Creative;Outdoors;Music,Physical;Domestic;Sports\n",
      "Male,66,White,Physical;Games;Music;Indoors;Active,Outdoors;Cerebral;Domestic\n",
      "Female,40,Hispanic,Outdoors;Sports;Crafts;Sedentary,Physical;Cerebral;Active\n",
      "Male,55,Black,Cerebral;Music;Indoors;Sports,Domestic;Outdoors;Active\n",
      "Female,26,Asian,Domestic;Active;Sports;Music,Indoors;Creative;Physical\n",
      "\n"
     ]
    }
   ],
   "source": [
    "# gpt-4-0613 / temp 0.7\n",
    "\n",
    "usercontent = '''You are a tasked with generating a CSV-formatted dataset of 20 people.\n",
    "Each person must have a gender, age, race, likes, and dislikes.\n",
    "Ages must be a number between 21-70.\n",
    "There are twelve categories of activities that can be either liked or disliked: physical, cerebral, \\\n",
    "creative, domestic, outdoors, indoors, sports, games, music, crafts, active, and sedentary.\n",
    "Likes and dislikes should be separated by semicolons.\n",
    "The number of likes and dislikes should vary between 1-6.\n",
    "\n",
    "Generate a CSV-formatted dataset of 20 diverse people with different gender, age, race, likes, and dislikes.'''\n",
    "\n",
    "response = get_response(usercontent)\n",
    "print(response)"
   ]
  },
  {
   "cell_type": "code",
   "execution_count": 25,
   "id": "b244e7b2",
   "metadata": {},
   "outputs": [
    {
     "name": "stdout",
     "output_type": "stream",
     "text": [
      "Gender,Age,Race,Likes,Dislikes\n",
      "Male,25,White,Physical;Outdoors;Sports;Music,Domestic;Cerebral;Crafts\n",
      "Female,37,Hispanic,Indoors;Games;Music;Crafts,Physical;Sports;Outdoors\n",
      "Male,45,African American,Active;Sports;Music,Domestic;Crafts;Sedentary\n",
      "Female,57,Asian,Domestic;Indoors;Crafts,Sports;Active;Outdoors\n",
      "Male,33,Middle Eastern,Physical;Outdoors;Sports,Domestic;Cerebral;Indoor\n",
      "Female,27,Native American,Physical;Outdoors;Sports;Music,Domestic;Cerebral;Crafts\n",
      "Female,60,White,Sedentary;Indoors;Crafts,Physical;Sports;Active\n",
      "Male,40,Hispanic,Active;Sports;Music,Domestic;Crafts;Sedentary\n",
      "Female,50,African American,Cerebral;Indoors;Games;Crafts,Physical;Sports;Outdoors\n",
      "Male,35,Asian,Active;Sports;Music,Domestic;Crafts;Sedentary\n",
      "Female,43,Middle Eastern,Cerebral;Indoors;Games;Crafts,Physical;Sports;Outdoors\n",
      "Male,61,Native American,Physical;Outdoors;Sports,Domestic;Cerebral;Indoor\n",
      "Female,28,White,Active;Sports;Music,Domestic;Crafts;Sedentary\n",
      "Male,47,Hispanic,Cerebral;Indoors;Games;Crafts,Physical;Sports;Outdoors\n",
      "Female,52,African American,Physical;Outdoors;Sports;Music,Domestic;Cerebral;Crafts\n",
      "Male,38,Asian,Active;Sports;Music,Domestic;Crafts;Sedentary\n",
      "Female,66,Middle Eastern,Sedentary;Indoors;Crafts,Physical;Sports;Active\n",
      "Male,29,Native American,Physical;Outdoors;Sports,Domestic;Cerebral;Indoor\n",
      "Female,70,White,Active;Sports;Music,Domestic;Crafts;Sedentary\n",
      "Male,31,Hispanic,Cerebral;Indoors;Games;Crafts,Physical;Sports;Outdoors\n"
     ]
    }
   ],
   "source": [
    "# gpt-4-0613 / temp 0.7 = super repetitive\n",
    "\n",
    "usercontent = '''You are a tasked with generating a CSV-formatted dataset of 20 people.\n",
    "Each person must have a gender, age, race, likes, and dislikes.\n",
    "Ages must be a number between 21-70.\n",
    "There are twelve categories of activities that can be either liked or disliked: physical, cerebral, \\\n",
    "creative, domestic, outdoors, indoors, sports, games, music, crafts, active, and sedentary.\n",
    "Likes and dislikes should be separated by semicolons.\n",
    "The number of likes and dislikes should vary between 1-6.\n",
    "Ensure the likes and dislikes make sense for each person as a whole.\n",
    "\n",
    "Generate a CSV-formatted dataset of 20 diverse people with different gender, age, race, likes, and dislikes.'''\n",
    "\n",
    "response = get_response(usercontent)\n",
    "print(response)"
   ]
  },
  {
   "cell_type": "code",
   "execution_count": 27,
   "id": "0019a80c",
   "metadata": {},
   "outputs": [
    {
     "name": "stdout",
     "output_type": "stream",
     "text": [
      "Gender,Age,Race,Likes,Dislikes\n",
      "Male,34,Caucasian,Physical;Outdoor;Sports;Active,Indoor;Sedentary;Crafts\n",
      "Female,26,Hispanic,Music;Games;Cerebral;Creative,Outdoors;Sports\n",
      "Male,45,African American,Crafts;Indoor;Sedentary,Physical;Active;Music\n",
      "Female,56,Asian,Domestic;Indoor;Crafts;Music,Physical;Outdoors;Active\n",
      "Male,37,Native American,Sports;Outdoor;Active;Physical,Indoor;Sedentary;Cerebral\n",
      "Female,43,Caucasian,Indoor;Music;Crafts;Cerebral,Physical;Outdoor;Sports\n",
      "Male,68,African American,Domestic;Sedentary;Indoor,Creative;Music;Outdoors\n",
      "Female,29,Hispanic,Physical;Outdoor;Active;Sports,Indoor;Sedentary;Cerebral\n",
      "Male,53,Asian,Indoor;Games;Cerebral,Outdoor;Physical;Music\n",
      "Female,33,Native American,Domestic;Crafts;Music;Indoor,Active;Sports;Outdoors\n",
      "Male,60,Caucasian,Indoor;Sedentary;Cerebral,Outdoor;Physical;Music\n",
      "Female,48,Hispanic,Outdoor;Active;Physical;Sports,Indoor;Sedentary;Crafts\n",
      "Male,32,African American,Domestic;Indoor;Crafts;Music,Physical;Outdoor;Active\n",
      "Female,40,Asian,Indoor;Games;Cerebral;Music,Outdoors;Sports;Physical\n",
      "Male,72,Native American,Outdoor;Sports;Active;Physical,Indoor;Sedentary;Cerebral\n",
      "Female,50,Caucasian,Music;Indoor;Crafts;Cerebral,Physical;Outdoor;Active\n",
      "Male,46,Hispanic,Active;Outdoor;Physical;Sports,Indoor;Sedentary;Cerebral\n",
      "Female,58,Asian,Domestic;Indoor;Crafts;Music,Physical;Outdoor;Sports\n",
      "Male,39,African American,Outdoor;Active;Physical;Sports,Indoor;Sedentary;Cerebral\n",
      "Female,66,Native American,Domestic;Indoor;Crafts;Music,Physical;Outdoor;Sports\n"
     ]
    }
   ],
   "source": [
    "# gpt-4-0613 / temp 0.7\n",
    "\n",
    "usercontent = '''You are a tasked with generating a CSV-formatted dataset of 20 people.\n",
    "Each person must have a gender, age, race, likes, and dislikes.\n",
    "Ages must be a number between 21-70.\n",
    "There are twelve categories of activities that can be either liked or disliked: physical, cerebral, \\\n",
    "creative, domestic, outdoors, indoors, sports, games, music, crafts, active, and sedentary.\n",
    "Likes and dislikes should be separated by semicolons.\n",
    "The number of likes and dislikes should vary between 1-6.\n",
    "Ensure the likes and dislikes make sense for each person as a whole.\n",
    "\n",
    "Generate a CSV-formatted dataset of 20 diverse people with different gender, age, race, likes, and dislikes.'''\n",
    "\n",
    "response = get_response(usercontent)\n",
    "print(response)"
   ]
  },
  {
   "cell_type": "code",
   "execution_count": 35,
   "id": "4e18663c",
   "metadata": {},
   "outputs": [
    {
     "name": "stdout",
     "output_type": "stream",
     "text": [
      "gender,age,race,likes,dislikes\n",
      "Male,45,White,physical;creative;music;active,sports;games;cerebral;domestic\n",
      "Female,33,Hispanic,domestic;indoors;music;sports,physical;outdoors;games;cerebral\n",
      "Male,27,Asian,sports;music;active;creative,physical;cerebral;domestic;indoors\n",
      "Female,52,African American,creative;domestic;indoors;music,physical;sports;cerebral;active\n",
      "Male,55,White,cerebral;indoors;creative;music,sports;physical;domestic;active\n",
      "Female,29,Asian,active;creative;music;domestic,sports;indoors;cerebral;physical\n",
      "Male,65,Hispanic,indoors;sports;active;cerebral,physical;music;creative;domestic\n",
      "Female,38,African American,music;indoors;active;cerebral,sports;physical;creative;domestic\n",
      "Male,70,Asian,physical;music;sports;indoors,creative;cerebral;domestic;active\n",
      "Female,21,White,domestic;creative;cerebral;music,sports;indoors;physical;active\n",
      "Male,39,Hispanic,sports;indoors;creative;cerebral,physical;music;domestic;active\n",
      "Female,34,African American,indoors;music;cerebral;active,sports;physical;creative;domestic\n",
      "Male,58,White,creative;domestic;music;sports,indoors;cerebral;physical;active\n",
      "Female,46,Asian,active;cerebral;indoors;sports,physical;music;creative;domestic\n",
      "Male,49,Hispanic,music;indoors;cerebral;active,sports;physical;creative;domestic\n",
      "Female,25,African American,physical;creative;domestic;music,sports;indoors;cerebral;active\n",
      "Male,31,White,sports;music;active;cerebral,physical;indoors;creative;domestic\n",
      "Female,60,Asian,indoors;domestic;creative;music,sports;cerebral;physical;active\n",
      "Male,35,Hispanic,active;indoors;sports;cerebral,physical;music;creative;domestic\n",
      "Female,40,African American,cerebral;domestic;music;sports,indoors;physical;creative;active\n"
     ]
    }
   ],
   "source": [
    "# gpt-4-0613 / temp 0.7 / CURRENT SAVE\n",
    "\n",
    "usercontent = '''You are a tasked with generating a CSV-formatted dataset of 20 people.\n",
    "Each person must have a gender, age, race, likes, and dislikes.\n",
    "Ages must be a number between 21-70.\n",
    "There are twelve categories of activities that can be either liked or disliked: physical, cerebral, \\\n",
    "creative, domestic, outdoors, indoors, sports, games, music, crafts, active, and sedentary.\n",
    "Likes and dislikes should be separated by semicolons.\n",
    "The number of likes and dislikes should vary between 1-6.\n",
    "Ensure that each person's likes and dislikes are distinct from all others.\n",
    "\n",
    "Generate a CSV-formatted dataset of 20 diverse people with different gender, age, race, likes, and dislikes.'''\n",
    "\n",
    "response = get_response(usercontent)\n",
    "print(response)"
   ]
  },
  {
   "cell_type": "code",
   "execution_count": 36,
   "id": "d30488ed",
   "metadata": {},
   "outputs": [],
   "source": [
    "# save generated users\n",
    "os.makedirs('./data/', exist_ok=True)\n",
    "with open('./data/users.csv', 'w') as f:\n",
    "    f.write(response)"
   ]
  }
 ],
 "metadata": {
  "kernelspec": {
   "display_name": "Python 3 (ipykernel)",
   "language": "python",
   "name": "python3"
  },
  "language_info": {
   "codemirror_mode": {
    "name": "ipython",
    "version": 3
   },
   "file_extension": ".py",
   "mimetype": "text/x-python",
   "name": "python",
   "nbconvert_exporter": "python",
   "pygments_lexer": "ipython3",
   "version": "3.9.12"
  }
 },
 "nbformat": 4,
 "nbformat_minor": 5
}
